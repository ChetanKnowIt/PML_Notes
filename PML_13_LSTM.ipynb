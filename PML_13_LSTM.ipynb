{
  "nbformat": 4,
  "nbformat_minor": 0,
  "metadata": {
    "colab": {
      "provenance": [],
      "authorship_tag": "ABX9TyOtPkqto1j0fYdUgt4DrT3X",
      "include_colab_link": true
    },
    "kernelspec": {
      "name": "python3",
      "display_name": "Python 3"
    },
    "language_info": {
      "name": "python"
    }
  },
  "cells": [
    {
      "cell_type": "markdown",
      "metadata": {
        "id": "view-in-github",
        "colab_type": "text"
      },
      "source": [
        "<a href=\"https://colab.research.google.com/github/ChetanKnowIt/PML_Notes/blob/main/PML_13_LSTM.ipynb\" target=\"_parent\"><img src=\"https://colab.research.google.com/assets/colab-badge.svg\" alt=\"Open In Colab\"/></a>"
      ]
    },
    {
      "cell_type": "markdown",
      "source": [
        "# LSTM WITH TENSORFLOW FOR AUSGAS"
      ],
      "metadata": {
        "id": "UHdN78XRcpJ8"
      }
    },
    {
      "cell_type": "code",
      "execution_count": null,
      "metadata": {
        "colab": {
          "base_uri": "https://localhost:8080/"
        },
        "id": "eV_qqGQ6b_7m",
        "outputId": "c931f8db-04d2-45fa-88e6-b2271f8e1249"
      },
      "outputs": [
        {
          "output_type": "stream",
          "name": "stdout",
          "text": [
            "Mounted at /content/drive\n"
          ]
        }
      ],
      "source": [
        "from google.colab import drive\n",
        "drive.mount('/content/drive')\n"
      ]
    },
    {
      "cell_type": "code",
      "source": [
        "import numpy as np\n",
        "import matplotlib.pyplot as plt\n",
        "import pandas as pd\n",
        "from sklearn.metrics import mean_squared_error\n",
        "import tensorflow as tf\n"
      ],
      "metadata": {
        "id": "wTntdzjAcG0N"
      },
      "execution_count": null,
      "outputs": []
    },
    {
      "cell_type": "code",
      "source": [
        "aus_path = '/content/drive/MyDrive/Datasets/AusGas.csv'\n",
        "datasets_ts = pd.read_csv(aus_path)\n",
        "datasets_ts.head()"
      ],
      "metadata": {
        "colab": {
          "base_uri": "https://localhost:8080/",
          "height": 206
        },
        "id": "MGrwFf_2cSPs",
        "outputId": "ac27e3b0-f97d-4ffa-c970-0ebf38a07d13"
      },
      "execution_count": null,
      "outputs": [
        {
          "output_type": "execute_result",
          "data": {
            "text/plain": [
              "      Month  GasProd\n",
              "0  Jan-1956     1709\n",
              "1  Feb-1956     1646\n",
              "2  Mar-1956     1794\n",
              "3  Apr-1956     1878\n",
              "4  May-1956     2173"
            ],
            "text/html": [
              "\n",
              "  <div id=\"df-f88e91b8-7a55-40c6-9d5b-f854ac1e7efe\">\n",
              "    <div class=\"colab-df-container\">\n",
              "      <div>\n",
              "<style scoped>\n",
              "    .dataframe tbody tr th:only-of-type {\n",
              "        vertical-align: middle;\n",
              "    }\n",
              "\n",
              "    .dataframe tbody tr th {\n",
              "        vertical-align: top;\n",
              "    }\n",
              "\n",
              "    .dataframe thead th {\n",
              "        text-align: right;\n",
              "    }\n",
              "</style>\n",
              "<table border=\"1\" class=\"dataframe\">\n",
              "  <thead>\n",
              "    <tr style=\"text-align: right;\">\n",
              "      <th></th>\n",
              "      <th>Month</th>\n",
              "      <th>GasProd</th>\n",
              "    </tr>\n",
              "  </thead>\n",
              "  <tbody>\n",
              "    <tr>\n",
              "      <th>0</th>\n",
              "      <td>Jan-1956</td>\n",
              "      <td>1709</td>\n",
              "    </tr>\n",
              "    <tr>\n",
              "      <th>1</th>\n",
              "      <td>Feb-1956</td>\n",
              "      <td>1646</td>\n",
              "    </tr>\n",
              "    <tr>\n",
              "      <th>2</th>\n",
              "      <td>Mar-1956</td>\n",
              "      <td>1794</td>\n",
              "    </tr>\n",
              "    <tr>\n",
              "      <th>3</th>\n",
              "      <td>Apr-1956</td>\n",
              "      <td>1878</td>\n",
              "    </tr>\n",
              "    <tr>\n",
              "      <th>4</th>\n",
              "      <td>May-1956</td>\n",
              "      <td>2173</td>\n",
              "    </tr>\n",
              "  </tbody>\n",
              "</table>\n",
              "</div>\n",
              "      <button class=\"colab-df-convert\" onclick=\"convertToInteractive('df-f88e91b8-7a55-40c6-9d5b-f854ac1e7efe')\"\n",
              "              title=\"Convert this dataframe to an interactive table.\"\n",
              "              style=\"display:none;\">\n",
              "        \n",
              "  <svg xmlns=\"http://www.w3.org/2000/svg\" height=\"24px\"viewBox=\"0 0 24 24\"\n",
              "       width=\"24px\">\n",
              "    <path d=\"M0 0h24v24H0V0z\" fill=\"none\"/>\n",
              "    <path d=\"M18.56 5.44l.94 2.06.94-2.06 2.06-.94-2.06-.94-.94-2.06-.94 2.06-2.06.94zm-11 1L8.5 8.5l.94-2.06 2.06-.94-2.06-.94L8.5 2.5l-.94 2.06-2.06.94zm10 10l.94 2.06.94-2.06 2.06-.94-2.06-.94-.94-2.06-.94 2.06-2.06.94z\"/><path d=\"M17.41 7.96l-1.37-1.37c-.4-.4-.92-.59-1.43-.59-.52 0-1.04.2-1.43.59L10.3 9.45l-7.72 7.72c-.78.78-.78 2.05 0 2.83L4 21.41c.39.39.9.59 1.41.59.51 0 1.02-.2 1.41-.59l7.78-7.78 2.81-2.81c.8-.78.8-2.07 0-2.86zM5.41 20L4 18.59l7.72-7.72 1.47 1.35L5.41 20z\"/>\n",
              "  </svg>\n",
              "      </button>\n",
              "      \n",
              "  <style>\n",
              "    .colab-df-container {\n",
              "      display:flex;\n",
              "      flex-wrap:wrap;\n",
              "      gap: 12px;\n",
              "    }\n",
              "\n",
              "    .colab-df-convert {\n",
              "      background-color: #E8F0FE;\n",
              "      border: none;\n",
              "      border-radius: 50%;\n",
              "      cursor: pointer;\n",
              "      display: none;\n",
              "      fill: #1967D2;\n",
              "      height: 32px;\n",
              "      padding: 0 0 0 0;\n",
              "      width: 32px;\n",
              "    }\n",
              "\n",
              "    .colab-df-convert:hover {\n",
              "      background-color: #E2EBFA;\n",
              "      box-shadow: 0px 1px 2px rgba(60, 64, 67, 0.3), 0px 1px 3px 1px rgba(60, 64, 67, 0.15);\n",
              "      fill: #174EA6;\n",
              "    }\n",
              "\n",
              "    [theme=dark] .colab-df-convert {\n",
              "      background-color: #3B4455;\n",
              "      fill: #D2E3FC;\n",
              "    }\n",
              "\n",
              "    [theme=dark] .colab-df-convert:hover {\n",
              "      background-color: #434B5C;\n",
              "      box-shadow: 0px 1px 3px 1px rgba(0, 0, 0, 0.15);\n",
              "      filter: drop-shadow(0px 1px 2px rgba(0, 0, 0, 0.3));\n",
              "      fill: #FFFFFF;\n",
              "    }\n",
              "  </style>\n",
              "\n",
              "      <script>\n",
              "        const buttonEl =\n",
              "          document.querySelector('#df-f88e91b8-7a55-40c6-9d5b-f854ac1e7efe button.colab-df-convert');\n",
              "        buttonEl.style.display =\n",
              "          google.colab.kernel.accessAllowed ? 'block' : 'none';\n",
              "\n",
              "        async function convertToInteractive(key) {\n",
              "          const element = document.querySelector('#df-f88e91b8-7a55-40c6-9d5b-f854ac1e7efe');\n",
              "          const dataTable =\n",
              "            await google.colab.kernel.invokeFunction('convertToInteractive',\n",
              "                                                     [key], {});\n",
              "          if (!dataTable) return;\n",
              "\n",
              "          const docLinkHtml = 'Like what you see? Visit the ' +\n",
              "            '<a target=\"_blank\" href=https://colab.research.google.com/notebooks/data_table.ipynb>data table notebook</a>'\n",
              "            + ' to learn more about interactive tables.';\n",
              "          element.innerHTML = '';\n",
              "          dataTable['output_type'] = 'display_data';\n",
              "          await google.colab.output.renderOutput(dataTable, element);\n",
              "          const docLink = document.createElement('div');\n",
              "          docLink.innerHTML = docLinkHtml;\n",
              "          element.appendChild(docLink);\n",
              "        }\n",
              "      </script>\n",
              "    </div>\n",
              "  </div>\n",
              "  "
            ]
          },
          "metadata": {},
          "execution_count": 3
        }
      ]
    },
    {
      "cell_type": "code",
      "source": [
        "datasets_ts.shape"
      ],
      "metadata": {
        "colab": {
          "base_uri": "https://localhost:8080/"
        },
        "id": "592ZCzXmceYb",
        "outputId": "e67e6c9d-a675-46b9-ae25-b8aa979afccb"
      },
      "execution_count": null,
      "outputs": [
        {
          "output_type": "execute_result",
          "data": {
            "text/plain": [
              "(476, 2)"
            ]
          },
          "metadata": {},
          "execution_count": 4
        }
      ]
    },
    {
      "cell_type": "code",
      "source": [
        "datasets_ts.plot()\n",
        "plt.show()"
      ],
      "metadata": {
        "colab": {
          "base_uri": "https://localhost:8080/",
          "height": 265
        },
        "id": "KBsaZjZFchxm",
        "outputId": "86167687-c460-4370-8a52-5a5479290d51"
      },
      "execution_count": null,
      "outputs": [
        {
          "output_type": "display_data",
          "data": {
            "text/plain": [
              "<Figure size 432x288 with 1 Axes>"
            ],
            "image/png": "[encoded data removed]"
          },
          "metadata": {
            "needs_background": "light"
          }
        }
      ]
    },
    {
      "cell_type": "markdown",
      "source": [
        "### PART 1: PREPROCESSING"
      ],
      "metadata": {
        "id": "S3XGxx2y6KEt"
      }
    },
    {
      "cell_type": "code",
      "source": [
        "dataset_train = datasets_ts.iloc[:450, :]\n",
        "dataset_train.shape"
      ],
      "metadata": {
        "colab": {
          "base_uri": "https://localhost:8080/"
        },
        "id": "OzWRMi5WczSM",
        "outputId": "66f1217b-1c99-473f-db4c-5f5cfc27d447"
      },
      "execution_count": null,
      "outputs": [
        {
          "output_type": "execute_result",
          "data": {
            "text/plain": [
              "(450, 2)"
            ]
          },
          "metadata": {},
          "execution_count": 9
        }
      ]
    },
    {
      "cell_type": "code",
      "source": [
        "#converting pandas type data to numpy type as numpy type required for tensorflow\n",
        "training_set = dataset_train.iloc[:,1].values\n",
        "training_set[:5]"
      ],
      "metadata": {
        "colab": {
          "base_uri": "https://localhost:8080/"
        },
        "id": "sFuKirradTH6",
        "outputId": "7ae916da-18ff-4552-9981-7951f31bffab"
      },
      "execution_count": null,
      "outputs": [
        {
          "output_type": "execute_result",
          "data": {
            "text/plain": [
              "array([1709, 1646, 1794, 1878, 2173])"
            ]
          },
          "metadata": {},
          "execution_count": 10
        }
      ]
    },
    {
      "cell_type": "code",
      "source": [
        "training_set.shape"
      ],
      "metadata": {
        "colab": {
          "base_uri": "https://localhost:8080/"
        },
        "id": "BEGTDsCydiNp",
        "outputId": "7792e375-7b5b-49f7-f946-ca4cc1cc22df"
      },
      "execution_count": null,
      "outputs": [
        {
          "output_type": "execute_result",
          "data": {
            "text/plain": [
              "(450,)"
            ]
          },
          "metadata": {},
          "execution_count": 12
        }
      ]
    },
    {
      "cell_type": "code",
      "source": [
        "training_set[-1]"
      ],
      "metadata": {
        "colab": {
          "base_uri": "https://localhost:8080/"
        },
        "id": "azeeE4B0vppb",
        "outputId": "803b0e0e-d42e-441f-9acc-232e4bb101d7"
      },
      "execution_count": null,
      "outputs": [
        {
          "output_type": "execute_result",
          "data": {
            "text/plain": [
              "array([56977])"
            ]
          },
          "metadata": {},
          "execution_count": 56
        }
      ]
    },
    {
      "cell_type": "code",
      "source": [
        "training_set = training_set.reshape(-1,1)\n",
        "from sklearn.preprocessing import MinMaxScaler\n",
        "mm = MinMaxScaler()\n",
        "trn_set_scl = mm.fit_transform(training_set)\n",
        "print(trn_set_scl[:5])\n",
        "print(type(trn_set_scl))\n",
        "print(trn_set_scl.ndim)\n",
        "print(trn_set_scl.shape)"
      ],
      "metadata": {
        "colab": {
          "base_uri": "https://localhost:8080/"
        },
        "id": "qGu9hgfReLE4",
        "outputId": "0b2e940d-1cfd-4fb8-ff76-5b84b3bdaa07"
      },
      "execution_count": null,
      "outputs": [
        {
          "output_type": "stream",
          "name": "stdout",
          "text": [
            "[[0.00103697]\n",
            " [0.        ]\n",
            " [0.00243605]\n",
            " [0.00381868]\n",
            " [0.00867433]]\n",
            "<class 'numpy.ndarray'>\n",
            "2\n",
            "(450, 1)\n"
          ]
        }
      ]
    },
    {
      "cell_type": "code",
      "source": [
        "timesteps = 10\n",
        "trn_size = dataset_train.shape[0]\n",
        "trn_size"
      ],
      "metadata": {
        "colab": {
          "base_uri": "https://localhost:8080/"
        },
        "id": "VToLPCNnero3",
        "outputId": "57182750-541c-42d1-973b-7d93310a40f5"
      },
      "execution_count": null,
      "outputs": [
        {
          "output_type": "execute_result",
          "data": {
            "text/plain": [
              "450"
            ]
          },
          "metadata": {},
          "execution_count": 19
        }
      ]
    },
    {
      "cell_type": "code",
      "source": [],
      "metadata": {
        "id": "Vdmuq1DxvoYk"
      },
      "execution_count": null,
      "outputs": []
    },
    {
      "cell_type": "code",
      "source": [
        "X_train = []\n",
        "y_train = []\n",
        "for i in range(timesteps, trn_size):\n",
        "  X_train.append(trn_set_scl[i-timesteps:i, 0])\n",
        "  y_train.append(trn_set_scl[i,0])\n",
        "X_train, y_train = np.array(X_train), np.array(y_train)"
      ],
      "metadata": {
        "id": "122g5-oEe_DG"
      },
      "execution_count": null,
      "outputs": []
    },
    {
      "cell_type": "code",
      "source": [
        "X_train[:10]"
      ],
      "metadata": {
        "colab": {
          "base_uri": "https://localhost:8080/"
        },
        "id": "XET7n5-6fgfV",
        "outputId": "64b8e79a-fb20-49dd-d596-8eb7975595f3"
      },
      "execution_count": null,
      "outputs": [
        {
          "output_type": "execute_result",
          "data": {
            "text/plain": [
              "array([[0.00103697, 0.        , 0.00243605, 0.00381868, 0.00867433,\n",
              "        0.01111038, 0.01352997, 0.01267406, 0.00885538, 0.00781842],\n",
              "       [0.        , 0.00243605, 0.00381868, 0.00867433, 0.01111038,\n",
              "        0.01352997, 0.01267406, 0.00885538, 0.00781842, 0.0052013 ],\n",
              "       [0.00243605, 0.00381868, 0.00867433, 0.01111038, 0.01352997,\n",
              "        0.01267406, 0.00885538, 0.00781842, 0.0052013 , 0.00294631],\n",
              "       [0.00381868, 0.00867433, 0.01111038, 0.01352997, 0.01267406,\n",
              "        0.00885538, 0.00781842, 0.0052013 , 0.00294631, 0.00172828],\n",
              "       [0.00867433, 0.01111038, 0.01352997, 0.01267406, 0.00885538,\n",
              "        0.00781842, 0.0052013 , 0.00294631, 0.00172828, 0.00069131],\n",
              "       [0.01111038, 0.01352997, 0.01267406, 0.00885538, 0.00781842,\n",
              "        0.0052013 , 0.00294631, 0.00172828, 0.00069131, 0.00450999],\n",
              "       [0.01352997, 0.01267406, 0.00885538, 0.00781842, 0.0052013 ,\n",
              "        0.00294631, 0.00172828, 0.00069131, 0.00450999, 0.00485565],\n",
              "       [0.01267406, 0.00885538, 0.00781842, 0.0052013 , 0.00294631,\n",
              "        0.00172828, 0.00069131, 0.00450999, 0.00485565, 0.01094578],\n",
              "       [0.00885538, 0.00781842, 0.0052013 , 0.00294631, 0.00172828,\n",
              "        0.00069131, 0.00450999, 0.00485565, 0.01094578, 0.01041907],\n",
              "       [0.00781842, 0.0052013 , 0.00294631, 0.00172828, 0.00069131,\n",
              "        0.00450999, 0.00485565, 0.01094578, 0.01041907, 0.01632814]])"
            ]
          },
          "metadata": {},
          "execution_count": 30
        }
      ]
    },
    {
      "cell_type": "code",
      "source": [
        "print(X_train.shape)"
      ],
      "metadata": {
        "colab": {
          "base_uri": "https://localhost:8080/"
        },
        "id": "0MQ9zcXZfiIU",
        "outputId": "add55415-e9cf-4983-f6a1-322d00d8e21c"
      },
      "execution_count": null,
      "outputs": [
        {
          "output_type": "stream",
          "name": "stdout",
          "text": [
            "(440, 10)\n"
          ]
        }
      ]
    },
    {
      "cell_type": "code",
      "source": [
        "X_train.shape[0]"
      ],
      "metadata": {
        "colab": {
          "base_uri": "https://localhost:8080/"
        },
        "id": "eTQEqNNYio-H",
        "outputId": "fcdeb5ea-fad9-418a-efa9-38560659266e"
      },
      "execution_count": null,
      "outputs": [
        {
          "output_type": "execute_result",
          "data": {
            "text/plain": [
              "440"
            ]
          },
          "metadata": {},
          "execution_count": 36
        }
      ]
    },
    {
      "cell_type": "code",
      "source": [
        "X_train = np.reshape(X_train, (X_train.shape[0], X_train.shape[1], 1))\n",
        "X_train.shape"
      ],
      "metadata": {
        "colab": {
          "base_uri": "https://localhost:8080/"
        },
        "id": "6lI8oVt5e9L2",
        "outputId": "1d83438f-28fa-42bd-e5b2-6d7dd30d2732"
      },
      "execution_count": null,
      "outputs": [
        {
          "output_type": "execute_result",
          "data": {
            "text/plain": [
              "(440, 10, 1)"
            ]
          },
          "metadata": {},
          "execution_count": 40
        }
      ]
    },
    {
      "cell_type": "markdown",
      "source": [
        "### PART 2: BUILD RNN - LSTM \n",
        "[Wiki Page for LSTM](https://en.wikipedia.org/wiki/Long_short-term_memory)"
      ],
      "metadata": {
        "id": "5-mWXBPWkZyi"
      }
    },
    {
      "cell_type": "code",
      "source": [
        "import tensorflow as tf\n",
        "from tensorflow import keras"
      ],
      "metadata": {
        "id": "ZFjIILc2ehCX"
      },
      "execution_count": null,
      "outputs": []
    },
    {
      "cell_type": "code",
      "source": [
        "### INITIALIZE RNN\n",
        "tf.random.set_seed(seed = 2022)\n",
        "model = keras.Sequential([\n",
        "    keras.layers.LSTM(units = 100, return_sequences=True, \n",
        "                      input_shape=(X_train.shape[1], X_train.shape[2])),\n",
        "    keras.layers.LSTM(units = 70, return_sequences=True),\n",
        "    keras.layers.LSTM(units = 50), \n",
        "    keras.layers.Dense(1)                     \n",
        "])\n",
        "model.compile(optimizer= 'adam', loss = 'mean_squared_error')"
      ],
      "metadata": {
        "id": "AfM8jZRVkZcL"
      },
      "execution_count": null,
      "outputs": []
    },
    {
      "cell_type": "code",
      "source": [
        "model.fit(X_train, y_train, epochs = 50, batch_size= 25)"
      ],
      "metadata": {
        "colab": {
          "base_uri": "https://localhost:8080/"
        },
        "id": "Tr7Wek6aefMX",
        "outputId": "13e915cd-5175-4297-836d-5cda3fd9e3b6"
      },
      "execution_count": null,
      "outputs": [
        {
          "output_type": "stream",
          "name": "stdout",
          "text": [
            "Epoch 1/50\n",
            "18/18 [==============================] - 6s 22ms/step - loss: 0.0495\n",
            "Epoch 2/50\n",
            "18/18 [==============================] - 0s 20ms/step - loss: 0.0110\n",
            "Epoch 3/50\n",
            "18/18 [==============================] - 0s 20ms/step - loss: 0.0089\n",
            "Epoch 4/50\n",
            "18/18 [==============================] - 0s 22ms/step - loss: 0.0074\n",
            "Epoch 5/50\n",
            "18/18 [==============================] - 0s 20ms/step - loss: 0.0073\n",
            "Epoch 6/50\n",
            "18/18 [==============================] - 0s 21ms/step - loss: 0.0072\n",
            "Epoch 7/50\n",
            "18/18 [==============================] - 0s 21ms/step - loss: 0.0073\n",
            "Epoch 8/50\n",
            "18/18 [==============================] - 0s 21ms/step - loss: 0.0075\n",
            "Epoch 9/50\n",
            "18/18 [==============================] - 0s 21ms/step - loss: 0.0072\n",
            "Epoch 10/50\n",
            "18/18 [==============================] - 0s 20ms/step - loss: 0.0077\n",
            "Epoch 11/50\n",
            "18/18 [==============================] - 0s 20ms/step - loss: 0.0087\n",
            "Epoch 12/50\n",
            "18/18 [==============================] - 0s 22ms/step - loss: 0.0080\n",
            "Epoch 13/50\n",
            "18/18 [==============================] - 0s 20ms/step - loss: 0.0074\n",
            "Epoch 14/50\n",
            "18/18 [==============================] - 0s 20ms/step - loss: 0.0072\n",
            "Epoch 15/50\n",
            "18/18 [==============================] - 0s 20ms/step - loss: 0.0071\n",
            "Epoch 16/50\n",
            "18/18 [==============================] - 0s 20ms/step - loss: 0.0076\n",
            "Epoch 17/50\n",
            "18/18 [==============================] - 0s 21ms/step - loss: 0.0074\n",
            "Epoch 18/50\n",
            "18/18 [==============================] - 0s 20ms/step - loss: 0.0085\n",
            "Epoch 19/50\n",
            "18/18 [==============================] - 0s 20ms/step - loss: 0.0073\n",
            "Epoch 20/50\n",
            "18/18 [==============================] - 0s 21ms/step - loss: 0.0072\n",
            "Epoch 21/50\n",
            "18/18 [==============================] - 0s 21ms/step - loss: 0.0071\n",
            "Epoch 22/50\n",
            "18/18 [==============================] - 0s 21ms/step - loss: 0.0076\n",
            "Epoch 23/50\n",
            "18/18 [==============================] - 0s 22ms/step - loss: 0.0073\n",
            "Epoch 24/50\n",
            "18/18 [==============================] - 0s 20ms/step - loss: 0.0068\n",
            "Epoch 25/50\n",
            "18/18 [==============================] - 0s 21ms/step - loss: 0.0070\n",
            "Epoch 26/50\n",
            "18/18 [==============================] - 0s 20ms/step - loss: 0.0066\n",
            "Epoch 27/50\n",
            "18/18 [==============================] - 0s 20ms/step - loss: 0.0067\n",
            "Epoch 28/50\n",
            "18/18 [==============================] - 0s 22ms/step - loss: 0.0069\n",
            "Epoch 29/50\n",
            "18/18 [==============================] - 0s 20ms/step - loss: 0.0069\n",
            "Epoch 30/50\n",
            "18/18 [==============================] - 0s 20ms/step - loss: 0.0065\n",
            "Epoch 31/50\n",
            "18/18 [==============================] - 0s 20ms/step - loss: 0.0067\n",
            "Epoch 32/50\n",
            "18/18 [==============================] - 0s 21ms/step - loss: 0.0064\n",
            "Epoch 33/50\n",
            "18/18 [==============================] - 0s 20ms/step - loss: 0.0058\n",
            "Epoch 34/50\n",
            "18/18 [==============================] - 0s 21ms/step - loss: 0.0064\n",
            "Epoch 35/50\n",
            "18/18 [==============================] - 0s 21ms/step - loss: 0.0056\n",
            "Epoch 36/50\n",
            "18/18 [==============================] - 0s 21ms/step - loss: 0.0051\n",
            "Epoch 37/50\n",
            "18/18 [==============================] - 0s 20ms/step - loss: 0.0040\n",
            "Epoch 38/50\n",
            "18/18 [==============================] - 0s 20ms/step - loss: 0.0033\n",
            "Epoch 39/50\n",
            "18/18 [==============================] - 0s 21ms/step - loss: 0.0031\n",
            "Epoch 40/50\n",
            "18/18 [==============================] - 0s 20ms/step - loss: 0.0023\n",
            "Epoch 41/50\n",
            "18/18 [==============================] - 0s 21ms/step - loss: 0.0018\n",
            "Epoch 42/50\n",
            "18/18 [==============================] - 0s 21ms/step - loss: 0.0019\n",
            "Epoch 43/50\n",
            "18/18 [==============================] - 0s 20ms/step - loss: 0.0022\n",
            "Epoch 44/50\n",
            "18/18 [==============================] - 0s 21ms/step - loss: 0.0017\n",
            "Epoch 45/50\n",
            "18/18 [==============================] - 0s 21ms/step - loss: 0.0019\n",
            "Epoch 46/50\n",
            "18/18 [==============================] - 0s 20ms/step - loss: 0.0015\n",
            "Epoch 47/50\n",
            "18/18 [==============================] - 0s 21ms/step - loss: 0.0013\n",
            "Epoch 48/50\n",
            "18/18 [==============================] - 0s 20ms/step - loss: 0.0013\n",
            "Epoch 49/50\n",
            "18/18 [==============================] - 0s 20ms/step - loss: 0.0014\n",
            "Epoch 50/50\n",
            "18/18 [==============================] - 0s 21ms/step - loss: 0.0013\n"
          ]
        },
        {
          "output_type": "execute_result",
          "data": {
            "text/plain": [
              "<keras.callbacks.History at 0x7fd728dcb1f0>"
            ]
          },
          "metadata": {},
          "execution_count": 47
        }
      ]
    },
    {
      "cell_type": "markdown",
      "source": [
        "### Part 3: RESULTS"
      ],
      "metadata": {
        "id": "ArhXCMzIrrf-"
      }
    },
    {
      "cell_type": "code",
      "source": [
        "dataset_test = datasets_ts.iloc[450:,:]\n",
        "dataset_test.shape"
      ],
      "metadata": {
        "colab": {
          "base_uri": "https://localhost:8080/"
        },
        "id": "F1irLa9Fl-c2",
        "outputId": "a7114472-8603-4135-8a5f-20c916ec2350"
      },
      "execution_count": null,
      "outputs": [
        {
          "output_type": "execute_result",
          "data": {
            "text/plain": [
              "(26, 2)"
            ]
          },
          "metadata": {},
          "execution_count": 50
        }
      ]
    },
    {
      "cell_type": "code",
      "source": [
        "test_set = dataset_test.iloc[:, 1].values\n",
        "test_set"
      ],
      "metadata": {
        "colab": {
          "base_uri": "https://localhost:8080/"
        },
        "id": "8HObKDjcsd_o",
        "outputId": "16a70f79-b470-4091-a3db-d74153724816"
      },
      "execution_count": null,
      "outputs": [
        {
          "output_type": "execute_result",
          "data": {
            "text/plain": [
              "array([56807, 54634, 51367, 48073, 46251, 43736, 39975, 40478, 46895,\n",
              "       46147, 55011, 57799, 62450, 63896, 57784, 53231, 50354, 38410,\n",
              "       41600, 41471, 46287, 49013, 56624, 61739, 66600, 60054])"
            ]
          },
          "metadata": {},
          "execution_count": 51
        }
      ]
    },
    {
      "cell_type": "code",
      "source": [
        "dataset_total = pd.concat((dataset_train['GasProd'], dataset_test['GasProd']), axis = 0)\n",
        "dataset_total"
      ],
      "metadata": {
        "colab": {
          "base_uri": "https://localhost:8080/"
        },
        "id": "SiIHBXVMsqgI",
        "outputId": "5a58f7ba-be6a-4695-982d-965a347609a0"
      },
      "execution_count": null,
      "outputs": [
        {
          "output_type": "execute_result",
          "data": {
            "text/plain": [
              "0       1709\n",
              "1       1646\n",
              "2       1794\n",
              "3       1878\n",
              "4       2173\n",
              "       ...  \n",
              "471    49013\n",
              "472    56624\n",
              "473    61739\n",
              "474    66600\n",
              "475    60054\n",
              "Name: GasProd, Length: 476, dtype: int64"
            ]
          },
          "metadata": {},
          "execution_count": 52
        }
      ]
    },
    {
      "cell_type": "code",
      "source": [
        "dataset_total.shape"
      ],
      "metadata": {
        "colab": {
          "base_uri": "https://localhost:8080/"
        },
        "id": "klHrbJAnxDB3",
        "outputId": "9de068b2-76bb-44b9-e584-329ed1e9913c"
      },
      "execution_count": null,
      "outputs": [
        {
          "output_type": "execute_result",
          "data": {
            "text/plain": [
              "(476,)"
            ]
          },
          "metadata": {},
          "execution_count": 61
        }
      ]
    },
    {
      "cell_type": "code",
      "source": [
        "# we take 10 extra from train set to get them as part of test set\n",
        "inputs = dataset_total[len(dataset_total) - len(dataset_test) - timesteps:].values\n",
        "inputs = inputs.reshape(-1, 1)\n",
        "len(inputs)\n",
        "print(inputs.shape)"
      ],
      "metadata": {
        "colab": {
          "base_uri": "https://localhost:8080/"
        },
        "id": "XFX7k4BNsbbo",
        "outputId": "181a6099-72b9-4b6a-ce9f-22f87b78179c"
      },
      "execution_count": null,
      "outputs": [
        {
          "output_type": "stream",
          "name": "stdout",
          "text": [
            "(36, 1)\n"
          ]
        }
      ]
    },
    {
      "cell_type": "code",
      "source": [
        "inputs_scl = mm.transform(inputs)\n",
        "X_test = []\n",
        "for i in range(timesteps, len(inputs_scl)):\n",
        "  X_test.append(inputs_scl[i-timesteps:i,0])\n",
        "X_test = np.array(X_test)\n",
        "X_test = np.reshape(X_test, (X_test.shape[0], X_test.shape[1],1))\n",
        "X_test.shape"
      ],
      "metadata": {
        "colab": {
          "base_uri": "https://localhost:8080/"
        },
        "id": "0iZlqmkTv5DK",
        "outputId": "38865547-f2fc-42b1-b1b5-1953cdecd7e1"
      },
      "execution_count": null,
      "outputs": [
        {
          "output_type": "execute_result",
          "data": {
            "text/plain": [
              "(26, 10, 1)"
            ]
          },
          "metadata": {},
          "execution_count": 63
        }
      ]
    },
    {
      "cell_type": "code",
      "source": [
        "len(X_test)"
      ],
      "metadata": {
        "colab": {
          "base_uri": "https://localhost:8080/"
        },
        "id": "xnqIwDmAwifu",
        "outputId": "083cdd8a-4153-4476-9a41-1be0c79da9a1"
      },
      "execution_count": null,
      "outputs": [
        {
          "output_type": "execute_result",
          "data": {
            "text/plain": [
              "26"
            ]
          },
          "metadata": {},
          "execution_count": 64
        }
      ]
    },
    {
      "cell_type": "code",
      "source": [
        "predicted_values = model.predict(X_test)\n",
        "predicted_values"
      ],
      "metadata": {
        "colab": {
          "base_uri": "https://localhost:8080/"
        },
        "id": "vYz8-mHdw3Ju",
        "outputId": "d39cb30b-8201-45ae-b28a-432454067f04"
      },
      "execution_count": null,
      "outputs": [
        {
          "output_type": "stream",
          "name": "stdout",
          "text": [
            "1/1 [==============================] - 1s 1s/step\n"
          ]
        },
        {
          "output_type": "execute_result",
          "data": {
            "text/plain": [
              "array([[0.9448642 ],\n",
              "       [0.9393854 ],\n",
              "       [0.84788895],\n",
              "       [0.7300566 ],\n",
              "       [0.6365161 ],\n",
              "       [0.59788865],\n",
              "       [0.5923539 ],\n",
              "       [0.62368196],\n",
              "       [0.65269816],\n",
              "       [0.7293409 ],\n",
              "       [0.78864384],\n",
              "       [0.87034726],\n",
              "       [0.91909623],\n",
              "       [0.9322104 ],\n",
              "       [0.9092065 ],\n",
              "       [0.82623047],\n",
              "       [0.734792  ],\n",
              "       [0.6868149 ],\n",
              "       [0.61729074],\n",
              "       [0.59133595],\n",
              "       [0.6262625 ],\n",
              "       [0.7192022 ],\n",
              "       [0.8436632 ],\n",
              "       [0.96191865],\n",
              "       [1.0090406 ],\n",
              "       [1.0018649 ]], dtype=float32)"
            ]
          },
          "metadata": {},
          "execution_count": 65
        }
      ]
    },
    {
      "cell_type": "code",
      "source": [
        "predicted_values.shape"
      ],
      "metadata": {
        "colab": {
          "base_uri": "https://localhost:8080/"
        },
        "id": "9ibx4KIeyUw7",
        "outputId": "5fcb0df6-8655-4b1c-d7cf-01a825451859"
      },
      "execution_count": null,
      "outputs": [
        {
          "output_type": "execute_result",
          "data": {
            "text/plain": [
              "(26, 1)"
            ]
          },
          "metadata": {},
          "execution_count": 66
        }
      ]
    },
    {
      "cell_type": "code",
      "source": [
        "predicted_values = mm.inverse_transform( predicted_values)\n"
      ],
      "metadata": {
        "id": "wbWedo7ByXrb"
      },
      "execution_count": null,
      "outputs": []
    },
    {
      "cell_type": "code",
      "source": [
        "plt.plot(test_set, color = 'red', label = 'Real Gas Prod')\n",
        "plt.plot(predicted_values, color = 'blue', label = 'Predicted Gas Prod')\n",
        "plt.title('Gas Prod Prediction')\n",
        "plt.xlabel('Time')\n",
        "plt.ylabel('Gas Production')\n",
        "plt.legend()\n",
        "plt.show()"
      ],
      "metadata": {
        "colab": {
          "base_uri": "https://localhost:8080/",
          "height": 295
        },
        "id": "iYJhmi9JypGa",
        "outputId": "91376ac0-1795-4ca2-bfde-fcaf5ae1660b"
      },
      "execution_count": null,
      "outputs": [
        {
          "output_type": "display_data",
          "data": {
            "text/plain": [
              "<Figure size 432x288 with 1 Axes>"
            ],
            "image/png": "[encoded data removed]"
          },
          "metadata": {
            "needs_background": "light"
          }
        }
      ]
    },
    {
      "cell_type": "code",
      "source": [
        "np.sqrt(mean_squared_error(predicted_values, test_set))"
      ],
      "metadata": {
        "colab": {
          "base_uri": "https://localhost:8080/"
        },
        "id": "v4bP5gls07oY",
        "outputId": "9aed470f-e4e1-482a-d29b-bda78314b5ed"
      },
      "execution_count": null,
      "outputs": [
        {
          "output_type": "execute_result",
          "data": {
            "text/plain": [
              "3873.1714158644168"
            ]
          },
          "metadata": {},
          "execution_count": 71
        }
      ]
    },
    {
      "cell_type": "markdown",
      "source": [
        "# LSTM with FRED-NROUST.csv"
      ],
      "metadata": {
        "id": "DzfPs7d602ea"
      }
    },
    {
      "cell_type": "code",
      "source": [
        "aus_path = '/content/drive/MyDrive/Datasets/FRED-NROUST.csv'\n",
        "datasets_ts = pd.read_csv(aus_path)\n",
        "datasets_ts.head()"
      ],
      "metadata": {
        "colab": {
          "base_uri": "https://localhost:8080/",
          "height": 206
        },
        "id": "ECrhkMlfz71m",
        "outputId": "05c8b303-2bc8-4ea7-f34f-fcfe83f8cf1b"
      },
      "execution_count": null,
      "outputs": [
        {
          "output_type": "execute_result",
          "data": {
            "text/plain": [
              "         Date     Value\n",
              "0  01-01-1949  5.255053\n",
              "1  01-04-1949  5.261516\n",
              "2  01-07-1949  5.268013\n",
              "3  01-10-1949  5.274564\n",
              "4  01-01-1950  5.281182"
            ],
            "text/html": [
              "\n",
              "  <div id=\"df-9e9ee7ee-f41e-4fa4-baaf-bc5c4c2146e2\">\n",
              "    <div class=\"colab-df-container\">\n",
              "      <div>\n",
              "<style scoped>\n",
              "    .dataframe tbody tr th:only-of-type {\n",
              "        vertical-align: middle;\n",
              "    }\n",
              "\n",
              "    .dataframe tbody tr th {\n",
              "        vertical-align: top;\n",
              "    }\n",
              "\n",
              "    .dataframe thead th {\n",
              "        text-align: right;\n",
              "    }\n",
              "</style>\n",
              "<table border=\"1\" class=\"dataframe\">\n",
              "  <thead>\n",
              "    <tr style=\"text-align: right;\">\n",
              "      <th></th>\n",
              "      <th>Date</th>\n",
              "      <th>Value</th>\n",
              "    </tr>\n",
              "  </thead>\n",
              "  <tbody>\n",
              "    <tr>\n",
              "      <th>0</th>\n",
              "      <td>01-01-1949</td>\n",
              "      <td>5.255053</td>\n",
              "    </tr>\n",
              "    <tr>\n",
              "      <th>1</th>\n",
              "      <td>01-04-1949</td>\n",
              "      <td>5.261516</td>\n",
              "    </tr>\n",
              "    <tr>\n",
              "      <th>2</th>\n",
              "      <td>01-07-1949</td>\n",
              "      <td>5.268013</td>\n",
              "    </tr>\n",
              "    <tr>\n",
              "      <th>3</th>\n",
              "      <td>01-10-1949</td>\n",
              "      <td>5.274564</td>\n",
              "    </tr>\n",
              "    <tr>\n",
              "      <th>4</th>\n",
              "      <td>01-01-1950</td>\n",
              "      <td>5.281182</td>\n",
              "    </tr>\n",
              "  </tbody>\n",
              "</table>\n",
              "</div>\n",
              "      <button class=\"colab-df-convert\" onclick=\"convertToInteractive('df-9e9ee7ee-f41e-4fa4-baaf-bc5c4c2146e2')\"\n",
              "              title=\"Convert this dataframe to an interactive table.\"\n",
              "              style=\"display:none;\">\n",
              "        \n",
              "  <svg xmlns=\"http://www.w3.org/2000/svg\" height=\"24px\"viewBox=\"0 0 24 24\"\n",
              "       width=\"24px\">\n",
              "    <path d=\"M0 0h24v24H0V0z\" fill=\"none\"/>\n",
              "    <path d=\"M18.56 5.44l.94 2.06.94-2.06 2.06-.94-2.06-.94-.94-2.06-.94 2.06-2.06.94zm-11 1L8.5 8.5l.94-2.06 2.06-.94-2.06-.94L8.5 2.5l-.94 2.06-2.06.94zm10 10l.94 2.06.94-2.06 2.06-.94-2.06-.94-.94-2.06-.94 2.06-2.06.94z\"/><path d=\"M17.41 7.96l-1.37-1.37c-.4-.4-.92-.59-1.43-.59-.52 0-1.04.2-1.43.59L10.3 9.45l-7.72 7.72c-.78.78-.78 2.05 0 2.83L4 21.41c.39.39.9.59 1.41.59.51 0 1.02-.2 1.41-.59l7.78-7.78 2.81-2.81c.8-.78.8-2.07 0-2.86zM5.41 20L4 18.59l7.72-7.72 1.47 1.35L5.41 20z\"/>\n",
              "  </svg>\n",
              "      </button>\n",
              "      \n",
              "  <style>\n",
              "    .colab-df-container {\n",
              "      display:flex;\n",
              "      flex-wrap:wrap;\n",
              "      gap: 12px;\n",
              "    }\n",
              "\n",
              "    .colab-df-convert {\n",
              "      background-color: #E8F0FE;\n",
              "      border: none;\n",
              "      border-radius: 50%;\n",
              "      cursor: pointer;\n",
              "      display: none;\n",
              "      fill: #1967D2;\n",
              "      height: 32px;\n",
              "      padding: 0 0 0 0;\n",
              "      width: 32px;\n",
              "    }\n",
              "\n",
              "    .colab-df-convert:hover {\n",
              "      background-color: #E2EBFA;\n",
              "      box-shadow: 0px 1px 2px rgba(60, 64, 67, 0.3), 0px 1px 3px 1px rgba(60, 64, 67, 0.15);\n",
              "      fill: #174EA6;\n",
              "    }\n",
              "\n",
              "    [theme=dark] .colab-df-convert {\n",
              "      background-color: #3B4455;\n",
              "      fill: #D2E3FC;\n",
              "    }\n",
              "\n",
              "    [theme=dark] .colab-df-convert:hover {\n",
              "      background-color: #434B5C;\n",
              "      box-shadow: 0px 1px 3px 1px rgba(0, 0, 0, 0.15);\n",
              "      filter: drop-shadow(0px 1px 2px rgba(0, 0, 0, 0.3));\n",
              "      fill: #FFFFFF;\n",
              "    }\n",
              "  </style>\n",
              "\n",
              "      <script>\n",
              "        const buttonEl =\n",
              "          document.querySelector('#df-9e9ee7ee-f41e-4fa4-baaf-bc5c4c2146e2 button.colab-df-convert');\n",
              "        buttonEl.style.display =\n",
              "          google.colab.kernel.accessAllowed ? 'block' : 'none';\n",
              "\n",
              "        async function convertToInteractive(key) {\n",
              "          const element = document.querySelector('#df-9e9ee7ee-f41e-4fa4-baaf-bc5c4c2146e2');\n",
              "          const dataTable =\n",
              "            await google.colab.kernel.invokeFunction('convertToInteractive',\n",
              "                                                     [key], {});\n",
              "          if (!dataTable) return;\n",
              "\n",
              "          const docLinkHtml = 'Like what you see? Visit the ' +\n",
              "            '<a target=\"_blank\" href=https://colab.research.google.com/notebooks/data_table.ipynb>data table notebook</a>'\n",
              "            + ' to learn more about interactive tables.';\n",
              "          element.innerHTML = '';\n",
              "          dataTable['output_type'] = 'display_data';\n",
              "          await google.colab.output.renderOutput(dataTable, element);\n",
              "          const docLink = document.createElement('div');\n",
              "          docLink.innerHTML = docLinkHtml;\n",
              "          element.appendChild(docLink);\n",
              "        }\n",
              "      </script>\n",
              "    </div>\n",
              "  </div>\n",
              "  "
            ]
          },
          "metadata": {},
          "execution_count": 95
        }
      ]
    },
    {
      "cell_type": "code",
      "source": [
        "datasets_ts.info()"
      ],
      "metadata": {
        "colab": {
          "base_uri": "https://localhost:8080/"
        },
        "id": "E8gP3sVH4R5K",
        "outputId": "3f7c7394-861f-4d39-e250-006a57074688"
      },
      "execution_count": null,
      "outputs": [
        {
          "output_type": "stream",
          "name": "stdout",
          "text": [
            "<class 'pandas.core.frame.DataFrame'>\n",
            "RangeIndex: 296 entries, 0 to 295\n",
            "Data columns (total 2 columns):\n",
            " #   Column  Non-Null Count  Dtype  \n",
            "---  ------  --------------  -----  \n",
            " 0   Date    296 non-null    object \n",
            " 1   Value   296 non-null    float64\n",
            "dtypes: float64(1), object(1)\n",
            "memory usage: 4.8+ KB\n"
          ]
        }
      ]
    },
    {
      "cell_type": "code",
      "source": [
        "### PREPROCESSING\n",
        "datasets_ts.shape"
      ],
      "metadata": {
        "colab": {
          "base_uri": "https://localhost:8080/"
        },
        "id": "CQF8m-fB1P-k",
        "outputId": "abbc7d9e-8e99-45dd-c772-25469d6d0030"
      },
      "execution_count": null,
      "outputs": [
        {
          "output_type": "execute_result",
          "data": {
            "text/plain": [
              "(296, 2)"
            ]
          },
          "metadata": {},
          "execution_count": 96
        }
      ]
    },
    {
      "cell_type": "code",
      "source": [
        "dataset_train = datasets_ts.iloc[:288, :]\n",
        "dataset_train.shape"
      ],
      "metadata": {
        "colab": {
          "base_uri": "https://localhost:8080/"
        },
        "outputId": "855c72e0-99f7-4ac0-8cfe-92e275a903f2",
        "id": "nHlaCXwd1g16"
      },
      "execution_count": null,
      "outputs": [
        {
          "output_type": "execute_result",
          "data": {
            "text/plain": [
              "(288, 2)"
            ]
          },
          "metadata": {},
          "execution_count": 97
        }
      ]
    },
    {
      "cell_type": "code",
      "source": [
        "#converting pandas type data to numpy type as numpy type required for tensorflow\n",
        "training_set = dataset_train.iloc[:,1].values\n",
        "training_set[:5]"
      ],
      "metadata": {
        "colab": {
          "base_uri": "https://localhost:8080/"
        },
        "outputId": "f93a95b0-8bb7-454a-c440-99fa9d3c4e31",
        "id": "A9pgAnDQ1g17"
      },
      "execution_count": null,
      "outputs": [
        {
          "output_type": "execute_result",
          "data": {
            "text/plain": [
              "array([5.25505257, 5.26151562, 5.268013  , 5.274564  , 5.281182  ])"
            ]
          },
          "metadata": {},
          "execution_count": 98
        }
      ]
    },
    {
      "cell_type": "code",
      "source": [
        "training_set.shape"
      ],
      "metadata": {
        "colab": {
          "base_uri": "https://localhost:8080/"
        },
        "outputId": "496e3605-4bce-4674-efe1-fa27ffc04e93",
        "id": "1WESepdA1g17"
      },
      "execution_count": null,
      "outputs": [
        {
          "output_type": "execute_result",
          "data": {
            "text/plain": [
              "(288,)"
            ]
          },
          "metadata": {},
          "execution_count": 99
        }
      ]
    },
    {
      "cell_type": "code",
      "source": [
        "training_set[-1]"
      ],
      "metadata": {
        "colab": {
          "base_uri": "https://localhost:8080/"
        },
        "outputId": "a76f292c-4796-4729-c42b-203ebe596459",
        "id": "CB-gokgJ1g18"
      },
      "execution_count": null,
      "outputs": [
        {
          "output_type": "execute_result",
          "data": {
            "text/plain": [
              "4.480756"
            ]
          },
          "metadata": {},
          "execution_count": 100
        }
      ]
    },
    {
      "cell_type": "code",
      "source": [
        "training_set = training_set.reshape(-1,1)\n",
        "from sklearn.preprocessing import MinMaxScaler\n",
        "mm = MinMaxScaler()\n",
        "trn_set_scl = mm.fit_transform(training_set)\n",
        "print(trn_set_scl[:5])\n",
        "print(type(trn_set_scl))\n",
        "print(trn_set_scl.ndim)\n",
        "print(trn_set_scl.shape)"
      ],
      "metadata": {
        "colab": {
          "base_uri": "https://localhost:8080/"
        },
        "outputId": "6cd77a3f-cfc2-4863-8a7e-e1ae0d090ca3",
        "id": "k-y9K2pF1g18"
      },
      "execution_count": null,
      "outputs": [
        {
          "output_type": "stream",
          "name": "stdout",
          "text": [
            "[[0.44014855]\n",
            " [0.44382247]\n",
            " [0.4475159 ]\n",
            " [0.45123982]\n",
            " [0.45500182]]\n",
            "<class 'numpy.ndarray'>\n",
            "2\n",
            "(288, 1)\n"
          ]
        }
      ]
    },
    {
      "cell_type": "code",
      "source": [
        "X_train = []\n",
        "y_train = []\n",
        "timesteps = 5\n",
        "trn_size = dataset_train.shape[0]\n",
        "for i in range(timesteps, trn_size):\n",
        "  X_train.append(trn_set_scl[i-timesteps:i, 0])\n",
        "  y_train.append(trn_set_scl[i,0])\n",
        "X_train, y_train = np.array(X_train), np.array(y_train)"
      ],
      "metadata": {
        "id": "_isUMoW11g19"
      },
      "execution_count": null,
      "outputs": []
    },
    {
      "cell_type": "code",
      "source": [
        "X_train = np.reshape(X_train, (X_train.shape[0], X_train.shape[1], 1))\n",
        "X_train.shape"
      ],
      "metadata": {
        "colab": {
          "base_uri": "https://localhost:8080/"
        },
        "outputId": "8dccd2a1-3f0b-46b3-9864-21a85355aea5",
        "id": "HxWXK43o1g19"
      },
      "execution_count": null,
      "outputs": [
        {
          "output_type": "execute_result",
          "data": {
            "text/plain": [
              "(283, 5, 1)"
            ]
          },
          "metadata": {},
          "execution_count": 103
        }
      ]
    },
    {
      "cell_type": "code",
      "source": [
        "import tensorflow as tf\n",
        "from tensorflow import keras"
      ],
      "metadata": {
        "id": "MFPujQxV3sO1"
      },
      "execution_count": null,
      "outputs": []
    },
    {
      "cell_type": "code",
      "source": [
        "### INITIALIZE RNN\n",
        "tf.random.set_seed(seed = 2022)\n",
        "model = keras.Sequential([\n",
        "    keras.layers.LSTM(units = 100, return_sequences=True, \n",
        "                      input_shape=(X_train.shape[1], X_train.shape[2])),\n",
        "    keras.layers.LSTM(units = 70, return_sequences=True),\n",
        "    keras.layers.LSTM(units = 50), \n",
        "    keras.layers.Dense(1)                     \n",
        "])\n",
        "model.compile(optimizer= 'adam', loss = 'mean_squared_error')"
      ],
      "metadata": {
        "id": "mZW9INDA3sO1"
      },
      "execution_count": null,
      "outputs": []
    },
    {
      "cell_type": "code",
      "source": [
        "model.fit(X_train, y_train, epochs = 50, batch_size= 25)"
      ],
      "metadata": {
        "colab": {
          "base_uri": "https://localhost:8080/"
        },
        "outputId": "4ce90893-ae3a-4cab-8708-bccec71407bf",
        "id": "7haIg-dP3sO1"
      },
      "execution_count": null,
      "outputs": [
        {
          "output_type": "stream",
          "name": "stdout",
          "text": [
            "Epoch 1/50\n",
            "12/12 [==============================] - 6s 14ms/step - loss: 0.2336\n",
            "Epoch 2/50\n",
            "12/12 [==============================] - 0s 13ms/step - loss: 0.0328\n",
            "Epoch 3/50\n",
            "12/12 [==============================] - 0s 15ms/step - loss: 0.0233\n",
            "Epoch 4/50\n",
            "12/12 [==============================] - 0s 14ms/step - loss: 0.0128\n",
            "Epoch 5/50\n",
            "12/12 [==============================] - 0s 14ms/step - loss: 0.0089\n",
            "Epoch 6/50\n",
            "12/12 [==============================] - 0s 15ms/step - loss: 0.0057\n",
            "Epoch 7/50\n",
            "12/12 [==============================] - 0s 13ms/step - loss: 0.0042\n",
            "Epoch 8/50\n",
            "12/12 [==============================] - 0s 13ms/step - loss: 0.0036\n",
            "Epoch 9/50\n",
            "12/12 [==============================] - 0s 14ms/step - loss: 0.0039\n",
            "Epoch 10/50\n",
            "12/12 [==============================] - 0s 13ms/step - loss: 0.0036\n",
            "Epoch 11/50\n",
            "12/12 [==============================] - 0s 14ms/step - loss: 0.0035\n",
            "Epoch 12/50\n",
            "12/12 [==============================] - 0s 14ms/step - loss: 0.0035\n",
            "Epoch 13/50\n",
            "12/12 [==============================] - 0s 13ms/step - loss: 0.0035\n",
            "Epoch 14/50\n",
            "12/12 [==============================] - 0s 13ms/step - loss: 0.0034\n",
            "Epoch 15/50\n",
            "12/12 [==============================] - 0s 13ms/step - loss: 0.0034\n",
            "Epoch 16/50\n",
            "12/12 [==============================] - 0s 14ms/step - loss: 0.0034\n",
            "Epoch 17/50\n",
            "12/12 [==============================] - 0s 13ms/step - loss: 0.0034\n",
            "Epoch 18/50\n",
            "12/12 [==============================] - 0s 14ms/step - loss: 0.0034\n",
            "Epoch 19/50\n",
            "12/12 [==============================] - 0s 13ms/step - loss: 0.0033\n",
            "Epoch 20/50\n",
            "12/12 [==============================] - 0s 13ms/step - loss: 0.0034\n",
            "Epoch 21/50\n",
            "12/12 [==============================] - 0s 13ms/step - loss: 0.0034\n",
            "Epoch 22/50\n",
            "12/12 [==============================] - 0s 15ms/step - loss: 0.0034\n",
            "Epoch 23/50\n",
            "12/12 [==============================] - 0s 13ms/step - loss: 0.0033\n",
            "Epoch 24/50\n",
            "12/12 [==============================] - 0s 15ms/step - loss: 0.0033\n",
            "Epoch 25/50\n",
            "12/12 [==============================] - 0s 14ms/step - loss: 0.0035\n",
            "Epoch 26/50\n",
            "12/12 [==============================] - 0s 13ms/step - loss: 0.0034\n",
            "Epoch 27/50\n",
            "12/12 [==============================] - 0s 14ms/step - loss: 0.0034\n",
            "Epoch 28/50\n",
            "12/12 [==============================] - 0s 16ms/step - loss: 0.0035\n",
            "Epoch 29/50\n",
            "12/12 [==============================] - 0s 15ms/step - loss: 0.0032\n",
            "Epoch 30/50\n",
            "12/12 [==============================] - 0s 13ms/step - loss: 0.0033\n",
            "Epoch 31/50\n",
            "12/12 [==============================] - 0s 14ms/step - loss: 0.0034\n",
            "Epoch 32/50\n",
            "12/12 [==============================] - 0s 13ms/step - loss: 0.0035\n",
            "Epoch 33/50\n",
            "12/12 [==============================] - 0s 14ms/step - loss: 0.0032\n",
            "Epoch 34/50\n",
            "12/12 [==============================] - 0s 14ms/step - loss: 0.0032\n",
            "Epoch 35/50\n",
            "12/12 [==============================] - 0s 13ms/step - loss: 0.0032\n",
            "Epoch 36/50\n",
            "12/12 [==============================] - 0s 13ms/step - loss: 0.0031\n",
            "Epoch 37/50\n",
            "12/12 [==============================] - 0s 13ms/step - loss: 0.0032\n",
            "Epoch 38/50\n",
            "12/12 [==============================] - 0s 13ms/step - loss: 0.0035\n",
            "Epoch 39/50\n",
            "12/12 [==============================] - 0s 13ms/step - loss: 0.0032\n",
            "Epoch 40/50\n",
            "12/12 [==============================] - 0s 13ms/step - loss: 0.0032\n",
            "Epoch 41/50\n",
            "12/12 [==============================] - 0s 14ms/step - loss: 0.0032\n",
            "Epoch 42/50\n",
            "12/12 [==============================] - 0s 13ms/step - loss: 0.0031\n",
            "Epoch 43/50\n",
            "12/12 [==============================] - 0s 13ms/step - loss: 0.0034\n",
            "Epoch 44/50\n",
            "12/12 [==============================] - 0s 13ms/step - loss: 0.0031\n",
            "Epoch 45/50\n",
            "12/12 [==============================] - 0s 13ms/step - loss: 0.0032\n",
            "Epoch 46/50\n",
            "12/12 [==============================] - 0s 13ms/step - loss: 0.0031\n",
            "Epoch 47/50\n",
            "12/12 [==============================] - 0s 13ms/step - loss: 0.0031\n",
            "Epoch 48/50\n",
            "12/12 [==============================] - 0s 15ms/step - loss: 0.0030\n",
            "Epoch 49/50\n",
            "12/12 [==============================] - 0s 13ms/step - loss: 0.0031\n",
            "Epoch 50/50\n",
            "12/12 [==============================] - 0s 13ms/step - loss: 0.0030\n"
          ]
        },
        {
          "output_type": "execute_result",
          "data": {
            "text/plain": [
              "<keras.callbacks.History at 0x7fd72893ddf0>"
            ]
          },
          "metadata": {},
          "execution_count": 106
        }
      ]
    },
    {
      "cell_type": "code",
      "source": [
        "dataset_test = datasets_ts.iloc[288:,:]\n",
        "dataset_test.shape"
      ],
      "metadata": {
        "colab": {
          "base_uri": "https://localhost:8080/"
        },
        "outputId": "f7e28cce-cc1f-4349-f27c-a6c1bd2ab973",
        "id": "E5WhUc1D4LZy"
      },
      "execution_count": null,
      "outputs": [
        {
          "output_type": "execute_result",
          "data": {
            "text/plain": [
              "(8, 2)"
            ]
          },
          "metadata": {},
          "execution_count": 107
        }
      ]
    },
    {
      "cell_type": "code",
      "source": [
        "test_set = dataset_test.iloc[:, 1].values\n",
        "test_set.shape"
      ],
      "metadata": {
        "colab": {
          "base_uri": "https://localhost:8080/"
        },
        "outputId": "ead0f322-085d-4c3e-f944-44e764d9c571",
        "id": "i1W4JCXh4LZy"
      },
      "execution_count": null,
      "outputs": [
        {
          "output_type": "execute_result",
          "data": {
            "text/plain": [
              "(8,)"
            ]
          },
          "metadata": {},
          "execution_count": 120
        }
      ]
    },
    {
      "cell_type": "code",
      "source": [
        "dataset_total = pd.concat((dataset_train['Value'], dataset_test['Value']), axis = 0)\n",
        "dataset_total"
      ],
      "metadata": {
        "colab": {
          "base_uri": "https://localhost:8080/"
        },
        "outputId": "42144104-8f55-4e68-fc1c-c3891b24aaa2",
        "id": "S27Rx8nr4LZz"
      },
      "execution_count": null,
      "outputs": [
        {
          "output_type": "execute_result",
          "data": {
            "text/plain": [
              "0      5.255053\n",
              "1      5.261516\n",
              "2      5.268013\n",
              "3      5.274564\n",
              "4      5.281182\n",
              "         ...   \n",
              "291    4.450651\n",
              "292    4.445137\n",
              "293    4.440214\n",
              "294    4.435784\n",
              "295    4.431760\n",
              "Name: Value, Length: 296, dtype: float64"
            ]
          },
          "metadata": {},
          "execution_count": 110
        }
      ]
    },
    {
      "cell_type": "code",
      "source": [
        "dataset_total.shape"
      ],
      "metadata": {
        "colab": {
          "base_uri": "https://localhost:8080/"
        },
        "outputId": "1c1d1a3f-7cbd-4c98-8ed1-21d0c4e78406",
        "id": "uc1FWAms4LZz"
      },
      "execution_count": null,
      "outputs": [
        {
          "output_type": "execute_result",
          "data": {
            "text/plain": [
              "(296,)"
            ]
          },
          "metadata": {},
          "execution_count": 111
        }
      ]
    },
    {
      "cell_type": "code",
      "source": [
        "# we take 10 extra from train set to get them as part of test set\n",
        "inputs = dataset_total[len(dataset_total) - len(dataset_test) - timesteps:].values\n",
        "inputs = inputs.reshape(-1, 1)\n",
        "len(inputs)\n",
        "print(inputs.shape)"
      ],
      "metadata": {
        "colab": {
          "base_uri": "https://localhost:8080/"
        },
        "outputId": "2c7d30f3-e4c3-410a-b614-a3b271aa49e4",
        "id": "4k83Pb8q4LZz"
      },
      "execution_count": null,
      "outputs": [
        {
          "output_type": "stream",
          "name": "stdout",
          "text": [
            "(13, 1)\n"
          ]
        }
      ]
    },
    {
      "cell_type": "code",
      "source": [
        "inputs_scl = mm.transform(inputs)\n",
        "X_test = []\n",
        "for i in range(timesteps, len(inputs_scl)):\n",
        "  X_test.append(inputs_scl[i-timesteps:i,0])\n",
        "X_test = np.array(X_test)\n",
        "X_test = np.reshape(X_test, (X_test.shape[0], X_test.shape[1],1))\n",
        "X_test.shape"
      ],
      "metadata": {
        "colab": {
          "base_uri": "https://localhost:8080/"
        },
        "outputId": "6bcb247e-6dab-4ce3-9b68-3a929bf25725",
        "id": "Vx6oJL-H4LZz"
      },
      "execution_count": null,
      "outputs": [
        {
          "output_type": "execute_result",
          "data": {
            "text/plain": [
              "(8, 5, 1)"
            ]
          },
          "metadata": {},
          "execution_count": 113
        }
      ]
    },
    {
      "cell_type": "code",
      "source": [
        "len(X_test)"
      ],
      "metadata": {
        "colab": {
          "base_uri": "https://localhost:8080/"
        },
        "outputId": "7c70d5f1-a2be-4da8-b2f3-134b20271bae",
        "id": "gifsaNah4LZ0"
      },
      "execution_count": null,
      "outputs": [
        {
          "output_type": "execute_result",
          "data": {
            "text/plain": [
              "8"
            ]
          },
          "metadata": {},
          "execution_count": 114
        }
      ]
    },
    {
      "cell_type": "code",
      "source": [
        "predicted_values = model.predict(X_test)\n",
        "predicted_values"
      ],
      "metadata": {
        "colab": {
          "base_uri": "https://localhost:8080/"
        },
        "outputId": "8b2ede2e-14a0-441a-f092-da8b4209fba5",
        "id": "HMBr08LY4LZ0"
      },
      "execution_count": null,
      "outputs": [
        {
          "output_type": "stream",
          "name": "stdout",
          "text": [
            "1/1 [==============================] - 1s 1s/step\n"
          ]
        },
        {
          "output_type": "execute_result",
          "data": {
            "text/plain": [
              "array([[ 0.00885722],\n",
              "       [ 0.00287885],\n",
              "       [-0.00272651],\n",
              "       [-0.00786749],\n",
              "       [-0.01250179],\n",
              "       [-0.01663146],\n",
              "       [-0.02029072],\n",
              "       [-0.0235314 ]], dtype=float32)"
            ]
          },
          "metadata": {},
          "execution_count": 115
        }
      ]
    },
    {
      "cell_type": "code",
      "source": [
        "predicted_values.shape"
      ],
      "metadata": {
        "colab": {
          "base_uri": "https://localhost:8080/"
        },
        "outputId": "e99bc688-3f2c-48b1-b841-88f1e9b3f79e",
        "id": "L5nKBaE84LZ0"
      },
      "execution_count": null,
      "outputs": [
        {
          "output_type": "execute_result",
          "data": {
            "text/plain": [
              "(8, 1)"
            ]
          },
          "metadata": {},
          "execution_count": 116
        }
      ]
    },
    {
      "cell_type": "code",
      "source": [
        "predicted_values = mm.inverse_transform( predicted_values)\n",
        "predicted_values"
      ],
      "metadata": {
        "colab": {
          "base_uri": "https://localhost:8080/"
        },
        "id": "lAuRq1W-4LZ0",
        "outputId": "36c783ec-9a40-42df-89f3-e9c32f4413c0"
      },
      "execution_count": null,
      "outputs": [
        {
          "output_type": "execute_result",
          "data": {
            "text/plain": [
              "array([[12.390582],\n",
              "       [12.372082],\n",
              "       [12.354734],\n",
              "       [12.338824],\n",
              "       [12.324484],\n",
              "       [12.311703],\n",
              "       [12.300379],\n",
              "       [12.29035 ]], dtype=float32)"
            ]
          },
          "metadata": {},
          "execution_count": 121
        }
      ]
    },
    {
      "cell_type": "code",
      "source": [
        "plt.plot(test_set, color = 'red', label = 'Real Value')\n",
        "plt.plot(predicted_values, color = 'blue', label = 'Predicted Value')\n",
        "plt.title('FRED')\n",
        "plt.xlabel('Time')\n",
        "plt.ylabel('Value')\n",
        "plt.legend()\n",
        "plt.show()"
      ],
      "metadata": {
        "colab": {
          "base_uri": "https://localhost:8080/",
          "height": 295
        },
        "outputId": "8d7deb11-5c34-4131-c713-d60f4550c247",
        "id": "4q9aeYLL4LZ1"
      },
      "execution_count": null,
      "outputs": [
        {
          "output_type": "display_data",
          "data": {
            "text/plain": [
              "<Figure size 432x288 with 1 Axes>"
            ],
            "image/png": "[encoded data removed]"
          },
          "metadata": {
            "needs_background": "light"
          }
        }
      ]
    },
    {
      "cell_type": "code",
      "source": [
        "np.sqrt(mean_squared_error(predicted_values, test_set))"
      ],
      "metadata": {
        "colab": {
          "base_uri": "https://localhost:8080/"
        },
        "outputId": "292cde70-9205-4b13-ea0f-10dad3cb6f39",
        "id": "mXvKTLd54LZ1"
      },
      "execution_count": null,
      "outputs": [
        {
          "output_type": "execute_result",
          "data": {
            "text/plain": [
              "0.01645952443885413"
            ]
          },
          "metadata": {},
          "execution_count": 119
        }
      ]
    },
    {
      "cell_type": "markdown",
      "source": [
        "# LSTM WITH BUNDESBANK-BBK01_WT5511.csv"
      ],
      "metadata": {
        "id": "56hCMHL85nmt"
      }
    },
    {
      "cell_type": "code",
      "source": [
        "BP = '/content/drive/MyDrive/Datasets/BUNDESBANK-BBK01_WT5511.csv'\n",
        "datasets_ts = pd.read_csv(BP)\n",
        "datasets_ts.shape"
      ],
      "metadata": {
        "colab": {
          "base_uri": "https://localhost:8080/"
        },
        "id": "q1eYewWh5p51",
        "outputId": "ef70231f-d77d-41bf-87cd-2476b7e5fce7"
      },
      "execution_count": null,
      "outputs": [
        {
          "output_type": "execute_result",
          "data": {
            "text/plain": [
              "(577, 2)"
            ]
          },
          "metadata": {},
          "execution_count": 182
        }
      ]
    },
    {
      "cell_type": "code",
      "source": [
        "datasets_ts.info()"
      ],
      "metadata": {
        "colab": {
          "base_uri": "https://localhost:8080/"
        },
        "outputId": "b289a150-babe-457f-fbb9-c93a65b16577",
        "id": "pQMybDdJ6vjY"
      },
      "execution_count": null,
      "outputs": [
        {
          "output_type": "stream",
          "name": "stdout",
          "text": [
            "<class 'pandas.core.frame.DataFrame'>\n",
            "RangeIndex: 577 entries, 0 to 576\n",
            "Data columns (total 2 columns):\n",
            " #   Column  Non-Null Count  Dtype  \n",
            "---  ------  --------------  -----  \n",
            " 0   Date    577 non-null    object \n",
            " 1   Value   577 non-null    float64\n",
            "dtypes: float64(1), object(1)\n",
            "memory usage: 9.1+ KB\n"
          ]
        }
      ]
    },
    {
      "cell_type": "code",
      "source": [
        "datasets_ts[550:].plot()\n",
        "plt.show()"
      ],
      "metadata": {
        "colab": {
          "base_uri": "https://localhost:8080/",
          "height": 265
        },
        "id": "gUPhKL3d-yRk",
        "outputId": "3bd7fee5-aa5f-4877-890e-fea34fc8ddd6"
      },
      "execution_count": null,
      "outputs": [
        {
          "output_type": "display_data",
          "data": {
            "text/plain": [
              "<Figure size 432x288 with 1 Axes>"
            ],
            "image/png": "[encoded data removed]"
          },
          "metadata": {
            "needs_background": "light"
          }
        }
      ]
    },
    {
      "cell_type": "code",
      "source": [
        "### PREPROCESSING\n",
        "datasets_ts.shape"
      ],
      "metadata": {
        "colab": {
          "base_uri": "https://localhost:8080/"
        },
        "outputId": "b80edc97-c863-4bd3-d38f-07240e0a8560",
        "id": "Lm5ot6JP6vjZ"
      },
      "execution_count": null,
      "outputs": [
        {
          "output_type": "execute_result",
          "data": {
            "text/plain": [
              "(577, 2)"
            ]
          },
          "metadata": {},
          "execution_count": 184
        }
      ]
    },
    {
      "cell_type": "code",
      "source": [
        "dataset_train = datasets_ts.iloc[:567, :]\n",
        "dataset_train.shape"
      ],
      "metadata": {
        "colab": {
          "base_uri": "https://localhost:8080/"
        },
        "outputId": "eb03d90b-26d7-4b1f-93c3-3020dca9ecff",
        "id": "C8MsUo0a6vjZ"
      },
      "execution_count": null,
      "outputs": [
        {
          "output_type": "execute_result",
          "data": {
            "text/plain": [
              "(567, 2)"
            ]
          },
          "metadata": {},
          "execution_count": 185
        }
      ]
    },
    {
      "cell_type": "code",
      "source": [
        "#converting pandas type data to numpy type as numpy type required for tensorflow\n",
        "training_set = dataset_train.iloc[:,1].values\n",
        "training_set[:5]"
      ],
      "metadata": {
        "colab": {
          "base_uri": "https://localhost:8080/"
        },
        "outputId": "7548210c-c4af-416c-a50b-a810dbd92707",
        "id": "HPp_Cl7x6vja"
      },
      "execution_count": null,
      "outputs": [
        {
          "output_type": "execute_result",
          "data": {
            "text/plain": [
              "array([39.1 , 42.  , 40.95, 38.9 , 39.85])"
            ]
          },
          "metadata": {},
          "execution_count": 186
        }
      ]
    },
    {
      "cell_type": "code",
      "source": [
        "training_set.shape"
      ],
      "metadata": {
        "colab": {
          "base_uri": "https://localhost:8080/"
        },
        "outputId": "aa3fca5b-7c09-4be4-f883-28053a3d1dd7",
        "id": "zrzexvH66vja"
      },
      "execution_count": null,
      "outputs": [
        {
          "output_type": "execute_result",
          "data": {
            "text/plain": [
              "(567,)"
            ]
          },
          "metadata": {},
          "execution_count": 189
        }
      ]
    },
    {
      "cell_type": "code",
      "source": [
        "training_set[-1]"
      ],
      "metadata": {
        "colab": {
          "base_uri": "https://localhost:8080/"
        },
        "outputId": "e91ebcb3-72bc-44eb-d9ec-855e8ddcaeae",
        "id": "tej-jOKc6vja"
      },
      "execution_count": null,
      "outputs": [
        {
          "output_type": "execute_result",
          "data": {
            "text/plain": [
              "1175.0"
            ]
          },
          "metadata": {},
          "execution_count": 190
        }
      ]
    },
    {
      "cell_type": "code",
      "source": [
        "training_set = training_set.reshape(-1,1)\n",
        "from sklearn.preprocessing import MinMaxScaler\n",
        "mm = MinMaxScaler()\n",
        "trn_set_scl = mm.fit_transform(training_set)\n",
        "print(trn_set_scl[:5])\n",
        "print(type(trn_set_scl))\n",
        "print(trn_set_scl.ndim)\n",
        "print(trn_set_scl.shape)"
      ],
      "metadata": {
        "colab": {
          "base_uri": "https://localhost:8080/"
        },
        "outputId": "dcd28253-08c2-4c76-d152-f74112992746",
        "id": "8PVEjUz66vjb"
      },
      "execution_count": null,
      "outputs": [
        {
          "output_type": "stream",
          "name": "stdout",
          "text": [
            "[[0.00230037]\n",
            " [0.00391955]\n",
            " [0.0033333 ]\n",
            " [0.0021887 ]\n",
            " [0.00271912]]\n",
            "<class 'numpy.ndarray'>\n",
            "2\n",
            "(567, 1)\n"
          ]
        }
      ]
    },
    {
      "cell_type": "code",
      "source": [
        "X_train = []\n",
        "y_train = []\n",
        "timesteps = 3\n",
        "trn_size = dataset_train.shape[0]\n",
        "for i in range(timesteps, trn_size):\n",
        "  X_train.append(trn_set_scl[i-timesteps:i, 0])\n",
        "  y_train.append(trn_set_scl[i,0])\n",
        "X_train, y_train = np.array(X_train), np.array(y_train)"
      ],
      "metadata": {
        "id": "rEJ7OqF-6vjb"
      },
      "execution_count": null,
      "outputs": []
    },
    {
      "cell_type": "code",
      "source": [
        "X_train = np.reshape(X_train, (X_train.shape[0], X_train.shape[1], 1))\n",
        "X_train.shape"
      ],
      "metadata": {
        "colab": {
          "base_uri": "https://localhost:8080/"
        },
        "outputId": "ebc07830-d12c-41f2-c93a-6a47ad73ffb7",
        "id": "e3_erfwE6vjb"
      },
      "execution_count": null,
      "outputs": [
        {
          "output_type": "execute_result",
          "data": {
            "text/plain": [
              "(564, 3, 1)"
            ]
          },
          "metadata": {},
          "execution_count": 227
        }
      ]
    },
    {
      "cell_type": "code",
      "source": [
        "import tensorflow as tf\n",
        "from tensorflow import keras"
      ],
      "metadata": {
        "id": "bg-L9TLF6vjc"
      },
      "execution_count": null,
      "outputs": []
    },
    {
      "cell_type": "code",
      "source": [
        "### INITIALIZE RNN\n",
        "tf.random.set_seed(seed = 2022)\n",
        "model = keras.Sequential([\n",
        "    keras.layers.LSTM(units = 100, return_sequences=True, \n",
        "                      input_shape=(X_train.shape[1], X_train.shape[2])),\n",
        "    keras.layers.LSTM(units = 70, return_sequences=True),\n",
        "    keras.layers.LSTM(units = 50), \n",
        "    keras.layers.Dense(1)                     \n",
        "])\n",
        "model.compile(optimizer= 'adam', loss = 'mean_squared_error')"
      ],
      "metadata": {
        "id": "qROhVhUb6vjc"
      },
      "execution_count": null,
      "outputs": []
    },
    {
      "cell_type": "code",
      "source": [
        "model.fit(X_train, y_train, epochs = 50, batch_size= 25)"
      ],
      "metadata": {
        "colab": {
          "base_uri": "https://localhost:8080/"
        },
        "outputId": "4b5fb3e8-ede1-4bdf-c85a-a300486c5c73",
        "id": "w4JRRCqB6vjc"
      },
      "execution_count": null,
      "outputs": [
        {
          "output_type": "stream",
          "name": "stdout",
          "text": [
            "Epoch 1/50\n",
            "23/23 [==============================] - 6s 10ms/step - loss: 0.0541\n",
            "Epoch 2/50\n",
            "23/23 [==============================] - 0s 11ms/step - loss: 0.0103\n",
            "Epoch 3/50\n",
            "23/23 [==============================] - 0s 10ms/step - loss: 0.0020\n",
            "Epoch 4/50\n",
            "23/23 [==============================] - 0s 10ms/step - loss: 0.0012\n",
            "Epoch 5/50\n",
            "23/23 [==============================] - 0s 11ms/step - loss: 0.0010\n",
            "Epoch 6/50\n",
            "23/23 [==============================] - 0s 10ms/step - loss: 0.0010\n",
            "Epoch 7/50\n",
            "23/23 [==============================] - 0s 10ms/step - loss: 8.7942e-04\n",
            "Epoch 8/50\n",
            "23/23 [==============================] - 0s 10ms/step - loss: 8.8551e-04\n",
            "Epoch 9/50\n",
            "23/23 [==============================] - 0s 10ms/step - loss: 8.1862e-04\n",
            "Epoch 10/50\n",
            "23/23 [==============================] - 0s 10ms/step - loss: 8.7045e-04\n",
            "Epoch 11/50\n",
            "23/23 [==============================] - 0s 11ms/step - loss: 7.5975e-04\n",
            "Epoch 12/50\n",
            "23/23 [==============================] - 0s 10ms/step - loss: 7.5902e-04\n",
            "Epoch 13/50\n",
            "23/23 [==============================] - 0s 10ms/step - loss: 8.9314e-04\n",
            "Epoch 14/50\n",
            "23/23 [==============================] - 0s 11ms/step - loss: 8.3249e-04\n",
            "Epoch 15/50\n",
            "23/23 [==============================] - 0s 12ms/step - loss: 8.4278e-04\n",
            "Epoch 16/50\n",
            "23/23 [==============================] - 0s 10ms/step - loss: 7.4229e-04\n",
            "Epoch 17/50\n",
            "23/23 [==============================] - 0s 10ms/step - loss: 7.8622e-04\n",
            "Epoch 18/50\n",
            "23/23 [==============================] - 0s 11ms/step - loss: 8.1194e-04\n",
            "Epoch 19/50\n",
            "23/23 [==============================] - 0s 11ms/step - loss: 7.3879e-04\n",
            "Epoch 20/50\n",
            "23/23 [==============================] - 0s 9ms/step - loss: 8.0373e-04\n",
            "Epoch 21/50\n",
            "23/23 [==============================] - 0s 10ms/step - loss: 7.5231e-04\n",
            "Epoch 22/50\n",
            "23/23 [==============================] - 0s 11ms/step - loss: 9.1205e-04\n",
            "Epoch 23/50\n",
            "23/23 [==============================] - 0s 10ms/step - loss: 8.8026e-04\n",
            "Epoch 24/50\n",
            "23/23 [==============================] - 0s 9ms/step - loss: 9.3064e-04\n",
            "Epoch 25/50\n",
            "23/23 [==============================] - 0s 13ms/step - loss: 7.3644e-04\n",
            "Epoch 26/50\n",
            "23/23 [==============================] - 0s 10ms/step - loss: 9.2470e-04\n",
            "Epoch 27/50\n",
            "23/23 [==============================] - 0s 11ms/step - loss: 7.2811e-04\n",
            "Epoch 28/50\n",
            "23/23 [==============================] - 0s 10ms/step - loss: 7.8623e-04\n",
            "Epoch 29/50\n",
            "23/23 [==============================] - 0s 9ms/step - loss: 7.5455e-04\n",
            "Epoch 30/50\n",
            "23/23 [==============================] - 0s 10ms/step - loss: 7.1341e-04\n",
            "Epoch 31/50\n",
            "23/23 [==============================] - 0s 10ms/step - loss: 7.3496e-04\n",
            "Epoch 32/50\n",
            "23/23 [==============================] - 0s 10ms/step - loss: 9.0110e-04\n",
            "Epoch 33/50\n",
            "23/23 [==============================] - 0s 11ms/step - loss: 0.0010\n",
            "Epoch 34/50\n",
            "23/23 [==============================] - 0s 10ms/step - loss: 7.8195e-04\n",
            "Epoch 35/50\n",
            "23/23 [==============================] - 0s 10ms/step - loss: 7.2222e-04\n",
            "Epoch 36/50\n",
            "23/23 [==============================] - 0s 11ms/step - loss: 7.3901e-04\n",
            "Epoch 37/50\n",
            "23/23 [==============================] - 0s 10ms/step - loss: 8.0781e-04\n",
            "Epoch 38/50\n",
            "23/23 [==============================] - 0s 11ms/step - loss: 7.3369e-04\n",
            "Epoch 39/50\n",
            "23/23 [==============================] - 0s 10ms/step - loss: 7.9736e-04\n",
            "Epoch 40/50\n",
            "23/23 [==============================] - 0s 11ms/step - loss: 7.2592e-04\n",
            "Epoch 41/50\n",
            "23/23 [==============================] - 0s 10ms/step - loss: 6.9940e-04\n",
            "Epoch 42/50\n",
            "23/23 [==============================] - 0s 10ms/step - loss: 7.8201e-04\n",
            "Epoch 43/50\n",
            "23/23 [==============================] - 0s 11ms/step - loss: 6.8979e-04\n",
            "Epoch 44/50\n",
            "23/23 [==============================] - 0s 11ms/step - loss: 7.8807e-04\n",
            "Epoch 45/50\n",
            "23/23 [==============================] - 0s 10ms/step - loss: 6.9239e-04\n",
            "Epoch 46/50\n",
            "23/23 [==============================] - 0s 11ms/step - loss: 7.7157e-04\n",
            "Epoch 47/50\n",
            "23/23 [==============================] - 0s 10ms/step - loss: 7.6565e-04\n",
            "Epoch 48/50\n",
            "23/23 [==============================] - 0s 11ms/step - loss: 7.8424e-04\n",
            "Epoch 49/50\n",
            "23/23 [==============================] - 0s 15ms/step - loss: 7.5482e-04\n",
            "Epoch 50/50\n",
            "23/23 [==============================] - 0s 16ms/step - loss: 6.9723e-04\n"
          ]
        },
        {
          "output_type": "execute_result",
          "data": {
            "text/plain": [
              "<keras.callbacks.History at 0x7fd724f540a0>"
            ]
          },
          "metadata": {},
          "execution_count": 230
        }
      ]
    },
    {
      "cell_type": "code",
      "source": [
        "dataset_test = datasets_ts.iloc[567:,:]\n",
        "dataset_test.shape"
      ],
      "metadata": {
        "colab": {
          "base_uri": "https://localhost:8080/"
        },
        "outputId": "f3990f27-feeb-4714-8d9f-85e9a43f092f",
        "id": "JBhPB9SY6vjd"
      },
      "execution_count": null,
      "outputs": [
        {
          "output_type": "execute_result",
          "data": {
            "text/plain": [
              "(10, 2)"
            ]
          },
          "metadata": {},
          "execution_count": 231
        }
      ]
    },
    {
      "cell_type": "code",
      "source": [
        "test_set = dataset_test.iloc[:, 1].values\n",
        "test_set.shape"
      ],
      "metadata": {
        "colab": {
          "base_uri": "https://localhost:8080/"
        },
        "outputId": "3f2ce1d8-27df-4431-d8c1-530a0b061301",
        "id": "TEkLoPOB6vjd"
      },
      "execution_count": null,
      "outputs": [
        {
          "output_type": "execute_result",
          "data": {
            "text/plain": [
              "(10,)"
            ]
          },
          "metadata": {},
          "execution_count": 232
        }
      ]
    },
    {
      "cell_type": "code",
      "source": [
        "dataset_total = pd.concat((dataset_train['Value'], dataset_test['Value']), axis = 0)\n",
        "dataset_total"
      ],
      "metadata": {
        "colab": {
          "base_uri": "https://localhost:8080/"
        },
        "outputId": "a547e7e2-e3c2-4b97-bef1-aae1424c75ae",
        "id": "ICL9kkGA6vje"
      },
      "execution_count": null,
      "outputs": [
        {
          "output_type": "execute_result",
          "data": {
            "text/plain": [
              "0        39.10\n",
              "1        42.00\n",
              "2        40.95\n",
              "3        38.90\n",
              "4        39.85\n",
              "        ...   \n",
              "572    1062.25\n",
              "573    1112.90\n",
              "574    1234.15\n",
              "575    1233.60\n",
              "576    1237.70\n",
              "Name: Value, Length: 577, dtype: float64"
            ]
          },
          "metadata": {},
          "execution_count": 233
        }
      ]
    },
    {
      "cell_type": "code",
      "source": [
        "dataset_total.shape"
      ],
      "metadata": {
        "colab": {
          "base_uri": "https://localhost:8080/"
        },
        "outputId": "82d30808-98b9-49d8-9774-b79a32bc81d0",
        "id": "vJHQnkxe6vje"
      },
      "execution_count": null,
      "outputs": [
        {
          "output_type": "execute_result",
          "data": {
            "text/plain": [
              "(577,)"
            ]
          },
          "metadata": {},
          "execution_count": 234
        }
      ]
    },
    {
      "cell_type": "code",
      "source": [
        "# we take 10 extra from train set to get them as part of test set\n",
        "inputs = dataset_total[len(dataset_total) - len(dataset_test) - timesteps:].values\n",
        "inputs = inputs.reshape(-1, 1)\n",
        "len(inputs)\n",
        "print(inputs.shape)"
      ],
      "metadata": {
        "colab": {
          "base_uri": "https://localhost:8080/"
        },
        "outputId": "f1043e55-8996-48a2-cb29-9f40261687bc",
        "id": "oGjmOWP76vje"
      },
      "execution_count": null,
      "outputs": [
        {
          "output_type": "stream",
          "name": "stdout",
          "text": [
            "(13, 1)\n"
          ]
        }
      ]
    },
    {
      "cell_type": "code",
      "source": [
        "inputs_scl = mm.transform(inputs)\n",
        "X_test = []\n",
        "for i in range(timesteps, len(inputs_scl)):\n",
        "  X_test.append(inputs_scl[i-timesteps:i,0])\n",
        "X_test = np.array(X_test)\n",
        "X_test = np.reshape(X_test, (X_test.shape[0], X_test.shape[1],1))\n",
        "X_test.shape"
      ],
      "metadata": {
        "colab": {
          "base_uri": "https://localhost:8080/"
        },
        "outputId": "d820f290-69e5-4b48-e69c-e62d5955049d",
        "id": "FErRB0cs6vjf"
      },
      "execution_count": null,
      "outputs": [
        {
          "output_type": "execute_result",
          "data": {
            "text/plain": [
              "(10, 3, 1)"
            ]
          },
          "metadata": {},
          "execution_count": 236
        }
      ]
    },
    {
      "cell_type": "code",
      "source": [
        "len(X_test)"
      ],
      "metadata": {
        "colab": {
          "base_uri": "https://localhost:8080/"
        },
        "outputId": "4c58f865-c32a-4649-cbe5-505e41cb9e75",
        "id": "OfwoGSDl6vjf"
      },
      "execution_count": null,
      "outputs": [
        {
          "output_type": "execute_result",
          "data": {
            "text/plain": [
              "10"
            ]
          },
          "metadata": {},
          "execution_count": 237
        }
      ]
    },
    {
      "cell_type": "code",
      "source": [
        "predicted_values = model.predict(X_test)\n",
        "predicted_values"
      ],
      "metadata": {
        "colab": {
          "base_uri": "https://localhost:8080/"
        },
        "outputId": "01bfb20e-67c7-456f-e33e-c8261f738c79",
        "id": "OmfB4QSp6vjf"
      },
      "execution_count": null,
      "outputs": [
        {
          "output_type": "stream",
          "name": "stdout",
          "text": [
            "1/1 [==============================] - 1s 1s/step\n"
          ]
        },
        {
          "output_type": "execute_result",
          "data": {
            "text/plain": [
              "array([[0.63930076],\n",
              "       [0.6260639 ],\n",
              "       [0.6085445 ],\n",
              "       [0.5887968 ],\n",
              "       [0.60318446],\n",
              "       [0.6001811 ],\n",
              "       [0.59202194],\n",
              "       [0.5700504 ],\n",
              "       [0.5893592 ],\n",
              "       [0.62479705]], dtype=float32)"
            ]
          },
          "metadata": {},
          "execution_count": 238
        }
      ]
    },
    {
      "cell_type": "code",
      "source": [
        "predicted_values.shape"
      ],
      "metadata": {
        "colab": {
          "base_uri": "https://localhost:8080/"
        },
        "outputId": "5d21df18-1d8e-494e-a06c-1adebff9c2e8",
        "id": "brHADtBT6vjg"
      },
      "execution_count": null,
      "outputs": [
        {
          "output_type": "execute_result",
          "data": {
            "text/plain": [
              "(10, 1)"
            ]
          },
          "metadata": {},
          "execution_count": 239
        }
      ]
    },
    {
      "cell_type": "code",
      "source": [
        "predicted_values = mm.inverse_transform( predicted_values)\n",
        "predicted_values"
      ],
      "metadata": {
        "colab": {
          "base_uri": "https://localhost:8080/"
        },
        "outputId": "d3dbd962-7218-4731-db6e-aaf582023696",
        "id": "VGkIkwHF6vjg"
      },
      "execution_count": null,
      "outputs": [
        {
          "output_type": "execute_result",
          "data": {
            "text/plain": [
              "array([[1179.9805],\n",
              "       [1156.273 ],\n",
              "       [1124.8954],\n",
              "       [1089.5269],\n",
              "       [1115.2954],\n",
              "       [1109.9164],\n",
              "       [1095.3031],\n",
              "       [1055.9517],\n",
              "       [1090.5342],\n",
              "       [1154.004 ]], dtype=float32)"
            ]
          },
          "metadata": {},
          "execution_count": 240
        }
      ]
    },
    {
      "cell_type": "code",
      "source": [
        "plt.plot(test_set, color = 'red', label = 'Real Value')\n",
        "plt.plot(predicted_values, color = 'blue', label = 'Predicted Value')\n",
        "plt.title('BANK')\n",
        "plt.xlabel('Time')\n",
        "plt.ylabel('Value')\n",
        "plt.legend()\n",
        "plt.show()"
      ],
      "metadata": {
        "colab": {
          "base_uri": "https://localhost:8080/",
          "height": 295
        },
        "outputId": "f8944fe6-c9ef-46a6-9d85-c5a4a2ed9123",
        "id": "gk2TG56J6vjg"
      },
      "execution_count": null,
      "outputs": [
        {
          "output_type": "display_data",
          "data": {
            "text/plain": [
              "<Figure size 432x288 with 1 Axes>"
            ],
            "image/png": "[encoded data removed]"
          },
          "metadata": {
            "needs_background": "light"
          }
        }
      ]
    },
    {
      "cell_type": "code",
      "source": [
        "np.sqrt(mean_squared_error(predicted_values, test_set))"
      ],
      "metadata": {
        "colab": {
          "base_uri": "https://localhost:8080/"
        },
        "outputId": "780c2b29-4015-4169-a37e-2eca06587632",
        "id": "mBLLBAdY6vjh"
      },
      "execution_count": null,
      "outputs": [
        {
          "output_type": "execute_result",
          "data": {
            "text/plain": [
              "89.2723631026785"
            ]
          },
          "metadata": {},
          "execution_count": 242
        }
      ]
    },
    {
      "cell_type": "markdown",
      "source": [
        "### Results with bank\n",
        "1. for timestep 10, rmse = 108.7273697100209\n",
        "2. for timestep 5, rmse = 108.7273697100209\n",
        "3. for timestep 3, rmse = 89.2723631026785\n"
      ],
      "metadata": {
        "id": "NkqYp8h88vDZ"
      }
    }
  ]
}