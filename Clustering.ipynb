{
  "nbformat": 4,
  "nbformat_minor": 0,
  "metadata": {
    "colab": {
      "provenance": [],
      "authorship_tag": "ABX9TyNN2jSViaIm+7W0ZCFHOIFQ",
      "include_colab_link": true
    },
    "kernelspec": {
      "name": "python3",
      "display_name": "Python 3"
    },
    "language_info": {
      "name": "python"
    },
    "gpuClass": "standard"
  },
  "cells": [
    {
      "cell_type": "markdown",
      "metadata": {
        "id": "view-in-github",
        "colab_type": "text"
      },
      "source": [
        "<a href=\"https://colab.research.google.com/github/ChetanKnowIt/PML_Notes/blob/main/Clustering.ipynb\" target=\"_parent\"><img src=\"https://colab.research.google.com/assets/colab-badge.svg\" alt=\"Open In Colab\"/></a>"
      ]
    },
    {
      "cell_type": "code",
      "execution_count": null,
      "metadata": {
        "colab": {
          "base_uri": "https://localhost:8080/"
        },
        "id": "efv8Z4aUTkjh",
        "outputId": "aeec2961-e761-4663-b5ec-2c47bb3db5e4"
      },
      "outputs": [
        {
          "output_type": "stream",
          "name": "stdout",
          "text": [
            "Mounted at /content/gdrive\n"
          ]
        }
      ],
      "source": [
        "from scipy.cluster.hierarchy import linkage, dendrogram\n",
        "from sklearn.preprocessing import StandardScaler\n",
        "import pandas as pd\n",
        "import numpy as np\n",
        "import matplotlib.pyplot as plt\n",
        "\n",
        "from google.colab import drive\n",
        "drive.mount('/content/gdrive')\n"
      ]
    },
    {
      "cell_type": "code",
      "source": [
        "milkfile = '/content/gdrive/MyDrive/Datasets/milk.csv'\n",
        "milk = pd.read_csv(milkfile, index_col=0)\n",
        "milk.info()\n",
        "milk.head()"
      ],
      "metadata": {
        "colab": {
          "base_uri": "https://localhost:8080/",
          "height": 446
        },
        "id": "Hk1R3chmVdft",
        "outputId": "ece461cf-699e-4ac3-e323-0f2cb1d91e71"
      },
      "execution_count": null,
      "outputs": [
        {
          "output_type": "stream",
          "name": "stdout",
          "text": [
            "<class 'pandas.core.frame.DataFrame'>\n",
            "Index: 25 entries, HORSE to DOLPHIN\n",
            "Data columns (total 5 columns):\n",
            " #   Column   Non-Null Count  Dtype  \n",
            "---  ------   --------------  -----  \n",
            " 0   water    25 non-null     float64\n",
            " 1   protein  25 non-null     float64\n",
            " 2   fat      25 non-null     float64\n",
            " 3   lactose  25 non-null     float64\n",
            " 4   ash      25 non-null     float64\n",
            "dtypes: float64(5)\n",
            "memory usage: 1.2+ KB\n"
          ]
        },
        {
          "output_type": "execute_result",
          "data": {
            "text/plain": [
              "           water  protein  fat  lactose   ash\n",
              "Animal                                       \n",
              "HORSE       90.1      2.6  1.0      6.9  0.35\n",
              "ORANGUTAN   88.5      1.4  3.5      6.0  0.24\n",
              "MONKEY      88.4      2.2  2.7      6.4  0.18\n",
              "DONKEY      90.3      1.7  1.4      6.2  0.40\n",
              "HIPPO       90.4      0.6  4.5      4.4  0.10"
            ],
            "text/html": [
              "\n",
              "  <div id=\"df-facacc69-2f19-4db7-a50d-eb3bfe35f54f\">\n",
              "    <div class=\"colab-df-container\">\n",
              "      <div>\n",
              "<style scoped>\n",
              "    .dataframe tbody tr th:only-of-type {\n",
              "        vertical-align: middle;\n",
              "    }\n",
              "\n",
              "    .dataframe tbody tr th {\n",
              "        vertical-align: top;\n",
              "    }\n",
              "\n",
              "    .dataframe thead th {\n",
              "        text-align: right;\n",
              "    }\n",
              "</style>\n",
              "<table border=\"1\" class=\"dataframe\">\n",
              "  <thead>\n",
              "    <tr style=\"text-align: right;\">\n",
              "      <th></th>\n",
              "      <th>water</th>\n",
              "      <th>protein</th>\n",
              "      <th>fat</th>\n",
              "      <th>lactose</th>\n",
              "      <th>ash</th>\n",
              "    </tr>\n",
              "    <tr>\n",
              "      <th>Animal</th>\n",
              "      <th></th>\n",
              "      <th></th>\n",
              "      <th></th>\n",
              "      <th></th>\n",
              "      <th></th>\n",
              "    </tr>\n",
              "  </thead>\n",
              "  <tbody>\n",
              "    <tr>\n",
              "      <th>HORSE</th>\n",
              "      <td>90.1</td>\n",
              "      <td>2.6</td>\n",
              "      <td>1.0</td>\n",
              "      <td>6.9</td>\n",
              "      <td>0.35</td>\n",
              "    </tr>\n",
              "    <tr>\n",
              "      <th>ORANGUTAN</th>\n",
              "      <td>88.5</td>\n",
              "      <td>1.4</td>\n",
              "      <td>3.5</td>\n",
              "      <td>6.0</td>\n",
              "      <td>0.24</td>\n",
              "    </tr>\n",
              "    <tr>\n",
              "      <th>MONKEY</th>\n",
              "      <td>88.4</td>\n",
              "      <td>2.2</td>\n",
              "      <td>2.7</td>\n",
              "      <td>6.4</td>\n",
              "      <td>0.18</td>\n",
              "    </tr>\n",
              "    <tr>\n",
              "      <th>DONKEY</th>\n",
              "      <td>90.3</td>\n",
              "      <td>1.7</td>\n",
              "      <td>1.4</td>\n",
              "      <td>6.2</td>\n",
              "      <td>0.40</td>\n",
              "    </tr>\n",
              "    <tr>\n",
              "      <th>HIPPO</th>\n",
              "      <td>90.4</td>\n",
              "      <td>0.6</td>\n",
              "      <td>4.5</td>\n",
              "      <td>4.4</td>\n",
              "      <td>0.10</td>\n",
              "    </tr>\n",
              "  </tbody>\n",
              "</table>\n",
              "</div>\n",
              "      <button class=\"colab-df-convert\" onclick=\"convertToInteractive('df-facacc69-2f19-4db7-a50d-eb3bfe35f54f')\"\n",
              "              title=\"Convert this dataframe to an interactive table.\"\n",
              "              style=\"display:none;\">\n",
              "        \n",
              "  <svg xmlns=\"http://www.w3.org/2000/svg\" height=\"24px\"viewBox=\"0 0 24 24\"\n",
              "       width=\"24px\">\n",
              "    <path d=\"M0 0h24v24H0V0z\" fill=\"none\"/>\n",
              "    <path d=\"M18.56 5.44l.94 2.06.94-2.06 2.06-.94-2.06-.94-.94-2.06-.94 2.06-2.06.94zm-11 1L8.5 8.5l.94-2.06 2.06-.94-2.06-.94L8.5 2.5l-.94 2.06-2.06.94zm10 10l.94 2.06.94-2.06 2.06-.94-2.06-.94-.94-2.06-.94 2.06-2.06.94z\"/><path d=\"M17.41 7.96l-1.37-1.37c-.4-.4-.92-.59-1.43-.59-.52 0-1.04.2-1.43.59L10.3 9.45l-7.72 7.72c-.78.78-.78 2.05 0 2.83L4 21.41c.39.39.9.59 1.41.59.51 0 1.02-.2 1.41-.59l7.78-7.78 2.81-2.81c.8-.78.8-2.07 0-2.86zM5.41 20L4 18.59l7.72-7.72 1.47 1.35L5.41 20z\"/>\n",
              "  </svg>\n",
              "      </button>\n",
              "      \n",
              "  <style>\n",
              "    .colab-df-container {\n",
              "      display:flex;\n",
              "      flex-wrap:wrap;\n",
              "      gap: 12px;\n",
              "    }\n",
              "\n",
              "    .colab-df-convert {\n",
              "      background-color: #E8F0FE;\n",
              "      border: none;\n",
              "      border-radius: 50%;\n",
              "      cursor: pointer;\n",
              "      display: none;\n",
              "      fill: #1967D2;\n",
              "      height: 32px;\n",
              "      padding: 0 0 0 0;\n",
              "      width: 32px;\n",
              "    }\n",
              "\n",
              "    .colab-df-convert:hover {\n",
              "      background-color: #E2EBFA;\n",
              "      box-shadow: 0px 1px 2px rgba(60, 64, 67, 0.3), 0px 1px 3px 1px rgba(60, 64, 67, 0.15);\n",
              "      fill: #174EA6;\n",
              "    }\n",
              "\n",
              "    [theme=dark] .colab-df-convert {\n",
              "      background-color: #3B4455;\n",
              "      fill: #D2E3FC;\n",
              "    }\n",
              "\n",
              "    [theme=dark] .colab-df-convert:hover {\n",
              "      background-color: #434B5C;\n",
              "      box-shadow: 0px 1px 3px 1px rgba(0, 0, 0, 0.15);\n",
              "      filter: drop-shadow(0px 1px 2px rgba(0, 0, 0, 0.3));\n",
              "      fill: #FFFFFF;\n",
              "    }\n",
              "  </style>\n",
              "\n",
              "      <script>\n",
              "        const buttonEl =\n",
              "          document.querySelector('#df-facacc69-2f19-4db7-a50d-eb3bfe35f54f button.colab-df-convert');\n",
              "        buttonEl.style.display =\n",
              "          google.colab.kernel.accessAllowed ? 'block' : 'none';\n",
              "\n",
              "        async function convertToInteractive(key) {\n",
              "          const element = document.querySelector('#df-facacc69-2f19-4db7-a50d-eb3bfe35f54f');\n",
              "          const dataTable =\n",
              "            await google.colab.kernel.invokeFunction('convertToInteractive',\n",
              "                                                     [key], {});\n",
              "          if (!dataTable) return;\n",
              "\n",
              "          const docLinkHtml = 'Like what you see? Visit the ' +\n",
              "            '<a target=\"_blank\" href=https://colab.research.google.com/notebooks/data_table.ipynb>data table notebook</a>'\n",
              "            + ' to learn more about interactive tables.';\n",
              "          element.innerHTML = '';\n",
              "          dataTable['output_type'] = 'display_data';\n",
              "          await google.colab.output.renderOutput(dataTable, element);\n",
              "          const docLink = document.createElement('div');\n",
              "          docLink.innerHTML = docLinkHtml;\n",
              "          element.appendChild(docLink);\n",
              "        }\n",
              "      </script>\n",
              "    </div>\n",
              "  </div>\n",
              "  "
            ]
          },
          "metadata": {},
          "execution_count": 2
        }
      ]
    },
    {
      "cell_type": "code",
      "source": [
        "# we looked at the data and decided we need to transform the columns\n",
        "\n",
        "scaler = StandardScaler()\n",
        "milk_scaled = scaler.fit_transform(milk)"
      ],
      "metadata": {
        "id": "Ce-SYNapVnDt"
      },
      "execution_count": null,
      "outputs": []
    },
    {
      "cell_type": "code",
      "source": [
        "milk_scaled"
      ],
      "metadata": {
        "id": "HegB-ciDIU52",
        "outputId": "80fc41d2-9d89-4c14-ce1e-bb69d1e7fbc0",
        "colab": {
          "base_uri": "https://localhost:8080/"
        }
      },
      "execution_count": null,
      "outputs": [
        {
          "output_type": "execute_result",
          "data": {
            "text/plain": [
              "array([[ 0.94880628, -1.00929078, -0.90320785,  1.54221661, -1.03755398],\n",
              "       [ 0.82140698, -1.34460333, -0.66061872,  1.04077335, -1.25994474],\n",
              "       [ 0.81344452, -1.12106163, -0.73824724,  1.26363702, -1.38124879],\n",
              "       [ 0.96473119, -1.26077519, -0.86439359,  1.15220518, -0.93646727],\n",
              "       [ 0.97269365, -1.56814503, -0.56358307,  0.14931866, -1.54298752],\n",
              "       [ 0.75770733, -0.75780637, -0.67032229,  0.37218233, -0.30972968],\n",
              "       [ 0.69400768, -0.3945511 , -0.83528289,  0.87362559,  0.07439982],\n",
              "       [ 0.31180978, -0.08718126, -0.23366185,  0.31646641, -0.16820828],\n",
              "       [ 0.29588487,  0.33195943, -0.30158681, -0.79785195, -0.02668689],\n",
              "       [ 0.2719975 ,  1.08641267, -0.38891889,  0.14931866, -0.22886031],\n",
              "       [ 0.2719975 ,  0.10841772, -0.42773316,  0.42789825,  0.13505184],\n",
              "       [ 0.66215786, -0.64603552, -0.68972942,  0.81790968, -0.1277736 ],\n",
              "       [ 0.94084382, -1.17694705, -0.82557933,  0.76219376, -0.79494588],\n",
              "       [ 0.36754698,  0.24813129, -0.50536168, -0.24069277,  0.47874665],\n",
              "       [ 0.63827049, -0.89751993, -0.53447237,  0.65076192, -0.32994702],\n",
              "       [ 0.30384733, -0.1710094 , -0.37921533,  0.31646641,  0.09461716],\n",
              "       [-0.15001267,  0.86287096, -0.07840481, -0.63070419,  0.68092007],\n",
              "       [-0.59591022, -0.72986365,  0.70758398,  0.81790968, -0.47146841],\n",
              "       [-0.54813548,  1.70115234,  0.27092354, -1.24357929,  2.90482766],\n",
              "       [-0.45258601,  0.83492825,  0.22240572, -0.46355644,  1.08526691],\n",
              "       [-0.97810812,  1.1702408 ,  0.91135885, -0.85356786,  1.08526691],\n",
              "       [-1.06569514,  1.25406894,  0.96958024, -0.90928378,  1.08526691],\n",
              "       [-1.06569514,  1.36583979,  1.05691232, -1.41072704,  1.69178716],\n",
              "       [-2.53078707,  0.97464182,  3.07525389, -2.30218173, -0.02668689],\n",
              "       [-2.65022392,  1.22612623,  2.38630076, -1.80073847, -0.67364183]])"
            ]
          },
          "metadata": {},
          "execution_count": 5
        }
      ]
    },
    {
      "cell_type": "code",
      "source": [
        "mergings = linkage(milk_scaled, method = 'average')"
      ],
      "metadata": {
        "id": "99dmkJNFWBU_"
      },
      "execution_count": null,
      "outputs": []
    },
    {
      "cell_type": "code",
      "source": [
        "fig_size = plt.rcParams[\"figure.figsize\"]\n",
        "fig_size[0] = 16 # X scaling of fig \n",
        "fig_size[1] = 8 # Y scaling of fig\n",
        "with plt.style.context('dark_background'):\n",
        "  dendrogram(mergings, labels = list(milk.index), leaf_rotation=35, leaf_font_size = 10)\n",
        "plt.show()"
      ],
      "metadata": {
        "colab": {
          "base_uri": "https://localhost:8080/",
          "height": 517
        },
        "id": "ID_PXqTNW07h",
        "outputId": "8f83efb6-accb-4655-84d2-c70aba6274a1"
      },
      "execution_count": null,
      "outputs": [
        {
          "output_type": "display_data",
          "data": {
            "text/plain": [
              "<Figure size 1152x576 with 1 Axes>"
            ],
            "image/png": "[encoded data removed]"
          },
          "metadata": {}
        }
      ]
    },
    {
      "cell_type": "markdown",
      "source": [
        "# Nutrient Dataset"
      ],
      "metadata": {
        "id": "6cEnXfv2flsg"
      }
    },
    {
      "cell_type": "code",
      "source": [
        "nutrient = '/content/gdrive/MyDrive/Datasets/nutrient.csv'\n",
        "nutrient = pd.read_csv(nutrient, index_col=0)\n",
        "nutrient.info()\n",
        "nutrient.head()"
      ],
      "metadata": {
        "colab": {
          "base_uri": "https://localhost:8080/",
          "height": 446
        },
        "id": "C2kHYDaJeWM3",
        "outputId": "ea099945-0d4a-45b7-9e73-c573deb206ae"
      },
      "execution_count": null,
      "outputs": [
        {
          "output_type": "stream",
          "name": "stdout",
          "text": [
            "<class 'pandas.core.frame.DataFrame'>\n",
            "Index: 27 entries, BEEF BRAISED to SHRIMP CANNED\n",
            "Data columns (total 5 columns):\n",
            " #   Column   Non-Null Count  Dtype  \n",
            "---  ------   --------------  -----  \n",
            " 0   energy   27 non-null     int64  \n",
            " 1   protein  27 non-null     int64  \n",
            " 2   fat      27 non-null     int64  \n",
            " 3   calcium  27 non-null     int64  \n",
            " 4   iron     27 non-null     float64\n",
            "dtypes: float64(1), int64(4)\n",
            "memory usage: 1.3+ KB\n"
          ]
        },
        {
          "output_type": "execute_result",
          "data": {
            "text/plain": [
              "              energy  protein  fat  calcium  iron\n",
              "Food_Item                                        \n",
              "BEEF BRAISED     340       20   28        9   2.6\n",
              "HAMBURGER        245       21   17        9   2.7\n",
              "BEEF ROAST       420       15   39        7   2.0\n",
              "BEEF STEAK       375       19   32        9   2.6\n",
              "BEEF CANNED      180       22   10       17   3.7"
            ],
            "text/html": [
              "\n",
              "  <div id=\"df-f8f658d4-d6ca-4326-80a5-2b77bca3440b\">\n",
              "    <div class=\"colab-df-container\">\n",
              "      <div>\n",
              "<style scoped>\n",
              "    .dataframe tbody tr th:only-of-type {\n",
              "        vertical-align: middle;\n",
              "    }\n",
              "\n",
              "    .dataframe tbody tr th {\n",
              "        vertical-align: top;\n",
              "    }\n",
              "\n",
              "    .dataframe thead th {\n",
              "        text-align: right;\n",
              "    }\n",
              "</style>\n",
              "<table border=\"1\" class=\"dataframe\">\n",
              "  <thead>\n",
              "    <tr style=\"text-align: right;\">\n",
              "      <th></th>\n",
              "      <th>energy</th>\n",
              "      <th>protein</th>\n",
              "      <th>fat</th>\n",
              "      <th>calcium</th>\n",
              "      <th>iron</th>\n",
              "    </tr>\n",
              "    <tr>\n",
              "      <th>Food_Item</th>\n",
              "      <th></th>\n",
              "      <th></th>\n",
              "      <th></th>\n",
              "      <th></th>\n",
              "      <th></th>\n",
              "    </tr>\n",
              "  </thead>\n",
              "  <tbody>\n",
              "    <tr>\n",
              "      <th>BEEF BRAISED</th>\n",
              "      <td>340</td>\n",
              "      <td>20</td>\n",
              "      <td>28</td>\n",
              "      <td>9</td>\n",
              "      <td>2.6</td>\n",
              "    </tr>\n",
              "    <tr>\n",
              "      <th>HAMBURGER</th>\n",
              "      <td>245</td>\n",
              "      <td>21</td>\n",
              "      <td>17</td>\n",
              "      <td>9</td>\n",
              "      <td>2.7</td>\n",
              "    </tr>\n",
              "    <tr>\n",
              "      <th>BEEF ROAST</th>\n",
              "      <td>420</td>\n",
              "      <td>15</td>\n",
              "      <td>39</td>\n",
              "      <td>7</td>\n",
              "      <td>2.0</td>\n",
              "    </tr>\n",
              "    <tr>\n",
              "      <th>BEEF STEAK</th>\n",
              "      <td>375</td>\n",
              "      <td>19</td>\n",
              "      <td>32</td>\n",
              "      <td>9</td>\n",
              "      <td>2.6</td>\n",
              "    </tr>\n",
              "    <tr>\n",
              "      <th>BEEF CANNED</th>\n",
              "      <td>180</td>\n",
              "      <td>22</td>\n",
              "      <td>10</td>\n",
              "      <td>17</td>\n",
              "      <td>3.7</td>\n",
              "    </tr>\n",
              "  </tbody>\n",
              "</table>\n",
              "</div>\n",
              "      <button class=\"colab-df-convert\" onclick=\"convertToInteractive('df-f8f658d4-d6ca-4326-80a5-2b77bca3440b')\"\n",
              "              title=\"Convert this dataframe to an interactive table.\"\n",
              "              style=\"display:none;\">\n",
              "        \n",
              "  <svg xmlns=\"http://www.w3.org/2000/svg\" height=\"24px\"viewBox=\"0 0 24 24\"\n",
              "       width=\"24px\">\n",
              "    <path d=\"M0 0h24v24H0V0z\" fill=\"none\"/>\n",
              "    <path d=\"M18.56 5.44l.94 2.06.94-2.06 2.06-.94-2.06-.94-.94-2.06-.94 2.06-2.06.94zm-11 1L8.5 8.5l.94-2.06 2.06-.94-2.06-.94L8.5 2.5l-.94 2.06-2.06.94zm10 10l.94 2.06.94-2.06 2.06-.94-2.06-.94-.94-2.06-.94 2.06-2.06.94z\"/><path d=\"M17.41 7.96l-1.37-1.37c-.4-.4-.92-.59-1.43-.59-.52 0-1.04.2-1.43.59L10.3 9.45l-7.72 7.72c-.78.78-.78 2.05 0 2.83L4 21.41c.39.39.9.59 1.41.59.51 0 1.02-.2 1.41-.59l7.78-7.78 2.81-2.81c.8-.78.8-2.07 0-2.86zM5.41 20L4 18.59l7.72-7.72 1.47 1.35L5.41 20z\"/>\n",
              "  </svg>\n",
              "      </button>\n",
              "      \n",
              "  <style>\n",
              "    .colab-df-container {\n",
              "      display:flex;\n",
              "      flex-wrap:wrap;\n",
              "      gap: 12px;\n",
              "    }\n",
              "\n",
              "    .colab-df-convert {\n",
              "      background-color: #E8F0FE;\n",
              "      border: none;\n",
              "      border-radius: 50%;\n",
              "      cursor: pointer;\n",
              "      display: none;\n",
              "      fill: #1967D2;\n",
              "      height: 32px;\n",
              "      padding: 0 0 0 0;\n",
              "      width: 32px;\n",
              "    }\n",
              "\n",
              "    .colab-df-convert:hover {\n",
              "      background-color: #E2EBFA;\n",
              "      box-shadow: 0px 1px 2px rgba(60, 64, 67, 0.3), 0px 1px 3px 1px rgba(60, 64, 67, 0.15);\n",
              "      fill: #174EA6;\n",
              "    }\n",
              "\n",
              "    [theme=dark] .colab-df-convert {\n",
              "      background-color: #3B4455;\n",
              "      fill: #D2E3FC;\n",
              "    }\n",
              "\n",
              "    [theme=dark] .colab-df-convert:hover {\n",
              "      background-color: #434B5C;\n",
              "      box-shadow: 0px 1px 3px 1px rgba(0, 0, 0, 0.15);\n",
              "      filter: drop-shadow(0px 1px 2px rgba(0, 0, 0, 0.3));\n",
              "      fill: #FFFFFF;\n",
              "    }\n",
              "  </style>\n",
              "\n",
              "      <script>\n",
              "        const buttonEl =\n",
              "          document.querySelector('#df-f8f658d4-d6ca-4326-80a5-2b77bca3440b button.colab-df-convert');\n",
              "        buttonEl.style.display =\n",
              "          google.colab.kernel.accessAllowed ? 'block' : 'none';\n",
              "\n",
              "        async function convertToInteractive(key) {\n",
              "          const element = document.querySelector('#df-f8f658d4-d6ca-4326-80a5-2b77bca3440b');\n",
              "          const dataTable =\n",
              "            await google.colab.kernel.invokeFunction('convertToInteractive',\n",
              "                                                     [key], {});\n",
              "          if (!dataTable) return;\n",
              "\n",
              "          const docLinkHtml = 'Like what you see? Visit the ' +\n",
              "            '<a target=\"_blank\" href=https://colab.research.google.com/notebooks/data_table.ipynb>data table notebook</a>'\n",
              "            + ' to learn more about interactive tables.';\n",
              "          element.innerHTML = '';\n",
              "          dataTable['output_type'] = 'display_data';\n",
              "          await google.colab.output.renderOutput(dataTable, element);\n",
              "          const docLink = document.createElement('div');\n",
              "          docLink.innerHTML = docLinkHtml;\n",
              "          element.appendChild(docLink);\n",
              "        }\n",
              "      </script>\n",
              "    </div>\n",
              "  </div>\n",
              "  "
            ]
          },
          "metadata": {},
          "execution_count": 6
        }
      ]
    },
    {
      "cell_type": "code",
      "source": [
        "\n",
        "scaler = StandardScaler()\n",
        "nutrient_scaled = scaler.fit_transform(nutrient)\n",
        "mergings = linkage(nutrient_scaled, method = 'average')\n",
        "\n",
        "with plt.style.context('classic'):\n",
        "  fig_size = plt.rcParams[\"figure.figsize\"]\n",
        "  fig_size[0] = 32 # X scaling of fig \n",
        "  fig_size[1] = 8 # Y scaling of fig\n",
        "  dendrogram(mergings, labels = list(nutrient.index), leaf_rotation=90, leaf_font_size = 10)\n",
        "plt.show()"
      ],
      "metadata": {
        "colab": {
          "base_uri": "https://localhost:8080/",
          "height": 237
        },
        "id": "TP9CBC8eebpW",
        "outputId": "59d16706-6c1d-4b68-d2fe-1c9423e7121d"
      },
      "execution_count": null,
      "outputs": [
        {
          "output_type": "error",
          "ename": "NameError",
          "evalue": "ignored",
          "traceback": [
            "\u001b[0;31m---------------------------------------------------------------------------\u001b[0m",
            "\u001b[0;31mNameError\u001b[0m                                 Traceback (most recent call last)",
            "\u001b[0;32m<ipython-input-1-11c5311929ff>\u001b[0m in \u001b[0;36m<module>\u001b[0;34m\u001b[0m\n\u001b[0;32m----> 1\u001b[0;31m \u001b[0mscaler\u001b[0m \u001b[0;34m=\u001b[0m \u001b[0mStandardScaler\u001b[0m\u001b[0;34m(\u001b[0m\u001b[0;34m)\u001b[0m\u001b[0;34m\u001b[0m\u001b[0;34m\u001b[0m\u001b[0m\n\u001b[0m\u001b[1;32m      2\u001b[0m \u001b[0mnutrient_scaled\u001b[0m \u001b[0;34m=\u001b[0m \u001b[0mscaler\u001b[0m\u001b[0;34m.\u001b[0m\u001b[0mfit_transform\u001b[0m\u001b[0;34m(\u001b[0m\u001b[0mnutrient\u001b[0m\u001b[0;34m)\u001b[0m\u001b[0;34m\u001b[0m\u001b[0;34m\u001b[0m\u001b[0m\n\u001b[1;32m      3\u001b[0m \u001b[0mmergings\u001b[0m \u001b[0;34m=\u001b[0m \u001b[0mlinkage\u001b[0m\u001b[0;34m(\u001b[0m\u001b[0mnutrient_scaled\u001b[0m\u001b[0;34m,\u001b[0m \u001b[0mmethod\u001b[0m \u001b[0;34m=\u001b[0m \u001b[0;34m'average'\u001b[0m\u001b[0;34m)\u001b[0m\u001b[0;34m\u001b[0m\u001b[0;34m\u001b[0m\u001b[0m\n\u001b[1;32m      4\u001b[0m \u001b[0;34m\u001b[0m\u001b[0m\n\u001b[1;32m      5\u001b[0m \u001b[0;32mwith\u001b[0m \u001b[0mplt\u001b[0m\u001b[0;34m.\u001b[0m\u001b[0mstyle\u001b[0m\u001b[0;34m.\u001b[0m\u001b[0mcontext\u001b[0m\u001b[0;34m(\u001b[0m\u001b[0;34m'classic'\u001b[0m\u001b[0;34m)\u001b[0m\u001b[0;34m:\u001b[0m\u001b[0;34m\u001b[0m\u001b[0;34m\u001b[0m\u001b[0m\n",
            "\u001b[0;31mNameError\u001b[0m: name 'StandardScaler' is not defined"
          ]
        }
      ]
    },
    {
      "cell_type": "code",
      "source": [],
      "metadata": {
        "id": "upCE3Nrsf3rr"
      },
      "execution_count": null,
      "outputs": []
    },
    {
      "cell_type": "markdown",
      "source": [
        "# K-Means Clustering\n",
        "\n",
        "\n",
        "> Algorithm\n",
        "1.   Start with k initial clusters at random: ⚖\n",
        "2.   At every step, each record is reassigned to the cluster with closest centroid.\n",
        "3. \n",
        "\n",
        "\n",
        "\n",
        "\n",
        "\n"
      ],
      "metadata": {
        "id": "-r9d6-7Af4Z-"
      }
    },
    {
      "cell_type": "code",
      "source": [
        "from scipy.cluster.hierarchy import linkage, dendrogram\n",
        "from sklearn.preprocessing import StandardScaler\n",
        "from sklearn.cluster import KMeans\n",
        "from sklearn.metrics import silhouette_score\n",
        "import pandas as pd\n",
        "import numpy as np\n",
        "import matplotlib.pyplot as plt\n",
        "\n",
        "from google.colab import drive\n",
        "drive.mount('/content/gdrive')"
      ],
      "metadata": {
        "colab": {
          "base_uri": "https://localhost:8080/"
        },
        "id": "_J9pvtBYeoU3",
        "outputId": "4088b62c-7ea8-43db-83ac-96962c47cb04"
      },
      "execution_count": null,
      "outputs": [
        {
          "output_type": "stream",
          "name": "stdout",
          "text": [
            "Drive already mounted at /content/gdrive; to attempt to forcibly remount, call drive.mount(\"/content/gdrive\", force_remount=True).\n"
          ]
        }
      ]
    },
    {
      "cell_type": "code",
      "source": [
        "milkfile = '/content/gdrive/MyDrive/Datasets/milk.csv'\n",
        "milk = pd.read_csv(milkfile, index_col=0)\n",
        "milk.info()\n",
        "milk.head()"
      ],
      "metadata": {
        "colab": {
          "base_uri": "https://localhost:8080/",
          "height": 446
        },
        "id": "5OihVKdCj53n",
        "outputId": "3268e3a7-58ae-4989-f98e-67f507447291"
      },
      "execution_count": null,
      "outputs": [
        {
          "output_type": "stream",
          "name": "stdout",
          "text": [
            "<class 'pandas.core.frame.DataFrame'>\n",
            "Index: 25 entries, HORSE to DOLPHIN\n",
            "Data columns (total 5 columns):\n",
            " #   Column   Non-Null Count  Dtype  \n",
            "---  ------   --------------  -----  \n",
            " 0   water    25 non-null     float64\n",
            " 1   protein  25 non-null     float64\n",
            " 2   fat      25 non-null     float64\n",
            " 3   lactose  25 non-null     float64\n",
            " 4   ash      25 non-null     float64\n",
            "dtypes: float64(5)\n",
            "memory usage: 1.2+ KB\n"
          ]
        },
        {
          "output_type": "execute_result",
          "data": {
            "text/plain": [
              "           water  protein  fat  lactose   ash\n",
              "Animal                                       \n",
              "HORSE       90.1      2.6  1.0      6.9  0.35\n",
              "ORANGUTAN   88.5      1.4  3.5      6.0  0.24\n",
              "MONKEY      88.4      2.2  2.7      6.4  0.18\n",
              "DONKEY      90.3      1.7  1.4      6.2  0.40\n",
              "HIPPO       90.4      0.6  4.5      4.4  0.10"
            ],
            "text/html": [
              "\n",
              "  <div id=\"df-48d8db1f-e767-450a-86a6-0b87fad45e85\">\n",
              "    <div class=\"colab-df-container\">\n",
              "      <div>\n",
              "<style scoped>\n",
              "    .dataframe tbody tr th:only-of-type {\n",
              "        vertical-align: middle;\n",
              "    }\n",
              "\n",
              "    .dataframe tbody tr th {\n",
              "        vertical-align: top;\n",
              "    }\n",
              "\n",
              "    .dataframe thead th {\n",
              "        text-align: right;\n",
              "    }\n",
              "</style>\n",
              "<table border=\"1\" class=\"dataframe\">\n",
              "  <thead>\n",
              "    <tr style=\"text-align: right;\">\n",
              "      <th></th>\n",
              "      <th>water</th>\n",
              "      <th>protein</th>\n",
              "      <th>fat</th>\n",
              "      <th>lactose</th>\n",
              "      <th>ash</th>\n",
              "    </tr>\n",
              "    <tr>\n",
              "      <th>Animal</th>\n",
              "      <th></th>\n",
              "      <th></th>\n",
              "      <th></th>\n",
              "      <th></th>\n",
              "      <th></th>\n",
              "    </tr>\n",
              "  </thead>\n",
              "  <tbody>\n",
              "    <tr>\n",
              "      <th>HORSE</th>\n",
              "      <td>90.1</td>\n",
              "      <td>2.6</td>\n",
              "      <td>1.0</td>\n",
              "      <td>6.9</td>\n",
              "      <td>0.35</td>\n",
              "    </tr>\n",
              "    <tr>\n",
              "      <th>ORANGUTAN</th>\n",
              "      <td>88.5</td>\n",
              "      <td>1.4</td>\n",
              "      <td>3.5</td>\n",
              "      <td>6.0</td>\n",
              "      <td>0.24</td>\n",
              "    </tr>\n",
              "    <tr>\n",
              "      <th>MONKEY</th>\n",
              "      <td>88.4</td>\n",
              "      <td>2.2</td>\n",
              "      <td>2.7</td>\n",
              "      <td>6.4</td>\n",
              "      <td>0.18</td>\n",
              "    </tr>\n",
              "    <tr>\n",
              "      <th>DONKEY</th>\n",
              "      <td>90.3</td>\n",
              "      <td>1.7</td>\n",
              "      <td>1.4</td>\n",
              "      <td>6.2</td>\n",
              "      <td>0.40</td>\n",
              "    </tr>\n",
              "    <tr>\n",
              "      <th>HIPPO</th>\n",
              "      <td>90.4</td>\n",
              "      <td>0.6</td>\n",
              "      <td>4.5</td>\n",
              "      <td>4.4</td>\n",
              "      <td>0.10</td>\n",
              "    </tr>\n",
              "  </tbody>\n",
              "</table>\n",
              "</div>\n",
              "      <button class=\"colab-df-convert\" onclick=\"convertToInteractive('df-48d8db1f-e767-450a-86a6-0b87fad45e85')\"\n",
              "              title=\"Convert this dataframe to an interactive table.\"\n",
              "              style=\"display:none;\">\n",
              "        \n",
              "  <svg xmlns=\"http://www.w3.org/2000/svg\" height=\"24px\"viewBox=\"0 0 24 24\"\n",
              "       width=\"24px\">\n",
              "    <path d=\"M0 0h24v24H0V0z\" fill=\"none\"/>\n",
              "    <path d=\"M18.56 5.44l.94 2.06.94-2.06 2.06-.94-2.06-.94-.94-2.06-.94 2.06-2.06.94zm-11 1L8.5 8.5l.94-2.06 2.06-.94-2.06-.94L8.5 2.5l-.94 2.06-2.06.94zm10 10l.94 2.06.94-2.06 2.06-.94-2.06-.94-.94-2.06-.94 2.06-2.06.94z\"/><path d=\"M17.41 7.96l-1.37-1.37c-.4-.4-.92-.59-1.43-.59-.52 0-1.04.2-1.43.59L10.3 9.45l-7.72 7.72c-.78.78-.78 2.05 0 2.83L4 21.41c.39.39.9.59 1.41.59.51 0 1.02-.2 1.41-.59l7.78-7.78 2.81-2.81c.8-.78.8-2.07 0-2.86zM5.41 20L4 18.59l7.72-7.72 1.47 1.35L5.41 20z\"/>\n",
              "  </svg>\n",
              "      </button>\n",
              "      \n",
              "  <style>\n",
              "    .colab-df-container {\n",
              "      display:flex;\n",
              "      flex-wrap:wrap;\n",
              "      gap: 12px;\n",
              "    }\n",
              "\n",
              "    .colab-df-convert {\n",
              "      background-color: #E8F0FE;\n",
              "      border: none;\n",
              "      border-radius: 50%;\n",
              "      cursor: pointer;\n",
              "      display: none;\n",
              "      fill: #1967D2;\n",
              "      height: 32px;\n",
              "      padding: 0 0 0 0;\n",
              "      width: 32px;\n",
              "    }\n",
              "\n",
              "    .colab-df-convert:hover {\n",
              "      background-color: #E2EBFA;\n",
              "      box-shadow: 0px 1px 2px rgba(60, 64, 67, 0.3), 0px 1px 3px 1px rgba(60, 64, 67, 0.15);\n",
              "      fill: #174EA6;\n",
              "    }\n",
              "\n",
              "    [theme=dark] .colab-df-convert {\n",
              "      background-color: #3B4455;\n",
              "      fill: #D2E3FC;\n",
              "    }\n",
              "\n",
              "    [theme=dark] .colab-df-convert:hover {\n",
              "      background-color: #434B5C;\n",
              "      box-shadow: 0px 1px 3px 1px rgba(0, 0, 0, 0.15);\n",
              "      filter: drop-shadow(0px 1px 2px rgba(0, 0, 0, 0.3));\n",
              "      fill: #FFFFFF;\n",
              "    }\n",
              "  </style>\n",
              "\n",
              "      <script>\n",
              "        const buttonEl =\n",
              "          document.querySelector('#df-48d8db1f-e767-450a-86a6-0b87fad45e85 button.colab-df-convert');\n",
              "        buttonEl.style.display =\n",
              "          google.colab.kernel.accessAllowed ? 'block' : 'none';\n",
              "\n",
              "        async function convertToInteractive(key) {\n",
              "          const element = document.querySelector('#df-48d8db1f-e767-450a-86a6-0b87fad45e85');\n",
              "          const dataTable =\n",
              "            await google.colab.kernel.invokeFunction('convertToInteractive',\n",
              "                                                     [key], {});\n",
              "          if (!dataTable) return;\n",
              "\n",
              "          const docLinkHtml = 'Like what you see? Visit the ' +\n",
              "            '<a target=\"_blank\" href=https://colab.research.google.com/notebooks/data_table.ipynb>data table notebook</a>'\n",
              "            + ' to learn more about interactive tables.';\n",
              "          element.innerHTML = '';\n",
              "          dataTable['output_type'] = 'display_data';\n",
              "          await google.colab.output.renderOutput(dataTable, element);\n",
              "          const docLink = document.createElement('div');\n",
              "          docLink.innerHTML = docLinkHtml;\n",
              "          element.appendChild(docLink);\n",
              "        }\n",
              "      </script>\n",
              "    </div>\n",
              "  </div>\n",
              "  "
            ]
          },
          "metadata": {},
          "execution_count": 9
        }
      ]
    },
    {
      "cell_type": "code",
      "source": [
        "#wss method\n",
        "wss = []\n",
        "\n",
        "for i in np.arange(2,10):\n",
        "  km = KMeans(n_clusters = i, random_state =2022)\n",
        "  km.fit(milk_scaled)\n",
        "  wss.append(km.inertia_)\n",
        "\n",
        "with plt.style.context('ggplot'):\n",
        "  plt.scatter(np.arange(2,10), wss)\n",
        "  plt.plot(np.arange(2,10), wss)\n",
        "  plt.title(\"Scree Plot\")\n",
        "  plt.xlabel(\"Ks\")\n",
        "  plt.ylabel(\"WSS\")\n",
        "  fig_size = plt.rcParams[\"figure.figsize\"]\n",
        "  fig_size[0] = 10 # X scaling of fig \n",
        "  fig_size[1] = 6 # Y scaling of fig\n",
        "  #plt.style.context(style=)\n",
        "  #print(plt.style.available)\n",
        "  plt.show()\n"
      ],
      "metadata": {
        "colab": {
          "base_uri": "https://localhost:8080/",
          "height": 376
        },
        "id": "sYnbXS7Jn5U4",
        "outputId": "13290a69-3014-4090-e82e-bb4e0239df7c"
      },
      "execution_count": null,
      "outputs": [
        {
          "output_type": "display_data",
          "data": {
            "text/plain": [
              "<Figure size 2304x576 with 1 Axes>"
            ],
            "image/png": "[encoded data removed]"
          },
          "metadata": {}
        }
      ]
    },
    {
      "cell_type": "code",
      "source": [
        "print(plt.style.available)\n",
        "# ['Solarize_Light2', '_classic_test_patch', 'bmh', 'classic', \n",
        "# 'dark_background', 'fast', 'fivethirtyeight', 'ggplot', 'grayscale', \n",
        "# 'seaborn', 'seaborn-bright', 'seaborn-colorblind', 'seaborn-dark', \n",
        "# 'seaborn-dark-palette', 'seaborn-darkgrid', 'seaborn-deep', 'seaborn-muted', \n",
        "# 'seaborn-notebook', 'seaborn-paper', 'seaborn-pastel', 'seaborn-poster', \n",
        "# 'seaborn-talk', 'seaborn-ticks', 'seaborn-white', 'seaborn-whitegrid', 'tableau-colorblind10']"
      ],
      "metadata": {
        "colab": {
          "base_uri": "https://localhost:8080/"
        },
        "id": "pwL1AFXLtdjQ",
        "outputId": "ede92704-8b2f-467d-8fd3-765583e8e599"
      },
      "execution_count": null,
      "outputs": [
        {
          "output_type": "stream",
          "name": "stdout",
          "text": [
            "['Solarize_Light2', '_classic_test_patch', 'bmh', 'classic', 'dark_background', 'fast', 'fivethirtyeight', 'ggplot', 'grayscale', 'seaborn', 'seaborn-bright', 'seaborn-colorblind', 'seaborn-dark', 'seaborn-dark-palette', 'seaborn-darkgrid', 'seaborn-deep', 'seaborn-muted', 'seaborn-notebook', 'seaborn-paper', 'seaborn-pastel', 'seaborn-poster', 'seaborn-talk', 'seaborn-ticks', 'seaborn-white', 'seaborn-whitegrid', 'tableau-colorblind10']\n"
          ]
        }
      ]
    },
    {
      "cell_type": "code",
      "source": [
        "# Best Cluster is at 4 from the plot above\n",
        "km = KMeans(n_clusters = 4, random_state = 2022)\n",
        "km.fit(milk_scaled)\n",
        "labels = km.predict(milk_scaled)\n",
        "\n",
        "milk['Cluster'] = labels\n",
        "milk.sort_values('Cluster', inplace = True)\n",
        "\n",
        "#calculate centroids\n",
        "milk.groupby('Cluster').mean()"
      ],
      "metadata": {
        "colab": {
          "base_uri": "https://localhost:8080/",
          "height": 206
        },
        "id": "asra6nJhqSlR",
        "outputId": "7e66ca55-be30-46bb-8ebc-98ae4660f270"
      },
      "execution_count": null,
      "outputs": [
        {
          "output_type": "execute_result",
          "data": {
            "text/plain": [
              "          water  protein      fat  lactose      ash\n",
              "Cluster                                            \n",
              "0        79.875     6.95   8.2375   4.2125  0.89375\n",
              "1        88.500     2.57   2.8000   5.6800  0.48500\n",
              "2        67.860    10.74  17.3800   2.3800  1.64000\n",
              "3        45.650    10.15  38.4500   0.4500  0.69000"
            ],
            "text/html": [
              "\n",
              "  <div id=\"df-cff66299-8449-4188-84af-6c6e7717572c\">\n",
              "    <div class=\"colab-df-container\">\n",
              "      <div>\n",
              "<style scoped>\n",
              "    .dataframe tbody tr th:only-of-type {\n",
              "        vertical-align: middle;\n",
              "    }\n",
              "\n",
              "    .dataframe tbody tr th {\n",
              "        vertical-align: top;\n",
              "    }\n",
              "\n",
              "    .dataframe thead th {\n",
              "        text-align: right;\n",
              "    }\n",
              "</style>\n",
              "<table border=\"1\" class=\"dataframe\">\n",
              "  <thead>\n",
              "    <tr style=\"text-align: right;\">\n",
              "      <th></th>\n",
              "      <th>water</th>\n",
              "      <th>protein</th>\n",
              "      <th>fat</th>\n",
              "      <th>lactose</th>\n",
              "      <th>ash</th>\n",
              "    </tr>\n",
              "    <tr>\n",
              "      <th>Cluster</th>\n",
              "      <th></th>\n",
              "      <th></th>\n",
              "      <th></th>\n",
              "      <th></th>\n",
              "      <th></th>\n",
              "    </tr>\n",
              "  </thead>\n",
              "  <tbody>\n",
              "    <tr>\n",
              "      <th>0</th>\n",
              "      <td>79.875</td>\n",
              "      <td>6.95</td>\n",
              "      <td>8.2375</td>\n",
              "      <td>4.2125</td>\n",
              "      <td>0.89375</td>\n",
              "    </tr>\n",
              "    <tr>\n",
              "      <th>1</th>\n",
              "      <td>88.500</td>\n",
              "      <td>2.57</td>\n",
              "      <td>2.8000</td>\n",
              "      <td>5.6800</td>\n",
              "      <td>0.48500</td>\n",
              "    </tr>\n",
              "    <tr>\n",
              "      <th>2</th>\n",
              "      <td>67.860</td>\n",
              "      <td>10.74</td>\n",
              "      <td>17.3800</td>\n",
              "      <td>2.3800</td>\n",
              "      <td>1.64000</td>\n",
              "    </tr>\n",
              "    <tr>\n",
              "      <th>3</th>\n",
              "      <td>45.650</td>\n",
              "      <td>10.15</td>\n",
              "      <td>38.4500</td>\n",
              "      <td>0.4500</td>\n",
              "      <td>0.69000</td>\n",
              "    </tr>\n",
              "  </tbody>\n",
              "</table>\n",
              "</div>\n",
              "      <button class=\"colab-df-convert\" onclick=\"convertToInteractive('df-cff66299-8449-4188-84af-6c6e7717572c')\"\n",
              "              title=\"Convert this dataframe to an interactive table.\"\n",
              "              style=\"display:none;\">\n",
              "        \n",
              "  <svg xmlns=\"http://www.w3.org/2000/svg\" height=\"24px\"viewBox=\"0 0 24 24\"\n",
              "       width=\"24px\">\n",
              "    <path d=\"M0 0h24v24H0V0z\" fill=\"none\"/>\n",
              "    <path d=\"M18.56 5.44l.94 2.06.94-2.06 2.06-.94-2.06-.94-.94-2.06-.94 2.06-2.06.94zm-11 1L8.5 8.5l.94-2.06 2.06-.94-2.06-.94L8.5 2.5l-.94 2.06-2.06.94zm10 10l.94 2.06.94-2.06 2.06-.94-2.06-.94-.94-2.06-.94 2.06-2.06.94z\"/><path d=\"M17.41 7.96l-1.37-1.37c-.4-.4-.92-.59-1.43-.59-.52 0-1.04.2-1.43.59L10.3 9.45l-7.72 7.72c-.78.78-.78 2.05 0 2.83L4 21.41c.39.39.9.59 1.41.59.51 0 1.02-.2 1.41-.59l7.78-7.78 2.81-2.81c.8-.78.8-2.07 0-2.86zM5.41 20L4 18.59l7.72-7.72 1.47 1.35L5.41 20z\"/>\n",
              "  </svg>\n",
              "      </button>\n",
              "      \n",
              "  <style>\n",
              "    .colab-df-container {\n",
              "      display:flex;\n",
              "      flex-wrap:wrap;\n",
              "      gap: 12px;\n",
              "    }\n",
              "\n",
              "    .colab-df-convert {\n",
              "      background-color: #E8F0FE;\n",
              "      border: none;\n",
              "      border-radius: 50%;\n",
              "      cursor: pointer;\n",
              "      display: none;\n",
              "      fill: #1967D2;\n",
              "      height: 32px;\n",
              "      padding: 0 0 0 0;\n",
              "      width: 32px;\n",
              "    }\n",
              "\n",
              "    .colab-df-convert:hover {\n",
              "      background-color: #E2EBFA;\n",
              "      box-shadow: 0px 1px 2px rgba(60, 64, 67, 0.3), 0px 1px 3px 1px rgba(60, 64, 67, 0.15);\n",
              "      fill: #174EA6;\n",
              "    }\n",
              "\n",
              "    [theme=dark] .colab-df-convert {\n",
              "      background-color: #3B4455;\n",
              "      fill: #D2E3FC;\n",
              "    }\n",
              "\n",
              "    [theme=dark] .colab-df-convert:hover {\n",
              "      background-color: #434B5C;\n",
              "      box-shadow: 0px 1px 3px 1px rgba(0, 0, 0, 0.15);\n",
              "      filter: drop-shadow(0px 1px 2px rgba(0, 0, 0, 0.3));\n",
              "      fill: #FFFFFF;\n",
              "    }\n",
              "  </style>\n",
              "\n",
              "      <script>\n",
              "        const buttonEl =\n",
              "          document.querySelector('#df-cff66299-8449-4188-84af-6c6e7717572c button.colab-df-convert');\n",
              "        buttonEl.style.display =\n",
              "          google.colab.kernel.accessAllowed ? 'block' : 'none';\n",
              "\n",
              "        async function convertToInteractive(key) {\n",
              "          const element = document.querySelector('#df-cff66299-8449-4188-84af-6c6e7717572c');\n",
              "          const dataTable =\n",
              "            await google.colab.kernel.invokeFunction('convertToInteractive',\n",
              "                                                     [key], {});\n",
              "          if (!dataTable) return;\n",
              "\n",
              "          const docLinkHtml = 'Like what you see? Visit the ' +\n",
              "            '<a target=\"_blank\" href=https://colab.research.google.com/notebooks/data_table.ipynb>data table notebook</a>'\n",
              "            + ' to learn more about interactive tables.';\n",
              "          element.innerHTML = '';\n",
              "          dataTable['output_type'] = 'display_data';\n",
              "          await google.colab.output.renderOutput(dataTable, element);\n",
              "          const docLink = document.createElement('div');\n",
              "          docLink.innerHTML = docLinkHtml;\n",
              "          element.appendChild(docLink);\n",
              "        }\n",
              "      </script>\n",
              "    </div>\n",
              "  </div>\n",
              "  "
            ]
          },
          "metadata": {},
          "execution_count": 12
        }
      ]
    },
    {
      "cell_type": "code",
      "source": [
        "# Silhouette Score\n",
        "sil = []\n",
        "for i in np.arange(2,10):\n",
        "  km = KMeans(n_clusters = i, random_state =2022)\n",
        "  km.fit(milk_scaled)\n",
        "  labels = km.predict(milk_scaled)\n",
        "  sil.append(silhouette_score(milk_scaled, labels))\n",
        "\n",
        "\n",
        "Ks = np.arange(2,10)\n",
        "print(\"Ks: \", Ks)\n",
        "i_max = np.argmax(sil)\n",
        "best_k = Ks[i_max]\n",
        "print(best_k)\n",
        "print(sil)"
      ],
      "metadata": {
        "colab": {
          "base_uri": "https://localhost:8080/"
        },
        "id": "uXDl1NhZBhXM",
        "outputId": "3d499585-1296-44c0-ca86-fd9c4d3398a4"
      },
      "execution_count": null,
      "outputs": [
        {
          "output_type": "stream",
          "name": "stdout",
          "text": [
            "Ks:  [2 3 4 5 6 7 8 9]\n",
            "3\n",
            "[0.5258508931703421, 0.5391595072079529, 0.44607268416043655, 0.40926029392635116, 0.386462010908779, 0.3720658628104658, 0.39720929806300637, 0.4067070335363199]\n"
          ]
        }
      ]
    },
    {
      "cell_type": "markdown",
      "source": [
        "by WSS method we found had concluded K as _4_ but by silhouette_score we find best_k value as _3_ which is lower so we accept silhouette_score as the better option"
      ],
      "metadata": {
        "id": "vxHf5qh2Bu6R"
      }
    },
    {
      "cell_type": "code",
      "source": [
        "# Silhouette Score\n",
        "sil = []\n",
        "for i in np.arange(2,10):\n",
        "  km = KMeans(n_clusters = i, random_state =2022)\n",
        "  km.fit(nutrient_scaled)\n",
        "  labels = km.predict(nutrient_scaled)\n",
        "  sil.append(silhouette_score(nutrient_scaled, labels))\n",
        "\n",
        "Ks = np.arange(2,10)\n",
        "print(\"Ks: \", Ks)\n",
        "i_max = np.argmax(sil)\n",
        "best_k = Ks[i_max]\n",
        "print(best_k)\n",
        "print(sil)"
      ],
      "metadata": {
        "colab": {
          "base_uri": "https://localhost:8080/"
        },
        "id": "JVyqHE6bCEra",
        "outputId": "e03fa9ac-612f-4cc7-e803-b14d25294caa"
      },
      "execution_count": null,
      "outputs": [
        {
          "output_type": "stream",
          "name": "stdout",
          "text": [
            "Ks:  [2 3 4 5 6 7 8 9]\n",
            "4\n",
            "[0.32577846240602615, 0.40732090146799366, 0.42112362599603276, 0.4119959563384408, 0.3697503613650477, 0.3726092681245859, 0.4047937767281752, 0.38606918904783616]\n"
          ]
        }
      ]
    },
    {
      "cell_type": "code",
      "source": [
        "rfm = '/content/gdrive/MyDrive/Datasets/rfm_data_customer.csv'\n",
        "rfm = pd.read_csv(rfm, index_col=0)\n",
        "rfm.drop(columns=['most_recent_visit'], inplace = True)\n",
        "rfm.info()\n",
        "rfm.head()"
      ],
      "metadata": {
        "colab": {
          "base_uri": "https://localhost:8080/",
          "height": 411
        },
        "id": "DXZgQPEPI1Yi",
        "outputId": "012eff62-14d3-4e32-9c08-0ba6e9cf0537"
      },
      "execution_count": null,
      "outputs": [
        {
          "output_type": "stream",
          "name": "stdout",
          "text": [
            "<class 'pandas.core.frame.DataFrame'>\n",
            "Int64Index: 39999 entries, 22086 to 19184\n",
            "Data columns (total 3 columns):\n",
            " #   Column            Non-Null Count  Dtype\n",
            "---  ------            --------------  -----\n",
            " 0   revenue           39999 non-null  int64\n",
            " 1   number_of_orders  39999 non-null  int64\n",
            " 2   recency_days      39999 non-null  int64\n",
            "dtypes: int64(3)\n",
            "memory usage: 1.2 MB\n"
          ]
        },
        {
          "output_type": "execute_result",
          "data": {
            "text/plain": [
              "             revenue  number_of_orders  recency_days\n",
              "customer_id                                         \n",
              "22086            777                 9           232\n",
              "2290            1555                16           115\n",
              "26377            336                 5            43\n",
              "24650           1189                12            64\n",
              "12883           1229                12            23"
            ],
            "text/html": [
              "\n",
              "  <div id=\"df-289604f3-eb1e-48b6-b51c-4db3cb6f1fdf\">\n",
              "    <div class=\"colab-df-container\">\n",
              "      <div>\n",
              "<style scoped>\n",
              "    .dataframe tbody tr th:only-of-type {\n",
              "        vertical-align: middle;\n",
              "    }\n",
              "\n",
              "    .dataframe tbody tr th {\n",
              "        vertical-align: top;\n",
              "    }\n",
              "\n",
              "    .dataframe thead th {\n",
              "        text-align: right;\n",
              "    }\n",
              "</style>\n",
              "<table border=\"1\" class=\"dataframe\">\n",
              "  <thead>\n",
              "    <tr style=\"text-align: right;\">\n",
              "      <th></th>\n",
              "      <th>revenue</th>\n",
              "      <th>number_of_orders</th>\n",
              "      <th>recency_days</th>\n",
              "    </tr>\n",
              "    <tr>\n",
              "      <th>customer_id</th>\n",
              "      <th></th>\n",
              "      <th></th>\n",
              "      <th></th>\n",
              "    </tr>\n",
              "  </thead>\n",
              "  <tbody>\n",
              "    <tr>\n",
              "      <th>22086</th>\n",
              "      <td>777</td>\n",
              "      <td>9</td>\n",
              "      <td>232</td>\n",
              "    </tr>\n",
              "    <tr>\n",
              "      <th>2290</th>\n",
              "      <td>1555</td>\n",
              "      <td>16</td>\n",
              "      <td>115</td>\n",
              "    </tr>\n",
              "    <tr>\n",
              "      <th>26377</th>\n",
              "      <td>336</td>\n",
              "      <td>5</td>\n",
              "      <td>43</td>\n",
              "    </tr>\n",
              "    <tr>\n",
              "      <th>24650</th>\n",
              "      <td>1189</td>\n",
              "      <td>12</td>\n",
              "      <td>64</td>\n",
              "    </tr>\n",
              "    <tr>\n",
              "      <th>12883</th>\n",
              "      <td>1229</td>\n",
              "      <td>12</td>\n",
              "      <td>23</td>\n",
              "    </tr>\n",
              "  </tbody>\n",
              "</table>\n",
              "</div>\n",
              "      <button class=\"colab-df-convert\" onclick=\"convertToInteractive('df-289604f3-eb1e-48b6-b51c-4db3cb6f1fdf')\"\n",
              "              title=\"Convert this dataframe to an interactive table.\"\n",
              "              style=\"display:none;\">\n",
              "        \n",
              "  <svg xmlns=\"http://www.w3.org/2000/svg\" height=\"24px\"viewBox=\"0 0 24 24\"\n",
              "       width=\"24px\">\n",
              "    <path d=\"M0 0h24v24H0V0z\" fill=\"none\"/>\n",
              "    <path d=\"M18.56 5.44l.94 2.06.94-2.06 2.06-.94-2.06-.94-.94-2.06-.94 2.06-2.06.94zm-11 1L8.5 8.5l.94-2.06 2.06-.94-2.06-.94L8.5 2.5l-.94 2.06-2.06.94zm10 10l.94 2.06.94-2.06 2.06-.94-2.06-.94-.94-2.06-.94 2.06-2.06.94z\"/><path d=\"M17.41 7.96l-1.37-1.37c-.4-.4-.92-.59-1.43-.59-.52 0-1.04.2-1.43.59L10.3 9.45l-7.72 7.72c-.78.78-.78 2.05 0 2.83L4 21.41c.39.39.9.59 1.41.59.51 0 1.02-.2 1.41-.59l7.78-7.78 2.81-2.81c.8-.78.8-2.07 0-2.86zM5.41 20L4 18.59l7.72-7.72 1.47 1.35L5.41 20z\"/>\n",
              "  </svg>\n",
              "      </button>\n",
              "      \n",
              "  <style>\n",
              "    .colab-df-container {\n",
              "      display:flex;\n",
              "      flex-wrap:wrap;\n",
              "      gap: 12px;\n",
              "    }\n",
              "\n",
              "    .colab-df-convert {\n",
              "      background-color: #E8F0FE;\n",
              "      border: none;\n",
              "      border-radius: 50%;\n",
              "      cursor: pointer;\n",
              "      display: none;\n",
              "      fill: #1967D2;\n",
              "      height: 32px;\n",
              "      padding: 0 0 0 0;\n",
              "      width: 32px;\n",
              "    }\n",
              "\n",
              "    .colab-df-convert:hover {\n",
              "      background-color: #E2EBFA;\n",
              "      box-shadow: 0px 1px 2px rgba(60, 64, 67, 0.3), 0px 1px 3px 1px rgba(60, 64, 67, 0.15);\n",
              "      fill: #174EA6;\n",
              "    }\n",
              "\n",
              "    [theme=dark] .colab-df-convert {\n",
              "      background-color: #3B4455;\n",
              "      fill: #D2E3FC;\n",
              "    }\n",
              "\n",
              "    [theme=dark] .colab-df-convert:hover {\n",
              "      background-color: #434B5C;\n",
              "      box-shadow: 0px 1px 3px 1px rgba(0, 0, 0, 0.15);\n",
              "      filter: drop-shadow(0px 1px 2px rgba(0, 0, 0, 0.3));\n",
              "      fill: #FFFFFF;\n",
              "    }\n",
              "  </style>\n",
              "\n",
              "      <script>\n",
              "        const buttonEl =\n",
              "          document.querySelector('#df-289604f3-eb1e-48b6-b51c-4db3cb6f1fdf button.colab-df-convert');\n",
              "        buttonEl.style.display =\n",
              "          google.colab.kernel.accessAllowed ? 'block' : 'none';\n",
              "\n",
              "        async function convertToInteractive(key) {\n",
              "          const element = document.querySelector('#df-289604f3-eb1e-48b6-b51c-4db3cb6f1fdf');\n",
              "          const dataTable =\n",
              "            await google.colab.kernel.invokeFunction('convertToInteractive',\n",
              "                                                     [key], {});\n",
              "          if (!dataTable) return;\n",
              "\n",
              "          const docLinkHtml = 'Like what you see? Visit the ' +\n",
              "            '<a target=\"_blank\" href=https://colab.research.google.com/notebooks/data_table.ipynb>data table notebook</a>'\n",
              "            + ' to learn more about interactive tables.';\n",
              "          element.innerHTML = '';\n",
              "          dataTable['output_type'] = 'display_data';\n",
              "          await google.colab.output.renderOutput(dataTable, element);\n",
              "          const docLink = document.createElement('div');\n",
              "          docLink.innerHTML = docLinkHtml;\n",
              "          element.appendChild(docLink);\n",
              "        }\n",
              "      </script>\n",
              "    </div>\n",
              "  </div>\n",
              "  "
            ]
          },
          "metadata": {},
          "execution_count": 15
        }
      ]
    },
    {
      "cell_type": "code",
      "source": [
        "\n",
        "scaler = StandardScaler()\n",
        "rfm_scaled = scaler.fit_transform(rfm)\n",
        "#wss method\n",
        "wss = []\n",
        "\n",
        "for i in np.arange(2,10):\n",
        "  km = KMeans(n_clusters = i, random_state =2022)\n",
        "  km.fit(rfm_scaled)\n",
        "  wss.append(km.inertia_)\n",
        "\n",
        "with plt.style.context('ggplot'):\n",
        "  plt.scatter(np.arange(2,10), wss)\n",
        "  plt.plot(np.arange(2,10), wss)\n",
        "  plt.title(\"Scree Plot\")\n",
        "  plt.xlabel(\"Ks\")\n",
        "  plt.ylabel(\"WSS\")\n",
        "  fig_size = plt.rcParams[\"figure.figsize\"]\n",
        "  fig_size[0] = 10 # X scaling of fig \n",
        "  fig_size[1] = 6 # Y scaling of fig\n",
        "  #plt.style.context(style=)\n",
        "  #print(plt.style.available)\n",
        "  plt.show()"
      ],
      "metadata": {
        "colab": {
          "base_uri": "https://localhost:8080/",
          "height": 408
        },
        "id": "wwN0eWABJP8j",
        "outputId": "52f946f7-9c4f-4b3e-ad67-4a479a4091c7"
      },
      "execution_count": null,
      "outputs": [
        {
          "output_type": "display_data",
          "data": {
            "text/plain": [
              "<Figure size 720x432 with 1 Axes>"
            ],
            "image/png": "[encoded data removed]"
          },
          "metadata": {}
        }
      ]
    },
    {
      "cell_type": "code",
      "source": [
        "# Silhouette Score\n",
        "sil = []\n",
        "for i in np.arange(2,10):\n",
        "  km = KMeans(n_clusters = i, random_state =2022)\n",
        "  km.fit(rfm_scaled)\n",
        "  labels = km.predict(rfm_scaled)\n",
        "  sil.append(silhouette_score(rfm_scaled, labels))\n",
        "\n",
        "Ks = np.arange(2,10)\n",
        "print(\"Ks: \", Ks)\n",
        "i_max = np.argmax(sil)\n",
        "best_k = Ks[i_max]\n",
        "print(best_k)"
      ],
      "metadata": {
        "colab": {
          "base_uri": "https://localhost:8080/"
        },
        "id": "GHvRFjEvKNxG",
        "outputId": "ee1e5cf1-e6e2-4bf9-8767-766baa3ab1e5"
      },
      "execution_count": null,
      "outputs": [
        {
          "output_type": "stream",
          "name": "stdout",
          "text": [
            "Ks:  [2 3 4 5 6 7 8 9]\n",
            "3\n"
          ]
        }
      ]
    },
    {
      "cell_type": "code",
      "source": [
        "# Best Cluster is at best_k\n",
        "km = KMeans(n_clusters = best_k, random_state = 2022)\n",
        "km.fit(rfm_scaled)\n",
        "labels = km.predict(rfm_scaled)\n",
        "rfm['Cluster'] = labels\n",
        "rfm.sort_values('Cluster', inplace = True)\n",
        "#calculate centroids\n",
        "rfm.groupby('Cluster').mean()"
      ],
      "metadata": {
        "colab": {
          "base_uri": "https://localhost:8080/",
          "height": 175
        },
        "id": "ulkevd4XKSKW",
        "outputId": "4e646f69-f655-4374-b3dc-fd00985a8f83"
      },
      "execution_count": null,
      "outputs": [
        {
          "output_type": "execute_result",
          "data": {
            "text/plain": [
              "             revenue  number_of_orders  recency_days\n",
              "Cluster                                             \n",
              "0         752.325394          8.255605    135.857197\n",
              "1        1284.438924         12.937297    133.228376\n",
              "2         691.464651          7.344465    415.780084"
            ],
            "text/html": [
              "\n",
              "  <div id=\"df-77b40a4b-99ed-4dd2-98f1-024cb2b0a089\">\n",
              "    <div class=\"colab-df-container\">\n",
              "      <div>\n",
              "<style scoped>\n",
              "    .dataframe tbody tr th:only-of-type {\n",
              "        vertical-align: middle;\n",
              "    }\n",
              "\n",
              "    .dataframe tbody tr th {\n",
              "        vertical-align: top;\n",
              "    }\n",
              "\n",
              "    .dataframe thead th {\n",
              "        text-align: right;\n",
              "    }\n",
              "</style>\n",
              "<table border=\"1\" class=\"dataframe\">\n",
              "  <thead>\n",
              "    <tr style=\"text-align: right;\">\n",
              "      <th></th>\n",
              "      <th>revenue</th>\n",
              "      <th>number_of_orders</th>\n",
              "      <th>recency_days</th>\n",
              "    </tr>\n",
              "    <tr>\n",
              "      <th>Cluster</th>\n",
              "      <th></th>\n",
              "      <th></th>\n",
              "      <th></th>\n",
              "    </tr>\n",
              "  </thead>\n",
              "  <tbody>\n",
              "    <tr>\n",
              "      <th>0</th>\n",
              "      <td>752.325394</td>\n",
              "      <td>8.255605</td>\n",
              "      <td>135.857197</td>\n",
              "    </tr>\n",
              "    <tr>\n",
              "      <th>1</th>\n",
              "      <td>1284.438924</td>\n",
              "      <td>12.937297</td>\n",
              "      <td>133.228376</td>\n",
              "    </tr>\n",
              "    <tr>\n",
              "      <th>2</th>\n",
              "      <td>691.464651</td>\n",
              "      <td>7.344465</td>\n",
              "      <td>415.780084</td>\n",
              "    </tr>\n",
              "  </tbody>\n",
              "</table>\n",
              "</div>\n",
              "      <button class=\"colab-df-convert\" onclick=\"convertToInteractive('df-77b40a4b-99ed-4dd2-98f1-024cb2b0a089')\"\n",
              "              title=\"Convert this dataframe to an interactive table.\"\n",
              "              style=\"display:none;\">\n",
              "        \n",
              "  <svg xmlns=\"http://www.w3.org/2000/svg\" height=\"24px\"viewBox=\"0 0 24 24\"\n",
              "       width=\"24px\">\n",
              "    <path d=\"M0 0h24v24H0V0z\" fill=\"none\"/>\n",
              "    <path d=\"M18.56 5.44l.94 2.06.94-2.06 2.06-.94-2.06-.94-.94-2.06-.94 2.06-2.06.94zm-11 1L8.5 8.5l.94-2.06 2.06-.94-2.06-.94L8.5 2.5l-.94 2.06-2.06.94zm10 10l.94 2.06.94-2.06 2.06-.94-2.06-.94-.94-2.06-.94 2.06-2.06.94z\"/><path d=\"M17.41 7.96l-1.37-1.37c-.4-.4-.92-.59-1.43-.59-.52 0-1.04.2-1.43.59L10.3 9.45l-7.72 7.72c-.78.78-.78 2.05 0 2.83L4 21.41c.39.39.9.59 1.41.59.51 0 1.02-.2 1.41-.59l7.78-7.78 2.81-2.81c.8-.78.8-2.07 0-2.86zM5.41 20L4 18.59l7.72-7.72 1.47 1.35L5.41 20z\"/>\n",
              "  </svg>\n",
              "      </button>\n",
              "      \n",
              "  <style>\n",
              "    .colab-df-container {\n",
              "      display:flex;\n",
              "      flex-wrap:wrap;\n",
              "      gap: 12px;\n",
              "    }\n",
              "\n",
              "    .colab-df-convert {\n",
              "      background-color: #E8F0FE;\n",
              "      border: none;\n",
              "      border-radius: 50%;\n",
              "      cursor: pointer;\n",
              "      display: none;\n",
              "      fill: #1967D2;\n",
              "      height: 32px;\n",
              "      padding: 0 0 0 0;\n",
              "      width: 32px;\n",
              "    }\n",
              "\n",
              "    .colab-df-convert:hover {\n",
              "      background-color: #E2EBFA;\n",
              "      box-shadow: 0px 1px 2px rgba(60, 64, 67, 0.3), 0px 1px 3px 1px rgba(60, 64, 67, 0.15);\n",
              "      fill: #174EA6;\n",
              "    }\n",
              "\n",
              "    [theme=dark] .colab-df-convert {\n",
              "      background-color: #3B4455;\n",
              "      fill: #D2E3FC;\n",
              "    }\n",
              "\n",
              "    [theme=dark] .colab-df-convert:hover {\n",
              "      background-color: #434B5C;\n",
              "      box-shadow: 0px 1px 3px 1px rgba(0, 0, 0, 0.15);\n",
              "      filter: drop-shadow(0px 1px 2px rgba(0, 0, 0, 0.3));\n",
              "      fill: #FFFFFF;\n",
              "    }\n",
              "  </style>\n",
              "\n",
              "      <script>\n",
              "        const buttonEl =\n",
              "          document.querySelector('#df-77b40a4b-99ed-4dd2-98f1-024cb2b0a089 button.colab-df-convert');\n",
              "        buttonEl.style.display =\n",
              "          google.colab.kernel.accessAllowed ? 'block' : 'none';\n",
              "\n",
              "        async function convertToInteractive(key) {\n",
              "          const element = document.querySelector('#df-77b40a4b-99ed-4dd2-98f1-024cb2b0a089');\n",
              "          const dataTable =\n",
              "            await google.colab.kernel.invokeFunction('convertToInteractive',\n",
              "                                                     [key], {});\n",
              "          if (!dataTable) return;\n",
              "\n",
              "          const docLinkHtml = 'Like what you see? Visit the ' +\n",
              "            '<a target=\"_blank\" href=https://colab.research.google.com/notebooks/data_table.ipynb>data table notebook</a>'\n",
              "            + ' to learn more about interactive tables.';\n",
              "          element.innerHTML = '';\n",
              "          dataTable['output_type'] = 'display_data';\n",
              "          await google.colab.output.renderOutput(dataTable, element);\n",
              "          const docLink = document.createElement('div');\n",
              "          docLink.innerHTML = docLinkHtml;\n",
              "          element.appendChild(docLink);\n",
              "        }\n",
              "      </script>\n",
              "    </div>\n",
              "  </div>\n",
              "  "
            ]
          },
          "metadata": {},
          "execution_count": 18
        }
      ]
    },
    {
      "cell_type": "markdown",
      "source": [
        "# On Boston which is the best K?"
      ],
      "metadata": {
        "id": "kBWOw1e4Old6"
      }
    },
    {
      "cell_type": "code",
      "source": [
        "boston = '/content/gdrive/MyDrive/Datasets/Boston.csv'\n",
        "boston = pd.read_csv(boston)\n",
        "boston.info()"
      ],
      "metadata": {
        "colab": {
          "base_uri": "https://localhost:8080/"
        },
        "id": "BIjByrSxOknj",
        "outputId": "3e0ad193-b123-42a6-d92f-47b4078d33b6"
      },
      "execution_count": null,
      "outputs": [
        {
          "output_type": "stream",
          "name": "stdout",
          "text": [
            "<class 'pandas.core.frame.DataFrame'>\n",
            "RangeIndex: 506 entries, 0 to 505\n",
            "Data columns (total 14 columns):\n",
            " #   Column   Non-Null Count  Dtype  \n",
            "---  ------   --------------  -----  \n",
            " 0   crim     506 non-null    float64\n",
            " 1   zn       506 non-null    float64\n",
            " 2   indus    506 non-null    float64\n",
            " 3   chas     506 non-null    int64  \n",
            " 4   nox      506 non-null    float64\n",
            " 5   rm       506 non-null    float64\n",
            " 6   age      506 non-null    float64\n",
            " 7   dis      506 non-null    float64\n",
            " 8   rad      506 non-null    int64  \n",
            " 9   tax      506 non-null    int64  \n",
            " 10  ptratio  506 non-null    float64\n",
            " 11  black    506 non-null    float64\n",
            " 12  lstat    506 non-null    float64\n",
            " 13  medv     506 non-null    float64\n",
            "dtypes: float64(11), int64(3)\n",
            "memory usage: 55.5 KB\n"
          ]
        }
      ]
    },
    {
      "cell_type": "code",
      "source": [
        "from sklearn.preprocessing import StandardScaler\n",
        "scaler = StandardScaler()\n",
        "boston_scaled = scaler.fit_transform(boston)\n",
        "# Silhouette Score\n",
        "sil = []\n",
        "for i in np.arange(2,10):\n",
        "  km = KMeans(n_clusters = i, random_state =2022)\n",
        "  km.fit(boston_scaled)\n",
        "  labels = km.predict(boston_scaled)\n",
        "  sil.append(silhouette_score(boston_scaled, labels))\n",
        "\n",
        "Ks = np.arange(2,10)\n",
        "print(\"Ks: \", Ks)\n",
        "i_max = np.argmax(sil)\n",
        "best_k = Ks[i_max]\n",
        "print(best_k)\n",
        "\n",
        "\n",
        "#with wss\n",
        "wss = []\n",
        "for i in np.arange(2,10):\n",
        "  km = KMeans(n_clusters = i, random_state =2022)\n",
        "  km.fit(boston_scaled)\n",
        "  wss.append(km.inertia_)\n",
        "\n",
        "with plt.style.context('ggplot'):\n",
        "  plt.scatter(np.arange(2,10), wss)\n",
        "  plt.plot(np.arange(2,10), wss)\n",
        "  plt.title(\"Scree Plot\")\n",
        "  plt.xlabel(\"Ks\")\n",
        "  plt.ylabel(\"WSS\")\n",
        "  fig_size = plt.rcParams[\"figure.figsize\"]\n",
        "  fig_size[0] = 10 # X scaling of fig \n",
        "  fig_size[1] = 6 # Y scaling of fig\n",
        "  #plt.style.context(style=)\n",
        "  #print(plt.style.available)\n",
        "  plt.show()"
      ],
      "metadata": {
        "colab": {
          "base_uri": "https://localhost:8080/",
          "height": 443
        },
        "id": "EcFzuNa0O3CD",
        "outputId": "5e728dbf-47c2-4698-9ca0-afd47049ff11"
      },
      "execution_count": null,
      "outputs": [
        {
          "output_type": "stream",
          "name": "stdout",
          "text": [
            "Ks:  [2 3 4 5 6 7 8 9]\n",
            "2\n"
          ]
        },
        {
          "output_type": "display_data",
          "data": {
            "text/plain": [
              "<Figure size 720x432 with 1 Axes>"
            ],
            "image/png": "[encoded data removed]"
          },
          "metadata": {}
        }
      ]
    },
    {
      "cell_type": "markdown",
      "source": [
        "# DBSCAN on milk data"
      ],
      "metadata": {
        "id": "oy46i-SXW675"
      }
    },
    {
      "cell_type": "code",
      "source": [
        "from sklearn.cluster import DBSCAN\n",
        "import numpy as np\n",
        "import pandas as pd\n",
        "from sklearn.preprocessing import StandardScaler\n",
        "from sklearn.metrics import silhouette_score\n",
        "\n",
        "from google.colab import drive\n",
        "drive.mount('/content/gdrive')\n",
        "milk = '/content/gdrive/MyDrive/Datasets/milk.csv'\n",
        "milk = pd.read_csv(milk,index_col=0)\n",
        "\n",
        "# Create scaler: scaler\n",
        "scaler = StandardScaler()\n",
        "milkscaled=scaler.fit_transform(milk)\n",
        "\n",
        "clust_DB = DBSCAN(eps=0.4, min_samples=3)\n",
        "clust_DB.fit(milkscaled)\n",
        "print(clust_DB.labels_)\n",
        "\n",
        "eps_range = [0.1,0.2,0.3,0.4,0.6,1]\n",
        "mp_range = [2,3,4,5]\n",
        "cnt = 0\n",
        "a =[]\n",
        "for i in eps_range:\n",
        "    for j in mp_range:\n",
        "        clust_DB = DBSCAN(eps=i, min_samples=j)\n",
        "        clust_DB.fit(milkscaled)\n",
        "        if len(set(clust_DB.labels_)) >= 2:\n",
        "            cnt = cnt + 1\n",
        "            sil_sc = silhouette_score(milkscaled,clust_DB.labels_)\n",
        "            a.append([cnt,i,j,sil_sc])\n",
        "            print(i,j,sil_sc)\n",
        " \n",
        "a = np.array(a)\n",
        "pa = pd.DataFrame(a,columns=['Sr','eps','min_pt','sil'])\n",
        "print(\"Best Paramters:\")\n",
        "pa[pa['sil'] == pa['sil'].max()]\n"
      ],
      "metadata": {
        "colab": {
          "base_uri": "https://localhost:8080/",
          "height": 390
        },
        "id": "LV31zITdWpk9",
        "outputId": "6ab755b9-6668-4dc2-b354-f8641ca7a65e"
      },
      "execution_count": null,
      "outputs": [
        {
          "output_type": "stream",
          "name": "stdout",
          "text": [
            "Drive already mounted at /content/gdrive; to attempt to forcibly remount, call drive.mount(\"/content/gdrive\", force_remount=True).\n",
            "[-1 -1 -1 -1 -1  0  0  1 -1 -1  1  0 -1 -1  0  1 -1 -1 -1 -1 -1 -1 -1 -1\n",
            " -1]\n",
            "0.2 2 0.17583990589921172\n",
            "0.3 2 0.17583990589921172\n",
            "0.4 2 -0.04604359194982988\n",
            "0.4 3 -0.10510064116041587\n",
            "0.6 2 0.11128849193649236\n",
            "0.6 3 0.1716416331272206\n",
            "0.6 4 0.15380744254580475\n",
            "0.6 5 0.19699498436583696\n",
            "1 2 0.2676764654728567\n",
            "1 3 0.34346608316576144\n",
            "1 4 0.4456667238577395\n",
            "1 5 0.4456667238577395\n",
            "Best Paramters:\n"
          ]
        },
        {
          "output_type": "execute_result",
          "data": {
            "text/plain": [
              "      Sr  eps  min_pt       sil\n",
              "10  11.0  1.0     4.0  0.445667\n",
              "11  12.0  1.0     5.0  0.445667"
            ],
            "text/html": [
              "\n",
              "  <div id=\"df-9c0e46d6-87e5-4ac3-a8b6-e67279297ac6\">\n",
              "    <div class=\"colab-df-container\">\n",
              "      <div>\n",
              "<style scoped>\n",
              "    .dataframe tbody tr th:only-of-type {\n",
              "        vertical-align: middle;\n",
              "    }\n",
              "\n",
              "    .dataframe tbody tr th {\n",
              "        vertical-align: top;\n",
              "    }\n",
              "\n",
              "    .dataframe thead th {\n",
              "        text-align: right;\n",
              "    }\n",
              "</style>\n",
              "<table border=\"1\" class=\"dataframe\">\n",
              "  <thead>\n",
              "    <tr style=\"text-align: right;\">\n",
              "      <th></th>\n",
              "      <th>Sr</th>\n",
              "      <th>eps</th>\n",
              "      <th>min_pt</th>\n",
              "      <th>sil</th>\n",
              "    </tr>\n",
              "  </thead>\n",
              "  <tbody>\n",
              "    <tr>\n",
              "      <th>10</th>\n",
              "      <td>11.0</td>\n",
              "      <td>1.0</td>\n",
              "      <td>4.0</td>\n",
              "      <td>0.445667</td>\n",
              "    </tr>\n",
              "    <tr>\n",
              "      <th>11</th>\n",
              "      <td>12.0</td>\n",
              "      <td>1.0</td>\n",
              "      <td>5.0</td>\n",
              "      <td>0.445667</td>\n",
              "    </tr>\n",
              "  </tbody>\n",
              "</table>\n",
              "</div>\n",
              "      <button class=\"colab-df-convert\" onclick=\"convertToInteractive('df-9c0e46d6-87e5-4ac3-a8b6-e67279297ac6')\"\n",
              "              title=\"Convert this dataframe to an interactive table.\"\n",
              "              style=\"display:none;\">\n",
              "        \n",
              "  <svg xmlns=\"http://www.w3.org/2000/svg\" height=\"24px\"viewBox=\"0 0 24 24\"\n",
              "       width=\"24px\">\n",
              "    <path d=\"M0 0h24v24H0V0z\" fill=\"none\"/>\n",
              "    <path d=\"M18.56 5.44l.94 2.06.94-2.06 2.06-.94-2.06-.94-.94-2.06-.94 2.06-2.06.94zm-11 1L8.5 8.5l.94-2.06 2.06-.94-2.06-.94L8.5 2.5l-.94 2.06-2.06.94zm10 10l.94 2.06.94-2.06 2.06-.94-2.06-.94-.94-2.06-.94 2.06-2.06.94z\"/><path d=\"M17.41 7.96l-1.37-1.37c-.4-.4-.92-.59-1.43-.59-.52 0-1.04.2-1.43.59L10.3 9.45l-7.72 7.72c-.78.78-.78 2.05 0 2.83L4 21.41c.39.39.9.59 1.41.59.51 0 1.02-.2 1.41-.59l7.78-7.78 2.81-2.81c.8-.78.8-2.07 0-2.86zM5.41 20L4 18.59l7.72-7.72 1.47 1.35L5.41 20z\"/>\n",
              "  </svg>\n",
              "      </button>\n",
              "      \n",
              "  <style>\n",
              "    .colab-df-container {\n",
              "      display:flex;\n",
              "      flex-wrap:wrap;\n",
              "      gap: 12px;\n",
              "    }\n",
              "\n",
              "    .colab-df-convert {\n",
              "      background-color: #E8F0FE;\n",
              "      border: none;\n",
              "      border-radius: 50%;\n",
              "      cursor: pointer;\n",
              "      display: none;\n",
              "      fill: #1967D2;\n",
              "      height: 32px;\n",
              "      padding: 0 0 0 0;\n",
              "      width: 32px;\n",
              "    }\n",
              "\n",
              "    .colab-df-convert:hover {\n",
              "      background-color: #E2EBFA;\n",
              "      box-shadow: 0px 1px 2px rgba(60, 64, 67, 0.3), 0px 1px 3px 1px rgba(60, 64, 67, 0.15);\n",
              "      fill: #174EA6;\n",
              "    }\n",
              "\n",
              "    [theme=dark] .colab-df-convert {\n",
              "      background-color: #3B4455;\n",
              "      fill: #D2E3FC;\n",
              "    }\n",
              "\n",
              "    [theme=dark] .colab-df-convert:hover {\n",
              "      background-color: #434B5C;\n",
              "      box-shadow: 0px 1px 3px 1px rgba(0, 0, 0, 0.15);\n",
              "      filter: drop-shadow(0px 1px 2px rgba(0, 0, 0, 0.3));\n",
              "      fill: #FFFFFF;\n",
              "    }\n",
              "  </style>\n",
              "\n",
              "      <script>\n",
              "        const buttonEl =\n",
              "          document.querySelector('#df-9c0e46d6-87e5-4ac3-a8b6-e67279297ac6 button.colab-df-convert');\n",
              "        buttonEl.style.display =\n",
              "          google.colab.kernel.accessAllowed ? 'block' : 'none';\n",
              "\n",
              "        async function convertToInteractive(key) {\n",
              "          const element = document.querySelector('#df-9c0e46d6-87e5-4ac3-a8b6-e67279297ac6');\n",
              "          const dataTable =\n",
              "            await google.colab.kernel.invokeFunction('convertToInteractive',\n",
              "                                                     [key], {});\n",
              "          if (!dataTable) return;\n",
              "\n",
              "          const docLinkHtml = 'Like what you see? Visit the ' +\n",
              "            '<a target=\"_blank\" href=https://colab.research.google.com/notebooks/data_table.ipynb>data table notebook</a>'\n",
              "            + ' to learn more about interactive tables.';\n",
              "          element.innerHTML = '';\n",
              "          dataTable['output_type'] = 'display_data';\n",
              "          await google.colab.output.renderOutput(dataTable, element);\n",
              "          const docLink = document.createElement('div');\n",
              "          docLink.innerHTML = docLinkHtml;\n",
              "          element.appendChild(docLink);\n",
              "        }\n",
              "      </script>\n",
              "    </div>\n",
              "  </div>\n",
              "  "
            ]
          },
          "metadata": {},
          "execution_count": 21
        }
      ]
    },
    {
      "cell_type": "code",
      "source": [],
      "metadata": {
        "id": "cdzWwkSatjYG"
      },
      "execution_count": null,
      "outputs": []
    },
    {
      "cell_type": "markdown",
      "source": [
        "# DBSCAN on nutrients.csv"
      ],
      "metadata": {
        "id": "mv7jhAlGXC9o"
      }
    },
    {
      "cell_type": "code",
      "source": [
        "from sklearn.cluster import DBSCAN\n",
        "import numpy as np\n",
        "import pandas as pd\n",
        "from sklearn.preprocessing import StandardScaler\n",
        "from sklearn.metrics import silhouette_score\n",
        "\n",
        "from google.colab import drive\n",
        "drive.mount('/content/gdrive')\n",
        "nutrient = '/content/gdrive/MyDrive/Datasets/nutrient.csv'\n",
        "nutrient = pd.read_csv(nutrient,index_col=0)\n",
        "\n",
        "# Create scaler: scaler\n",
        "scaler = StandardScaler()\n",
        "nutrientscaled=scaler.fit_transform(nutrient)\n",
        "\n",
        "clust_DB = DBSCAN(eps=0.4, min_samples=3)\n",
        "clust_DB.fit(nutrientscaled)\n",
        "print(clust_DB.labels_)\n",
        "\n",
        "eps_range = [0.1,0.2,0.3,0.4,0.6,1]\n",
        "mp_range = [2,3,4,5]\n",
        "cnt = 0\n",
        "a =[]\n",
        "for eps in eps_range:\n",
        "    for minp in mp_range:\n",
        "        clust_DB = DBSCAN(eps=eps, min_samples=j)\n",
        "        clust_DB.fit(nutrientscaled)\n",
        "        if len(set(clust_DB.labels_)) >= 2:\n",
        "            cnt = cnt + 1\n",
        "            sil_sc = silhouette_score(nutrientscaled,clust_DB.labels_)\n",
        "            a.append([cnt,eps,minp,sil_sc])\n",
        "            print(cnt,eps,minp,sil_sc)\n",
        " \n",
        "a = np.array(a)\n",
        "pa = pd.DataFrame(a,columns=['Sr','eps','min_pt','sil'])\n",
        "print(\"Best Paramters:\")\n",
        "pa[pa['sil'] == pa['sil'].max()]\n"
      ],
      "metadata": {
        "colab": {
          "base_uri": "https://localhost:8080/",
          "height": 453
        },
        "id": "DQHZI8TiXIMP",
        "outputId": "a7b63c04-cf6e-48b6-d95e-32b7504cf7f7"
      },
      "execution_count": null,
      "outputs": [
        {
          "output_type": "stream",
          "name": "stdout",
          "text": [
            "Drive already mounted at /content/gdrive; to attempt to forcibly remount, call drive.mount(\"/content/gdrive\", force_remount=True).\n",
            "[ 0 -1 -1  0 -1 -1 -1 -1 -1 -1  0  0  0 -1 -1 -1 -1 -1 -1 -1 -1 -1 -1 -1\n",
            " -1 -1 -1]\n",
            "1 0.4 2 0.20560704016956396\n",
            "2 0.4 3 0.20560704016956396\n",
            "3 0.4 4 0.20560704016956396\n",
            "4 0.4 5 0.20560704016956396\n",
            "5 0.6 2 0.20560704016956396\n",
            "6 0.6 3 0.20560704016956396\n",
            "7 0.6 4 0.20560704016956396\n",
            "8 0.6 5 0.20560704016956396\n",
            "9 1 2 0.24387369843497328\n",
            "10 1 3 0.24387369843497328\n",
            "11 1 4 0.24387369843497328\n",
            "12 1 5 0.24387369843497328\n",
            "Best Paramters:\n"
          ]
        },
        {
          "output_type": "execute_result",
          "data": {
            "text/plain": [
              "      Sr  eps  min_pt       sil\n",
              "8    9.0  1.0     2.0  0.243874\n",
              "9   10.0  1.0     3.0  0.243874\n",
              "10  11.0  1.0     4.0  0.243874\n",
              "11  12.0  1.0     5.0  0.243874"
            ],
            "text/html": [
              "\n",
              "  <div id=\"df-3a28b998-fd1c-423d-883f-d52ed1a7c860\">\n",
              "    <div class=\"colab-df-container\">\n",
              "      <div>\n",
              "<style scoped>\n",
              "    .dataframe tbody tr th:only-of-type {\n",
              "        vertical-align: middle;\n",
              "    }\n",
              "\n",
              "    .dataframe tbody tr th {\n",
              "        vertical-align: top;\n",
              "    }\n",
              "\n",
              "    .dataframe thead th {\n",
              "        text-align: right;\n",
              "    }\n",
              "</style>\n",
              "<table border=\"1\" class=\"dataframe\">\n",
              "  <thead>\n",
              "    <tr style=\"text-align: right;\">\n",
              "      <th></th>\n",
              "      <th>Sr</th>\n",
              "      <th>eps</th>\n",
              "      <th>min_pt</th>\n",
              "      <th>sil</th>\n",
              "    </tr>\n",
              "  </thead>\n",
              "  <tbody>\n",
              "    <tr>\n",
              "      <th>8</th>\n",
              "      <td>9.0</td>\n",
              "      <td>1.0</td>\n",
              "      <td>2.0</td>\n",
              "      <td>0.243874</td>\n",
              "    </tr>\n",
              "    <tr>\n",
              "      <th>9</th>\n",
              "      <td>10.0</td>\n",
              "      <td>1.0</td>\n",
              "      <td>3.0</td>\n",
              "      <td>0.243874</td>\n",
              "    </tr>\n",
              "    <tr>\n",
              "      <th>10</th>\n",
              "      <td>11.0</td>\n",
              "      <td>1.0</td>\n",
              "      <td>4.0</td>\n",
              "      <td>0.243874</td>\n",
              "    </tr>\n",
              "    <tr>\n",
              "      <th>11</th>\n",
              "      <td>12.0</td>\n",
              "      <td>1.0</td>\n",
              "      <td>5.0</td>\n",
              "      <td>0.243874</td>\n",
              "    </tr>\n",
              "  </tbody>\n",
              "</table>\n",
              "</div>\n",
              "      <button class=\"colab-df-convert\" onclick=\"convertToInteractive('df-3a28b998-fd1c-423d-883f-d52ed1a7c860')\"\n",
              "              title=\"Convert this dataframe to an interactive table.\"\n",
              "              style=\"display:none;\">\n",
              "        \n",
              "  <svg xmlns=\"http://www.w3.org/2000/svg\" height=\"24px\"viewBox=\"0 0 24 24\"\n",
              "       width=\"24px\">\n",
              "    <path d=\"M0 0h24v24H0V0z\" fill=\"none\"/>\n",
              "    <path d=\"M18.56 5.44l.94 2.06.94-2.06 2.06-.94-2.06-.94-.94-2.06-.94 2.06-2.06.94zm-11 1L8.5 8.5l.94-2.06 2.06-.94-2.06-.94L8.5 2.5l-.94 2.06-2.06.94zm10 10l.94 2.06.94-2.06 2.06-.94-2.06-.94-.94-2.06-.94 2.06-2.06.94z\"/><path d=\"M17.41 7.96l-1.37-1.37c-.4-.4-.92-.59-1.43-.59-.52 0-1.04.2-1.43.59L10.3 9.45l-7.72 7.72c-.78.78-.78 2.05 0 2.83L4 21.41c.39.39.9.59 1.41.59.51 0 1.02-.2 1.41-.59l7.78-7.78 2.81-2.81c.8-.78.8-2.07 0-2.86zM5.41 20L4 18.59l7.72-7.72 1.47 1.35L5.41 20z\"/>\n",
              "  </svg>\n",
              "      </button>\n",
              "      \n",
              "  <style>\n",
              "    .colab-df-container {\n",
              "      display:flex;\n",
              "      flex-wrap:wrap;\n",
              "      gap: 12px;\n",
              "    }\n",
              "\n",
              "    .colab-df-convert {\n",
              "      background-color: #E8F0FE;\n",
              "      border: none;\n",
              "      border-radius: 50%;\n",
              "      cursor: pointer;\n",
              "      display: none;\n",
              "      fill: #1967D2;\n",
              "      height: 32px;\n",
              "      padding: 0 0 0 0;\n",
              "      width: 32px;\n",
              "    }\n",
              "\n",
              "    .colab-df-convert:hover {\n",
              "      background-color: #E2EBFA;\n",
              "      box-shadow: 0px 1px 2px rgba(60, 64, 67, 0.3), 0px 1px 3px 1px rgba(60, 64, 67, 0.15);\n",
              "      fill: #174EA6;\n",
              "    }\n",
              "\n",
              "    [theme=dark] .colab-df-convert {\n",
              "      background-color: #3B4455;\n",
              "      fill: #D2E3FC;\n",
              "    }\n",
              "\n",
              "    [theme=dark] .colab-df-convert:hover {\n",
              "      background-color: #434B5C;\n",
              "      box-shadow: 0px 1px 3px 1px rgba(0, 0, 0, 0.15);\n",
              "      filter: drop-shadow(0px 1px 2px rgba(0, 0, 0, 0.3));\n",
              "      fill: #FFFFFF;\n",
              "    }\n",
              "  </style>\n",
              "\n",
              "      <script>\n",
              "        const buttonEl =\n",
              "          document.querySelector('#df-3a28b998-fd1c-423d-883f-d52ed1a7c860 button.colab-df-convert');\n",
              "        buttonEl.style.display =\n",
              "          google.colab.kernel.accessAllowed ? 'block' : 'none';\n",
              "\n",
              "        async function convertToInteractive(key) {\n",
              "          const element = document.querySelector('#df-3a28b998-fd1c-423d-883f-d52ed1a7c860');\n",
              "          const dataTable =\n",
              "            await google.colab.kernel.invokeFunction('convertToInteractive',\n",
              "                                                     [key], {});\n",
              "          if (!dataTable) return;\n",
              "\n",
              "          const docLinkHtml = 'Like what you see? Visit the ' +\n",
              "            '<a target=\"_blank\" href=https://colab.research.google.com/notebooks/data_table.ipynb>data table notebook</a>'\n",
              "            + ' to learn more about interactive tables.';\n",
              "          element.innerHTML = '';\n",
              "          dataTable['output_type'] = 'display_data';\n",
              "          await google.colab.output.renderOutput(dataTable, element);\n",
              "          const docLink = document.createElement('div');\n",
              "          docLink.innerHTML = docLinkHtml;\n",
              "          element.appendChild(docLink);\n",
              "        }\n",
              "      </script>\n",
              "    </div>\n",
              "  </div>\n",
              "  "
            ]
          },
          "metadata": {},
          "execution_count": 22
        }
      ]
    },
    {
      "cell_type": "markdown",
      "source": [
        "# FEATURE EXTRACTION CLUSTERING"
      ],
      "metadata": {
        "id": "RVVq06cj7Tkb"
      }
    },
    {
      "cell_type": "code",
      "source": [
        "from sklearn.linear_model import LinearRegression\n",
        "from sklearn.metrics import r2_score\n",
        "\n",
        "cd = '/content/gdrive/MyDrive/Datasets/Concrete_Data.csv'\n",
        "cd = pd.read_csv(cd)\n",
        "cd.info()\n",
        "\n",
        "X = cd.drop('Strength', axis=1)\n",
        "y = cd['Strength']\n",
        "from sklearn.preprocessing import StandardScaler\n",
        "scaler = StandardScaler()\n",
        "cd_scaled = scaler.fit_transform(X)\n",
        "# Silhouette Score\n",
        "sil = []\n",
        "for i in np.arange(2,10):\n",
        "  km = KMeans(n_clusters = i, random_state =2022)\n",
        "  km.fit(cd_scaled)\n",
        "  labels = km.predict(cd_scaled)\n",
        "  sil.append(silhouette_score(cd_scaled, labels))\n",
        "\n",
        "Ks = np.arange(2,10)\n",
        "print(\"Ks: \", Ks)\n",
        "i_max = np.argmax(sil)\n",
        "best_k = Ks[i_max]\n",
        "print(best_k)\n",
        "print(sil)\n",
        "\n",
        "\n",
        "y = cd['Strength']\n",
        "lr = LinearRegression()\n",
        "lr.fit(X,y)\n",
        "y_pred = lr.predict(X)\n",
        "print(r2_score(y,y_pred))\n",
        "X['Cluster'] = labels\n",
        "X['Cluster'] = X['Cluster'].astype('category')\n",
        "dum_cd = pd.get_dummies(X, drop_first=True)\n",
        "y = cd['Strength']\n",
        "lr = LinearRegression()\n",
        "lr.fit(dum_cd,y)\n",
        "y_pred = lr.predict(dum_cd)\n",
        "print(r2_score(y,y_pred))"
      ],
      "metadata": {
        "colab": {
          "base_uri": "https://localhost:8080/"
        },
        "id": "lDSfWXGxtmOh",
        "outputId": "883b9cf1-b9c2-4d2f-8e86-300d7f0c8c80"
      },
      "execution_count": null,
      "outputs": [
        {
          "output_type": "stream",
          "name": "stdout",
          "text": [
            "<class 'pandas.core.frame.DataFrame'>\n",
            "RangeIndex: 1030 entries, 0 to 1029\n",
            "Data columns (total 9 columns):\n",
            " #   Column            Non-Null Count  Dtype  \n",
            "---  ------            --------------  -----  \n",
            " 0   Cement            1030 non-null   float64\n",
            " 1   Blast             1030 non-null   float64\n",
            " 2   Fly               1030 non-null   float64\n",
            " 3   Water             1030 non-null   float64\n",
            " 4   Superplasticizer  1030 non-null   float64\n",
            " 5   Coarse            1030 non-null   float64\n",
            " 6   Fine              1030 non-null   float64\n",
            " 7   Age               1030 non-null   int64  \n",
            " 8   Strength          1030 non-null   float64\n",
            "dtypes: float64(8), int64(1)\n",
            "memory usage: 72.5 KB\n",
            "Ks:  [2 3 4 5 6 7 8 9]\n",
            "7\n",
            "[0.2043987811434291, 0.22029548175455604, 0.24785900719883316, 0.26533974730860727, 0.2858506637723893, 0.28867112224826236, 0.28699524896954276, 0.2842110190643605]\n",
            "0.6155198704142721\n",
            "0.6881711644733749\n"
          ]
        }
      ]
    },
    {
      "cell_type": "code",
      "source": [],
      "metadata": {
        "id": "BkGP_W3n74tM"
      },
      "execution_count": null,
      "outputs": []
    },
    {
      "cell_type": "markdown",
      "source": [
        "# Boston best K "
      ],
      "metadata": {
        "id": "63bkMNoL00f9"
      }
    },
    {
      "cell_type": "code",
      "source": [
        "boston = '/content/gdrive/MyDrive/Datasets/Boston.csv'\n",
        "boston = pd.read_csv(boston)\n",
        "boston.info()\n",
        "\n",
        "\n",
        "X = boston.drop('medv', axis = 1)\n",
        "y = boston['medv']\n",
        "\n",
        "from sklearn.preprocessing import StandardScaler\n",
        "scaler = StandardScaler()\n",
        "cd_scaled = scaler.fit_transform(X)\n",
        "# Silhouette Score\n",
        "sil = []\n",
        "for i in np.arange(2,10):\n",
        "  km = KMeans(n_clusters = i, random_state =2022)\n",
        "  km.fit(cd_scaled)\n",
        "  labels = km.predict(cd_scaled)\n",
        "  sil.append(silhouette_score(cd_scaled, labels))\n",
        "\n",
        "Ks = np.arange(2,10)\n",
        "print(\"Ks: \", Ks)\n",
        "i_max = np.argmax(sil)\n",
        "best_k = Ks[i_max]\n",
        "print(\"Best K:\", best_k)\n",
        "\n",
        "# without cluster \n",
        "lr = LinearRegression()\n",
        "lr.fit(X,y)\n",
        "y_pred = lr.predict(X)\n",
        "print(r2_score(y,y_pred))\n",
        "print('0.36 is the largest number and others are near 0.25 so looking at sil values we see that only 2 clusters are possible')\n",
        "print(sil)\n",
        "\n",
        "# with cluster\n",
        "X['Cluster'] = labels\n",
        "X['Cluster'] = X['Cluster'].astype('category')\n",
        "dum_boston = pd.get_dummies(X, drop_first=True)\n",
        "lr = LinearRegression()\n",
        "lr.fit(dum_boston,y)\n",
        "y_pred = lr.predict(dum_boston)\n",
        "print(r2_score(y,y_pred))"
      ],
      "metadata": {
        "colab": {
          "base_uri": "https://localhost:8080/"
        },
        "id": "_sUU14I90ztI",
        "outputId": "ea0b9d52-c96b-48ac-cb66-8eda3d762613"
      },
      "execution_count": null,
      "outputs": [
        {
          "output_type": "stream",
          "name": "stdout",
          "text": [
            "<class 'pandas.core.frame.DataFrame'>\n",
            "RangeIndex: 506 entries, 0 to 505\n",
            "Data columns (total 14 columns):\n",
            " #   Column   Non-Null Count  Dtype  \n",
            "---  ------   --------------  -----  \n",
            " 0   crim     506 non-null    float64\n",
            " 1   zn       506 non-null    float64\n",
            " 2   indus    506 non-null    float64\n",
            " 3   chas     506 non-null    int64  \n",
            " 4   nox      506 non-null    float64\n",
            " 5   rm       506 non-null    float64\n",
            " 6   age      506 non-null    float64\n",
            " 7   dis      506 non-null    float64\n",
            " 8   rad      506 non-null    int64  \n",
            " 9   tax      506 non-null    int64  \n",
            " 10  ptratio  506 non-null    float64\n",
            " 11  black    506 non-null    float64\n",
            " 12  lstat    506 non-null    float64\n",
            " 13  medv     506 non-null    float64\n",
            "dtypes: float64(11), int64(3)\n",
            "memory usage: 55.5 KB\n",
            "Ks:  [2 3 4 5 6 7 8 9]\n",
            "Best K: 2\n",
            "0.7406426641094095\n",
            "0.36 is the largest number and others are near 0.25 so looking at sil values we see that only 2 clusters are possible\n",
            "[0.36011768587358617, 0.2574894522739463, 0.2898322145974091, 0.2878157430985233, 0.26746931977131666, 0.2679516127449885, 0.2715997566126335, 0.28883395133503814]\n",
            "0.7609367176172708\n"
          ]
        }
      ]
    },
    {
      "cell_type": "markdown",
      "source": [
        "# Item analysis on Big Mart Dataset\n",
        "\n",
        "1.   make new dataset from bigmart sales\n",
        "2.   we verified with .info()\n",
        "3. \n",
        "4. \n",
        "\n"
      ],
      "metadata": {
        "id": "6lQYEFbC_Sdq"
      }
    },
    {
      "cell_type": "code",
      "source": [
        "bmp = '/content/gdrive/MyDrive/Datasets/bigmart_processed.csv' #also called as processed_train.csv\n",
        "mycols = ['Item_Type','i_weight','Item_Visibility','Item_MRP','Item_Outlet_Sales']\n",
        "bmp = pd.read_csv(bmp, usecols = mycols)\n",
        "bmp.info()"
      ],
      "metadata": {
        "colab": {
          "base_uri": "https://localhost:8080/"
        },
        "id": "ub7D9Gqh_Ris",
        "outputId": "42b2d056-d0de-4cef-c364-55baa2905267"
      },
      "execution_count": null,
      "outputs": [
        {
          "output_type": "stream",
          "name": "stdout",
          "text": [
            "<class 'pandas.core.frame.DataFrame'>\n",
            "RangeIndex: 8523 entries, 0 to 8522\n",
            "Data columns (total 5 columns):\n",
            " #   Column             Non-Null Count  Dtype  \n",
            "---  ------             --------------  -----  \n",
            " 0   i_weight           8523 non-null   float64\n",
            " 1   Item_Visibility    8523 non-null   float64\n",
            " 2   Item_Type          8523 non-null   object \n",
            " 3   Item_MRP           8523 non-null   float64\n",
            " 4   Item_Outlet_Sales  8523 non-null   float64\n",
            "dtypes: float64(4), object(1)\n",
            "memory usage: 333.1+ KB\n"
          ]
        }
      ]
    },
    {
      "cell_type": "code",
      "source": [
        "\n",
        "import re\n",
        "listcols = [x for x in bmp.columns if re.search('^[iI]', x)]\n",
        "print(listcols)"
      ],
      "metadata": {
        "colab": {
          "base_uri": "https://localhost:8080/"
        },
        "id": "AR-YiVxVDplg",
        "outputId": "87877733-85b5-43d3-a74c-87cc82d3aac4"
      },
      "execution_count": null,
      "outputs": [
        {
          "output_type": "stream",
          "name": "stdout",
          "text": [
            "['i_weight', 'Item_Visibility', 'Item_Type', 'Item_MRP', 'Item_Outlet_Sales']\n"
          ]
        }
      ]
    },
    {
      "cell_type": "code",
      "source": [
        "print(bmp.shape)\n",
        "item_means = bmp.groupby('Item_Type').mean()\n",
        "print(item_means)\n",
        "print(item_means.shape)"
      ],
      "metadata": {
        "colab": {
          "base_uri": "https://localhost:8080/"
        },
        "id": "Ks5RCq5iDqDO",
        "outputId": "39443b91-765c-4c9c-e05a-2ea61fd3716a"
      },
      "execution_count": null,
      "outputs": [
        {
          "output_type": "stream",
          "name": "stdout",
          "text": [
            "(8523, 5)\n",
            "                        i_weight  Item_Visibility    Item_MRP  \\\n",
            "Item_Type                                                       \n",
            "Baking Goods           12.275918         0.069169  126.380766   \n",
            "Breads                 11.297689         0.066255  140.952669   \n",
            "Breakfast              12.779727         0.085723  141.788151   \n",
            "Canned                 12.403320         0.068129  139.763832   \n",
            "Dairy                  13.375528         0.072427  148.499208   \n",
            "Frozen Foods           12.778446         0.065645  138.503366   \n",
            "Fruits and Vegetables  13.236713         0.068513  144.581235   \n",
            "Hard Drinks            11.456238         0.064943  137.077928   \n",
            "Health and Hygiene     13.052327         0.055216  130.818921   \n",
            "Household              13.524780         0.061322  149.424753   \n",
            "Meat                   12.771212         0.062284  139.882032   \n",
            "Others                 13.979438         0.060241  132.851430   \n",
            "Seafood                12.521953         0.074976  141.841719   \n",
            "Snack Foods            13.028867         0.066850  146.194934   \n",
            "Soft Drinks            11.879775         0.063972  131.492506   \n",
            "Starchy Foods          13.841385         0.067564  147.838023   \n",
            "\n",
            "                       Item_Outlet_Sales  \n",
            "Item_Type                                 \n",
            "Baking Goods                 1952.971207  \n",
            "Breads                       2204.132226  \n",
            "Breakfast                    2111.808651  \n",
            "Canned                       2225.194904  \n",
            "Dairy                        2232.542597  \n",
            "Frozen Foods                 2132.867744  \n",
            "Fruits and Vegetables        2289.009592  \n",
            "Hard Drinks                  2139.221622  \n",
            "Health and Hygiene           2010.000265  \n",
            "Household                    2258.784300  \n",
            "Meat                         2158.977911  \n",
            "Others                       1926.139702  \n",
            "Seafood                      2326.065928  \n",
            "Snack Foods                  2277.321739  \n",
            "Soft Drinks                  2006.511735  \n",
            "Starchy Foods                2374.332773  \n",
            "(16, 4)\n"
          ]
        }
      ]
    },
    {
      "cell_type": "code",
      "source": [
        "from scipy.cluster.hierarchy import linkage, dendrogram\n",
        "# we looked at the data and decided we need to transform the columns\n",
        "scaler = StandardScaler()\n",
        "item_means_scaled = scaler.fit_transform(item_means)\n",
        "mergings = linkage(item_means_scaled, method = 'average')\n",
        "fig_size = plt.rcParams[\"figure.figsize\"]\n",
        "fig_size[0] = 32 # X scaling of fig \n",
        "fig_size[1] = 8 # Y scaling of fig\n",
        "with plt.style.context('seaborn'):\n",
        "  dendrogram(mergings, labels = list(item_means.index), leaf_rotation=90, leaf_font_size = 12)\n",
        "plt.show()"
      ],
      "metadata": {
        "colab": {
          "base_uri": "https://localhost:8080/",
          "height": 467
        },
        "id": "6b_pdm63EKC9",
        "outputId": "05509b0f-bfea-471f-8fb9-178ae53c0345"
      },
      "execution_count": null,
      "outputs": [
        {
          "output_type": "display_data",
          "data": {
            "text/plain": [
              "<Figure size 576x396 with 1 Axes>"
            ],
            "image/png": "[encoded data removed]"
          },
          "metadata": {}
        }
      ]
    },
    {
      "cell_type": "code",
      "source": [
        "from scipy.cluster.hierarchy import linkage, dendrogram\n",
        "from sklearn.preprocessing import StandardScaler\n",
        "from sklearn.cluster import KMeans\n",
        "from sklearn.metrics import silhouette_score\n",
        "import pandas as pd\n",
        "import numpy as np\n",
        "import matplotlib.pyplot as plt\n",
        "\n",
        "\n",
        "\n",
        "# Silhouette Score\n",
        "sil = []\n",
        "for i in np.arange(2,10):\n",
        "  km = KMeans(n_clusters = i, random_state =2022)\n",
        "  km.fit(item_means_scaled)\n",
        "  labels = km.predict(item_means_scaled)\n",
        "  sil.append(silhouette_score(item_means_scaled, labels))\n",
        "\n",
        "\n",
        "\n",
        "Ks = np.arange(2,10)\n",
        "print(\"Ks: \", Ks)\n",
        "i_max = np.argmax(sil)\n",
        "best_k = Ks[i_max]\n",
        "print(\"Best K:\", best_k)\n",
        "\n"
      ],
      "metadata": {
        "colab": {
          "base_uri": "https://localhost:8080/"
        },
        "id": "2RMckfalHmO3",
        "outputId": "3a173b73-accf-4b9a-80f9-1543cee8ac8d"
      },
      "execution_count": null,
      "outputs": [
        {
          "output_type": "stream",
          "name": "stdout",
          "text": [
            "Ks:  [2 3 4 5 6 7 8 9]\n",
            "Best K: 6\n"
          ]
        }
      ]
    },
    {
      "cell_type": "code",
      "source": [],
      "metadata": {
        "id": "D5e0kmP7IW9m"
      },
      "execution_count": null,
      "outputs": []
    },
    {
      "cell_type": "code",
      "source": [
        "X = item_means.drop('Item_Type', axis = 1)\n",
        "y = item_means['Item_Type']\n",
        "\n",
        "# without cluster \n",
        "lr = LinearRegression()\n",
        "lr.fit(X,y)\n",
        "y_pred = lr.predict(X)\n",
        "print(r2_score(y,y_pred))\n",
        "print('0.36 is the largest number and others are near 0.25 so looking at sil values we see that only 2 clusters are possible')\n",
        "print(sil)\n",
        "\n",
        "# with cluster\n",
        "X['Cluster'] = labels\n",
        "X['Cluster'] = X['Cluster'].astype('category')\n",
        "dum_boston = pd.get_dummies(X, drop_first=True)\n",
        "lr = LinearRegression()\n",
        "lr.fit(dum_boston,y)\n",
        "y_pred = lr.predict(dum_boston)\n",
        "print(r2_score(y,y_pred))"
      ],
      "metadata": {
        "colab": {
          "base_uri": "https://localhost:8080/",
          "height": 382
        },
        "id": "nWxoQKmeIU1X",
        "outputId": "a513eff2-0fd2-4518-f742-64605aa26d5d"
      },
      "execution_count": null,
      "outputs": [
        {
          "output_type": "error",
          "ename": "KeyError",
          "evalue": "ignored",
          "traceback": [
            "\u001b[0;31m---------------------------------------------------------------------------\u001b[0m",
            "\u001b[0;31mKeyError\u001b[0m                                  Traceback (most recent call last)",
            "\u001b[0;32m<ipython-input-88-05352c1d92c8>\u001b[0m in \u001b[0;36m<module>\u001b[0;34m\u001b[0m\n\u001b[0;32m----> 1\u001b[0;31m \u001b[0mX\u001b[0m \u001b[0;34m=\u001b[0m \u001b[0mitem_means\u001b[0m\u001b[0;34m.\u001b[0m\u001b[0mdrop\u001b[0m\u001b[0;34m(\u001b[0m\u001b[0;34m'Item_Type'\u001b[0m\u001b[0;34m,\u001b[0m \u001b[0maxis\u001b[0m \u001b[0;34m=\u001b[0m \u001b[0;36m1\u001b[0m\u001b[0;34m)\u001b[0m\u001b[0;34m\u001b[0m\u001b[0;34m\u001b[0m\u001b[0m\n\u001b[0m\u001b[1;32m      2\u001b[0m \u001b[0my\u001b[0m \u001b[0;34m=\u001b[0m \u001b[0mitem_means\u001b[0m\u001b[0;34m[\u001b[0m\u001b[0;34m'Item_Type'\u001b[0m\u001b[0;34m]\u001b[0m\u001b[0;34m\u001b[0m\u001b[0;34m\u001b[0m\u001b[0m\n\u001b[1;32m      3\u001b[0m \u001b[0;34m\u001b[0m\u001b[0m\n\u001b[1;32m      4\u001b[0m \u001b[0;31m# without cluster\u001b[0m\u001b[0;34m\u001b[0m\u001b[0;34m\u001b[0m\u001b[0;34m\u001b[0m\u001b[0m\n\u001b[1;32m      5\u001b[0m \u001b[0mlr\u001b[0m \u001b[0;34m=\u001b[0m \u001b[0mLinearRegression\u001b[0m\u001b[0;34m(\u001b[0m\u001b[0;34m)\u001b[0m\u001b[0;34m\u001b[0m\u001b[0;34m\u001b[0m\u001b[0m\n",
            "\u001b[0;32m/usr/local/lib/python3.8/dist-packages/pandas/util/_decorators.py\u001b[0m in \u001b[0;36mwrapper\u001b[0;34m(*args, **kwargs)\u001b[0m\n\u001b[1;32m    309\u001b[0m                     \u001b[0mstacklevel\u001b[0m\u001b[0;34m=\u001b[0m\u001b[0mstacklevel\u001b[0m\u001b[0;34m,\u001b[0m\u001b[0;34m\u001b[0m\u001b[0;34m\u001b[0m\u001b[0m\n\u001b[1;32m    310\u001b[0m                 )\n\u001b[0;32m--> 311\u001b[0;31m             \u001b[0;32mreturn\u001b[0m \u001b[0mfunc\u001b[0m\u001b[0;34m(\u001b[0m\u001b[0;34m*\u001b[0m\u001b[0margs\u001b[0m\u001b[0;34m,\u001b[0m \u001b[0;34m**\u001b[0m\u001b[0mkwargs\u001b[0m\u001b[0;34m)\u001b[0m\u001b[0;34m\u001b[0m\u001b[0;34m\u001b[0m\u001b[0m\n\u001b[0m\u001b[1;32m    312\u001b[0m \u001b[0;34m\u001b[0m\u001b[0m\n\u001b[1;32m    313\u001b[0m         \u001b[0;32mreturn\u001b[0m \u001b[0mwrapper\u001b[0m\u001b[0;34m\u001b[0m\u001b[0;34m\u001b[0m\u001b[0m\n",
            "\u001b[0;32m/usr/local/lib/python3.8/dist-packages/pandas/core/frame.py\u001b[0m in \u001b[0;36mdrop\u001b[0;34m(self, labels, axis, index, columns, level, inplace, errors)\u001b[0m\n\u001b[1;32m   4904\u001b[0m                 \u001b[0mweight\u001b[0m  \u001b[0;36m1.0\u001b[0m     \u001b[0;36m0.8\u001b[0m\u001b[0;34m\u001b[0m\u001b[0;34m\u001b[0m\u001b[0m\n\u001b[1;32m   4905\u001b[0m         \"\"\"\n\u001b[0;32m-> 4906\u001b[0;31m         return super().drop(\n\u001b[0m\u001b[1;32m   4907\u001b[0m             \u001b[0mlabels\u001b[0m\u001b[0;34m=\u001b[0m\u001b[0mlabels\u001b[0m\u001b[0;34m,\u001b[0m\u001b[0;34m\u001b[0m\u001b[0;34m\u001b[0m\u001b[0m\n\u001b[1;32m   4908\u001b[0m             \u001b[0maxis\u001b[0m\u001b[0;34m=\u001b[0m\u001b[0maxis\u001b[0m\u001b[0;34m,\u001b[0m\u001b[0;34m\u001b[0m\u001b[0;34m\u001b[0m\u001b[0m\n",
            "\u001b[0;32m/usr/local/lib/python3.8/dist-packages/pandas/core/generic.py\u001b[0m in \u001b[0;36mdrop\u001b[0;34m(self, labels, axis, index, columns, level, inplace, errors)\u001b[0m\n\u001b[1;32m   4148\u001b[0m         \u001b[0;32mfor\u001b[0m \u001b[0maxis\u001b[0m\u001b[0;34m,\u001b[0m \u001b[0mlabels\u001b[0m \u001b[0;32min\u001b[0m \u001b[0maxes\u001b[0m\u001b[0;34m.\u001b[0m\u001b[0mitems\u001b[0m\u001b[0;34m(\u001b[0m\u001b[0;34m)\u001b[0m\u001b[0;34m:\u001b[0m\u001b[0;34m\u001b[0m\u001b[0;34m\u001b[0m\u001b[0m\n\u001b[1;32m   4149\u001b[0m             \u001b[0;32mif\u001b[0m \u001b[0mlabels\u001b[0m \u001b[0;32mis\u001b[0m \u001b[0;32mnot\u001b[0m \u001b[0;32mNone\u001b[0m\u001b[0;34m:\u001b[0m\u001b[0;34m\u001b[0m\u001b[0;34m\u001b[0m\u001b[0m\n\u001b[0;32m-> 4150\u001b[0;31m                 \u001b[0mobj\u001b[0m \u001b[0;34m=\u001b[0m \u001b[0mobj\u001b[0m\u001b[0;34m.\u001b[0m\u001b[0m_drop_axis\u001b[0m\u001b[0;34m(\u001b[0m\u001b[0mlabels\u001b[0m\u001b[0;34m,\u001b[0m \u001b[0maxis\u001b[0m\u001b[0;34m,\u001b[0m \u001b[0mlevel\u001b[0m\u001b[0;34m=\u001b[0m\u001b[0mlevel\u001b[0m\u001b[0;34m,\u001b[0m \u001b[0merrors\u001b[0m\u001b[0;34m=\u001b[0m\u001b[0merrors\u001b[0m\u001b[0;34m)\u001b[0m\u001b[0;34m\u001b[0m\u001b[0;34m\u001b[0m\u001b[0m\n\u001b[0m\u001b[1;32m   4151\u001b[0m \u001b[0;34m\u001b[0m\u001b[0m\n\u001b[1;32m   4152\u001b[0m         \u001b[0;32mif\u001b[0m \u001b[0minplace\u001b[0m\u001b[0;34m:\u001b[0m\u001b[0;34m\u001b[0m\u001b[0;34m\u001b[0m\u001b[0m\n",
            "\u001b[0;32m/usr/local/lib/python3.8/dist-packages/pandas/core/generic.py\u001b[0m in \u001b[0;36m_drop_axis\u001b[0;34m(self, labels, axis, level, errors)\u001b[0m\n\u001b[1;32m   4183\u001b[0m                 \u001b[0mnew_axis\u001b[0m \u001b[0;34m=\u001b[0m \u001b[0maxis\u001b[0m\u001b[0;34m.\u001b[0m\u001b[0mdrop\u001b[0m\u001b[0;34m(\u001b[0m\u001b[0mlabels\u001b[0m\u001b[0;34m,\u001b[0m \u001b[0mlevel\u001b[0m\u001b[0;34m=\u001b[0m\u001b[0mlevel\u001b[0m\u001b[0;34m,\u001b[0m \u001b[0merrors\u001b[0m\u001b[0;34m=\u001b[0m\u001b[0merrors\u001b[0m\u001b[0;34m)\u001b[0m\u001b[0;34m\u001b[0m\u001b[0;34m\u001b[0m\u001b[0m\n\u001b[1;32m   4184\u001b[0m             \u001b[0;32melse\u001b[0m\u001b[0;34m:\u001b[0m\u001b[0;34m\u001b[0m\u001b[0;34m\u001b[0m\u001b[0m\n\u001b[0;32m-> 4185\u001b[0;31m                 \u001b[0mnew_axis\u001b[0m \u001b[0;34m=\u001b[0m \u001b[0maxis\u001b[0m\u001b[0;34m.\u001b[0m\u001b[0mdrop\u001b[0m\u001b[0;34m(\u001b[0m\u001b[0mlabels\u001b[0m\u001b[0;34m,\u001b[0m \u001b[0merrors\u001b[0m\u001b[0;34m=\u001b[0m\u001b[0merrors\u001b[0m\u001b[0;34m)\u001b[0m\u001b[0;34m\u001b[0m\u001b[0;34m\u001b[0m\u001b[0m\n\u001b[0m\u001b[1;32m   4186\u001b[0m             \u001b[0mresult\u001b[0m \u001b[0;34m=\u001b[0m \u001b[0mself\u001b[0m\u001b[0;34m.\u001b[0m\u001b[0mreindex\u001b[0m\u001b[0;34m(\u001b[0m\u001b[0;34m**\u001b[0m\u001b[0;34m{\u001b[0m\u001b[0maxis_name\u001b[0m\u001b[0;34m:\u001b[0m \u001b[0mnew_axis\u001b[0m\u001b[0;34m}\u001b[0m\u001b[0;34m)\u001b[0m\u001b[0;34m\u001b[0m\u001b[0;34m\u001b[0m\u001b[0m\n\u001b[1;32m   4187\u001b[0m \u001b[0;34m\u001b[0m\u001b[0m\n",
            "\u001b[0;32m/usr/local/lib/python3.8/dist-packages/pandas/core/indexes/base.py\u001b[0m in \u001b[0;36mdrop\u001b[0;34m(self, labels, errors)\u001b[0m\n\u001b[1;32m   6015\u001b[0m         \u001b[0;32mif\u001b[0m \u001b[0mmask\u001b[0m\u001b[0;34m.\u001b[0m\u001b[0many\u001b[0m\u001b[0;34m(\u001b[0m\u001b[0;34m)\u001b[0m\u001b[0;34m:\u001b[0m\u001b[0;34m\u001b[0m\u001b[0;34m\u001b[0m\u001b[0m\n\u001b[1;32m   6016\u001b[0m             \u001b[0;32mif\u001b[0m \u001b[0merrors\u001b[0m \u001b[0;34m!=\u001b[0m \u001b[0;34m\"ignore\"\u001b[0m\u001b[0;34m:\u001b[0m\u001b[0;34m\u001b[0m\u001b[0;34m\u001b[0m\u001b[0m\n\u001b[0;32m-> 6017\u001b[0;31m                 \u001b[0;32mraise\u001b[0m \u001b[0mKeyError\u001b[0m\u001b[0;34m(\u001b[0m\u001b[0;34mf\"{labels[mask]} not found in axis\"\u001b[0m\u001b[0;34m)\u001b[0m\u001b[0;34m\u001b[0m\u001b[0;34m\u001b[0m\u001b[0m\n\u001b[0m\u001b[1;32m   6018\u001b[0m             \u001b[0mindexer\u001b[0m \u001b[0;34m=\u001b[0m \u001b[0mindexer\u001b[0m\u001b[0;34m[\u001b[0m\u001b[0;34m~\u001b[0m\u001b[0mmask\u001b[0m\u001b[0;34m]\u001b[0m\u001b[0;34m\u001b[0m\u001b[0;34m\u001b[0m\u001b[0m\n\u001b[1;32m   6019\u001b[0m         \u001b[0;32mreturn\u001b[0m \u001b[0mself\u001b[0m\u001b[0;34m.\u001b[0m\u001b[0mdelete\u001b[0m\u001b[0;34m(\u001b[0m\u001b[0mindexer\u001b[0m\u001b[0;34m)\u001b[0m\u001b[0;34m\u001b[0m\u001b[0;34m\u001b[0m\u001b[0m\n",
            "\u001b[0;31mKeyError\u001b[0m: \"['Item_Type'] not found in axis\""
          ]
        }
      ]
    }
  ]
}