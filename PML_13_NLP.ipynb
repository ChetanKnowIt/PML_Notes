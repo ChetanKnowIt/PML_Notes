{
  "nbformat": 4,
  "nbformat_minor": 0,
  "metadata": {
    "colab": {
      "provenance": [],
      "authorship_tag": "ABX9TyMq2CA9FthHC6Zc67u2DWch",
      "include_colab_link": true
    },
    "kernelspec": {
      "name": "python3",
      "display_name": "Python 3"
    },
    "language_info": {
      "name": "python"
    },
    "accelerator": "TPU",
    "gpuClass": "standard"
  },
  "cells": [
    {
      "cell_type": "markdown",
      "metadata": {
        "id": "view-in-github",
        "colab_type": "text"
      },
      "source": [
        "<a href=\"https://colab.research.google.com/github/ChetanKnowIt/PML_Notes/blob/main/PML_13_NLP.ipynb\" target=\"_parent\"><img src=\"https://colab.research.google.com/assets/colab-badge.svg\" alt=\"Open In Colab\"/></a>"
      ]
    },
    {
      "cell_type": "code",
      "execution_count": null,
      "metadata": {
        "colab": {
          "base_uri": "https://localhost:8080/"
        },
        "id": "ib4WidyvR5N-",
        "outputId": "a3b6de10-45bc-4c3a-82c5-97f173d62780"
      },
      "outputs": [
        {
          "output_type": "stream",
          "name": "stdout",
          "text": [
            "Mounted at /content/drive\n"
          ]
        }
      ],
      "source": [
        "from nltk import PorterStemmer\n",
        "from google.colab import drive\n",
        "drive.mount('/content/drive')\n"
      ]
    },
    {
      "cell_type": "markdown",
      "source": [
        "# nltk BASICS"
      ],
      "metadata": {
        "id": "743xQyb1mHyR"
      }
    },
    {
      "cell_type": "code",
      "source": [
        "import nltk\n",
        "nltk.__version__"
      ],
      "metadata": {
        "colab": {
          "base_uri": "https://localhost:8080/",
          "height": 35
        },
        "id": "EhYvFP-jSKoU",
        "outputId": "8efcb72f-9e04-48c2-e5a3-aa153e16b334"
      },
      "execution_count": null,
      "outputs": [
        {
          "output_type": "execute_result",
          "data": {
            "text/plain": [
              "'3.7'"
            ],
            "application/vnd.google.colaboratory.intrinsic+json": {
              "type": "string"
            }
          },
          "metadata": {},
          "execution_count": 8
        }
      ]
    },
    {
      "cell_type": "code",
      "source": [
        "PorterStemmer().stem('dance')"
      ],
      "metadata": {
        "colab": {
          "base_uri": "https://localhost:8080/",
          "height": 35
        },
        "id": "vuYsCV8LSWeE",
        "outputId": "eb9687c1-69b3-49e5-c973-4ce6d0107d8c"
      },
      "execution_count": null,
      "outputs": [
        {
          "output_type": "execute_result",
          "data": {
            "text/plain": [
              "'danc'"
            ],
            "application/vnd.google.colaboratory.intrinsic+json": {
              "type": "string"
            }
          },
          "metadata": {},
          "execution_count": 8
        }
      ]
    },
    {
      "cell_type": "code",
      "source": [
        "PorterStemmer().stem('dancer')"
      ],
      "metadata": {
        "colab": {
          "base_uri": "https://localhost:8080/",
          "height": 35
        },
        "id": "U6fq2XF4SdvD",
        "outputId": "f03c352d-6391-456b-fb53-de699a457710"
      },
      "execution_count": null,
      "outputs": [
        {
          "output_type": "execute_result",
          "data": {
            "text/plain": [
              "'dancer'"
            ],
            "application/vnd.google.colaboratory.intrinsic+json": {
              "type": "string"
            }
          },
          "metadata": {},
          "execution_count": 9
        }
      ]
    },
    {
      "cell_type": "code",
      "source": [
        "PorterStemmer().stem('dancing')"
      ],
      "metadata": {
        "colab": {
          "base_uri": "https://localhost:8080/",
          "height": 35
        },
        "id": "0ggAt6EoSe3y",
        "outputId": "4e949953-7bfd-481a-9579-0ccebc083f42"
      },
      "execution_count": null,
      "outputs": [
        {
          "output_type": "execute_result",
          "data": {
            "text/plain": [
              "'danc'"
            ],
            "application/vnd.google.colaboratory.intrinsic+json": {
              "type": "string"
            }
          },
          "metadata": {},
          "execution_count": 10
        }
      ]
    },
    {
      "cell_type": "code",
      "source": [
        "PorterStemmer().stem('computer')"
      ],
      "metadata": {
        "colab": {
          "base_uri": "https://localhost:8080/",
          "height": 35
        },
        "id": "m0sEDHT_Sf6T",
        "outputId": "5cd41fc2-0d50-4a27-db60-5c729559ff25"
      },
      "execution_count": null,
      "outputs": [
        {
          "output_type": "execute_result",
          "data": {
            "text/plain": [
              "'comput'"
            ],
            "application/vnd.google.colaboratory.intrinsic+json": {
              "type": "string"
            }
          },
          "metadata": {},
          "execution_count": 11
        }
      ]
    },
    {
      "cell_type": "code",
      "source": [
        "PorterStemmer().stem('computing')"
      ],
      "metadata": {
        "colab": {
          "base_uri": "https://localhost:8080/",
          "height": 35
        },
        "id": "sGP8e-PySkAz",
        "outputId": "a46b0def-9d00-47b3-9783-539d3860b923"
      },
      "execution_count": null,
      "outputs": [
        {
          "output_type": "execute_result",
          "data": {
            "text/plain": [
              "'comput'"
            ],
            "application/vnd.google.colaboratory.intrinsic+json": {
              "type": "string"
            }
          },
          "metadata": {},
          "execution_count": 12
        }
      ]
    },
    {
      "cell_type": "code",
      "source": [
        "PorterStemmer().stem('computational')"
      ],
      "metadata": {
        "colab": {
          "base_uri": "https://localhost:8080/",
          "height": 35
        },
        "id": "48a2VcBjSlij",
        "outputId": "101c36e7-4110-4321-fa66-0c5b9cf6dbad"
      },
      "execution_count": null,
      "outputs": [
        {
          "output_type": "execute_result",
          "data": {
            "text/plain": [
              "'comput'"
            ],
            "application/vnd.google.colaboratory.intrinsic+json": {
              "type": "string"
            }
          },
          "metadata": {},
          "execution_count": 13
        }
      ]
    },
    {
      "cell_type": "code",
      "source": [
        "PorterStemmer().stem('compute')"
      ],
      "metadata": {
        "colab": {
          "base_uri": "https://localhost:8080/",
          "height": 35
        },
        "id": "gS4TrZeASohC",
        "outputId": "71c200b5-45a3-42ad-c2f0-8a6f3a99401b"
      },
      "execution_count": null,
      "outputs": [
        {
          "output_type": "execute_result",
          "data": {
            "text/plain": [
              "'comput'"
            ],
            "application/vnd.google.colaboratory.intrinsic+json": {
              "type": "string"
            }
          },
          "metadata": {},
          "execution_count": 14
        }
      ]
    },
    {
      "cell_type": "code",
      "source": [
        "nltk.download('stopwords')\n",
        "from nltk.corpus import stopwords\n",
        "stops = stopwords.words('english')\n",
        "print(stops)\n",
        "# hungarian, german, dutch also work"
      ],
      "metadata": {
        "colab": {
          "base_uri": "https://localhost:8080/"
        },
        "id": "RI0-8NGnVAEB",
        "outputId": "1bf2ffb1-69d4-4427-8fa4-d13857a0d0cf"
      },
      "execution_count": null,
      "outputs": [
        {
          "output_type": "stream",
          "name": "stdout",
          "text": [
            "['i', 'me', 'my', 'myself', 'we', 'our', 'ours', 'ourselves', 'you', \"you're\", \"you've\", \"you'll\", \"you'd\", 'your', 'yours', 'yourself', 'yourselves', 'he', 'him', 'his', 'himself', 'she', \"she's\", 'her', 'hers', 'herself', 'it', \"it's\", 'its', 'itself', 'they', 'them', 'their', 'theirs', 'themselves', 'what', 'which', 'who', 'whom', 'this', 'that', \"that'll\", 'these', 'those', 'am', 'is', 'are', 'was', 'were', 'be', 'been', 'being', 'have', 'has', 'had', 'having', 'do', 'does', 'did', 'doing', 'a', 'an', 'the', 'and', 'but', 'if', 'or', 'because', 'as', 'until', 'while', 'of', 'at', 'by', 'for', 'with', 'about', 'against', 'between', 'into', 'through', 'during', 'before', 'after', 'above', 'below', 'to', 'from', 'up', 'down', 'in', 'out', 'on', 'off', 'over', 'under', 'again', 'further', 'then', 'once', 'here', 'there', 'when', 'where', 'why', 'how', 'all', 'any', 'both', 'each', 'few', 'more', 'most', 'other', 'some', 'such', 'no', 'nor', 'not', 'only', 'own', 'same', 'so', 'than', 'too', 'very', 's', 't', 'can', 'will', 'just', 'don', \"don't\", 'should', \"should've\", 'now', 'd', 'll', 'm', 'o', 're', 've', 'y', 'ain', 'aren', \"aren't\", 'couldn', \"couldn't\", 'didn', \"didn't\", 'doesn', \"doesn't\", 'hadn', \"hadn't\", 'hasn', \"hasn't\", 'haven', \"haven't\", 'isn', \"isn't\", 'ma', 'mightn', \"mightn't\", 'mustn', \"mustn't\", 'needn', \"needn't\", 'shan', \"shan't\", 'shouldn', \"shouldn't\", 'wasn', \"wasn't\", 'weren', \"weren't\", 'won', \"won't\", 'wouldn', \"wouldn't\"]\n"
          ]
        },
        {
          "output_type": "stream",
          "name": "stderr",
          "text": [
            "[nltk_data] Downloading package stopwords to /root/nltk_data...\n",
            "[nltk_data]   Unzipping corpora/stopwords.zip.\n"
          ]
        }
      ]
    },
    {
      "cell_type": "markdown",
      "source": [
        "# USING NLTK TO CONVERT REVIEWS TO CLASSIFICATION PROBLEM"
      ],
      "metadata": {
        "id": "VNSMuo3QmQ3B"
      }
    },
    {
      "cell_type": "code",
      "source": [
        "import pandas as pd\n",
        "import numpy as np\n",
        "import re"
      ],
      "metadata": {
        "id": "aSFXp6u7V-yL"
      },
      "execution_count": null,
      "outputs": []
    },
    {
      "cell_type": "code",
      "source": [
        "words = ['falcon', 'sky', 'ab', 'water', 'a', 'forest']\n",
        "\n",
        "for word in words:\n",
        "    if ((n := len(word)) < 3):\n",
        "        print(f'warning, the word {word} has {n} characters')"
      ],
      "metadata": {
        "colab": {
          "base_uri": "https://localhost:8080/"
        },
        "id": "47LBkwQSdQWb",
        "outputId": "f9a5addf-e9ee-409c-f8fc-e9988f3e4169"
      },
      "execution_count": null,
      "outputs": [
        {
          "output_type": "stream",
          "name": "stdout",
          "text": [
            "warning, the word ab has 2 characters\n",
            "warning, the word a has 1 characters\n"
          ]
        }
      ]
    },
    {
      "cell_type": "code",
      "source": [
        "dataset = pd.read_csv('/content/drive/MyDrive/Datasets/Restaurant_Reviews.tsv', sep = \"\\t\")"
      ],
      "metadata": {
        "id": "kPrJrDn2hwuc"
      },
      "execution_count": null,
      "outputs": []
    },
    {
      "cell_type": "code",
      "source": [
        "dataset.shape"
      ],
      "metadata": {
        "colab": {
          "base_uri": "https://localhost:8080/"
        },
        "id": "vUIJldPqjuA_",
        "outputId": "6f6b14fb-3928-4134-a300-380d092d8c28"
      },
      "execution_count": null,
      "outputs": [
        {
          "output_type": "execute_result",
          "data": {
            "text/plain": [
              "(1000, 2)"
            ]
          },
          "metadata": {},
          "execution_count": 48
        }
      ]
    },
    {
      "cell_type": "code",
      "source": [
        "stops = stopwords.words('english')\n",
        "ps = PorterStemmer()\n",
        "corpus = []\n",
        "for i in np.arange(0, dataset.shape[0]):\n",
        "  review = dataset['Review'][i]\n",
        "  review = re.sub('^[a-zA-Z]', ' ', review)\n",
        "  review = review.lower()\n",
        "  review = review.split()\n",
        "  review = [ps.stem(word) for word in review if not word in set(stops)]\n",
        "  review = ' '.join(review)\n",
        "  corpus.append(review)"
      ],
      "metadata": {
        "id": "nxfQZsmfiS2f"
      },
      "execution_count": null,
      "outputs": []
    },
    {
      "cell_type": "code",
      "source": [
        "from sklearn.feature_extraction.text import CountVectorizer\n",
        "vectorizer = CountVectorizer(max_features = 800)"
      ],
      "metadata": {
        "id": "yHJNQSY7jSwt"
      },
      "execution_count": null,
      "outputs": []
    },
    {
      "cell_type": "markdown",
      "source": [
        "# RANDOM FOREST FOR TEXT \n",
        "1. max_features = [10, 50, 100, 200\n",
        "2. random forest classifier with gridsearchcv"
      ],
      "metadata": {
        "id": "w1CmzEXElCjk"
      }
    },
    {
      "cell_type": "code",
      "source": [
        "X = vectorizer.fit_transform(corpus).toarray()\n",
        "y = dataset['Liked']"
      ],
      "metadata": {
        "id": "6iplG9oIjcid"
      },
      "execution_count": null,
      "outputs": []
    },
    {
      "cell_type": "code",
      "source": [
        "y.shape"
      ],
      "metadata": {
        "colab": {
          "base_uri": "https://localhost:8080/"
        },
        "id": "DAxTaQqtpNqj",
        "outputId": "28620e02-cf26-4ddf-a83a-df1b52e93918"
      },
      "execution_count": null,
      "outputs": [
        {
          "output_type": "execute_result",
          "data": {
            "text/plain": [
              "(1000,)"
            ]
          },
          "metadata": {},
          "execution_count": 52
        }
      ]
    },
    {
      "cell_type": "code",
      "source": [
        "X.shape"
      ],
      "metadata": {
        "colab": {
          "base_uri": "https://localhost:8080/"
        },
        "id": "pddSFloc2CWe",
        "outputId": "f1540809-1cff-4217-9284-18197bfc993c"
      },
      "execution_count": null,
      "outputs": [
        {
          "output_type": "execute_result",
          "data": {
            "text/plain": [
              "(1000, 800)"
            ]
          },
          "metadata": {},
          "execution_count": 73
        }
      ]
    },
    {
      "cell_type": "code",
      "source": [
        "from sklearn.ensemble import RandomForestClassifier\n",
        "from sklearn.model_selection import StratifiedKFold, GridSearchCV, KFold, cross_val_score\n",
        "rf = RandomForestClassifier(random_state = 2022)\n",
        "kfold = StratifiedKFold(n_splits = 5, shuffle = True, random_state = 2022)\n",
        "params = {'max_features':[10, 50, 100, 200]}\n",
        "gcv = GridSearchCV(rf, param_grid = params, cv = kfold, verbose = 2, scoring = 'roc_auc')\n",
        "gcv.fit(X,y)\n",
        "print(gcv.best_params_)\n",
        "print(gcv.best_score_)"
      ],
      "metadata": {
        "colab": {
          "base_uri": "https://localhost:8080/"
        },
        "id": "_1qmr_pulWSZ",
        "outputId": "da5a6d07-6818-4489-da84-6291ca433cfd"
      },
      "execution_count": null,
      "outputs": [
        {
          "output_type": "stream",
          "name": "stdout",
          "text": [
            "Fitting 5 folds for each of 4 candidates, totalling 20 fits\n",
            "[CV] END ....................................max_features=10; total time=   0.4s\n",
            "[CV] END ....................................max_features=10; total time=   0.4s\n",
            "[CV] END ....................................max_features=10; total time=   0.4s\n",
            "[CV] END ....................................max_features=10; total time=   0.4s\n",
            "[CV] END ....................................max_features=10; total time=   0.4s\n",
            "[CV] END ....................................max_features=50; total time=   0.7s\n",
            "[CV] END ....................................max_features=50; total time=   0.7s\n",
            "[CV] END ....................................max_features=50; total time=   0.7s\n",
            "[CV] END ....................................max_features=50; total time=   0.7s\n",
            "[CV] END ....................................max_features=50; total time=   0.7s\n",
            "[CV] END ...................................max_features=100; total time=   1.1s\n",
            "[CV] END ...................................max_features=100; total time=   1.3s\n",
            "[CV] END ...................................max_features=100; total time=   1.1s\n",
            "[CV] END ...................................max_features=100; total time=   1.1s\n",
            "[CV] END ...................................max_features=100; total time=   1.1s\n",
            "[CV] END ...................................max_features=200; total time=   1.8s\n",
            "[CV] END ...................................max_features=200; total time=   1.9s\n",
            "[CV] END ...................................max_features=200; total time=   1.9s\n",
            "[CV] END ...................................max_features=200; total time=   1.9s\n",
            "[CV] END ...................................max_features=200; total time=   1.8s\n",
            "{'max_features': 10}\n",
            "0.8107200000000001\n"
          ]
        }
      ]
    },
    {
      "cell_type": "code",
      "source": [
        "from sklearn.feature_extraction.text import TfidfVectorizer\n",
        "tf_idf = TfidfVectorizer(max_features = 800)\n",
        "X = tf_idf.fit_transform(corpus).toarray()\n",
        "\n",
        "rf = RandomForestClassifier(random_state = 2022)\n",
        "kfold = StratifiedKFold(n_splits = 5, shuffle = True, random_state = 2022)\n",
        "params = {'max_features':[10, 50, 100, 200]}\n",
        "gcv = GridSearchCV(rf, param_grid = params, cv = kfold, verbose = 2, scoring = 'roc_auc')\n",
        "gcv.fit(X,y)\n",
        "print(gcv.best_params_)\n",
        "print(gcv.best_score_)"
      ],
      "metadata": {
        "colab": {
          "base_uri": "https://localhost:8080/"
        },
        "id": "hO97JExGl3h4",
        "outputId": "e9fc7b4a-a4cd-48d3-db77-7a85e405eb07"
      },
      "execution_count": null,
      "outputs": [
        {
          "output_type": "stream",
          "name": "stdout",
          "text": [
            "Fitting 5 folds for each of 4 candidates, totalling 20 fits\n",
            "[CV] END ....................................max_features=10; total time=   0.4s\n",
            "[CV] END ....................................max_features=10; total time=   0.4s\n",
            "[CV] END ....................................max_features=10; total time=   0.4s\n",
            "[CV] END ....................................max_features=10; total time=   0.4s\n",
            "[CV] END ....................................max_features=10; total time=   0.4s\n",
            "[CV] END ....................................max_features=50; total time=   0.7s\n",
            "[CV] END ....................................max_features=50; total time=   0.7s\n",
            "[CV] END ....................................max_features=50; total time=   0.8s\n",
            "[CV] END ....................................max_features=50; total time=   0.7s\n",
            "[CV] END ....................................max_features=50; total time=   0.7s\n",
            "[CV] END ...................................max_features=100; total time=   1.1s\n",
            "[CV] END ...................................max_features=100; total time=   1.2s\n",
            "[CV] END ...................................max_features=100; total time=   1.2s\n",
            "[CV] END ...................................max_features=100; total time=   1.2s\n",
            "[CV] END ...................................max_features=100; total time=   1.2s\n",
            "[CV] END ...................................max_features=200; total time=   2.0s\n",
            "[CV] END ...................................max_features=200; total time=   2.0s\n",
            "[CV] END ...................................max_features=200; total time=   2.1s\n",
            "[CV] END ...................................max_features=200; total time=   2.0s\n",
            "[CV] END ...................................max_features=200; total time=   2.1s\n",
            "{'max_features': 10}\n",
            "0.8224899999999999\n"
          ]
        }
      ]
    },
    {
      "cell_type": "markdown",
      "source": [
        "# SPAM DATASET"
      ],
      "metadata": {
        "id": "7zj8C7QCxSng"
      }
    },
    {
      "cell_type": "code",
      "source": [
        "spam_path = \"/content/drive/MyDrive/Datasets/SPAM/SPAM text message 20170820 - Data.csv\"\n",
        "spam = pd.read_csv(spam_path)\n",
        "spam.info()"
      ],
      "metadata": {
        "colab": {
          "base_uri": "https://localhost:8080/"
        },
        "id": "JwOCSN4CxWXf",
        "outputId": "187870e5-f5f8-44a8-f77b-b768f726a3ec"
      },
      "execution_count": null,
      "outputs": [
        {
          "output_type": "stream",
          "name": "stdout",
          "text": [
            "<class 'pandas.core.frame.DataFrame'>\n",
            "RangeIndex: 5572 entries, 0 to 5571\n",
            "Data columns (total 2 columns):\n",
            " #   Column    Non-Null Count  Dtype \n",
            "---  ------    --------------  ----- \n",
            " 0   Category  5572 non-null   object\n",
            " 1   Message   5572 non-null   object\n",
            "dtypes: object(2)\n",
            "memory usage: 87.2+ KB\n"
          ]
        }
      ]
    },
    {
      "cell_type": "code",
      "source": [
        "y = spam['Category']"
      ],
      "metadata": {
        "id": "Gf-I63ruxl_I"
      },
      "execution_count": null,
      "outputs": []
    },
    {
      "cell_type": "code",
      "source": [
        "y.shape"
      ],
      "metadata": {
        "colab": {
          "base_uri": "https://localhost:8080/"
        },
        "id": "qT6vo40qyPls",
        "outputId": "ba10b3df-75f7-4eb1-f018-0a22f44eacb3"
      },
      "execution_count": null,
      "outputs": [
        {
          "output_type": "execute_result",
          "data": {
            "text/plain": [
              "(5572,)"
            ]
          },
          "metadata": {},
          "execution_count": 91
        }
      ]
    },
    {
      "cell_type": "code",
      "source": [
        "stops = stopwords.words('english')\n",
        "ps = PorterStemmer()\n",
        "corpus = []\n",
        "for i in np.arange(0, spam.shape[0]):\n",
        "  review = spam['Message'][i]\n",
        "  review = re.sub('^[a-zA-Z]', ' ', review)\n",
        "  review = review.lower()\n",
        "  review = review.split()\n",
        "  review = [ps.stem(word) for word in review if not word in set(stops)]\n",
        "  review = ' '.join(review)\n",
        "  corpus.append(review)"
      ],
      "metadata": {
        "id": "Rk1IL9-nyYC2"
      },
      "execution_count": null,
      "outputs": []
    },
    {
      "cell_type": "code",
      "source": [
        "from sklearn.feature_extraction.text import CountVectorizer\n",
        "vectorizer = CountVectorizer(max_features = 800)\n",
        "X = vectorizer.fit_transform(corpus).toarray()"
      ],
      "metadata": {
        "id": "P8Bi1Kdg2o8z"
      },
      "execution_count": null,
      "outputs": []
    },
    {
      "cell_type": "code",
      "source": [
        "X.shape"
      ],
      "metadata": {
        "colab": {
          "base_uri": "https://localhost:8080/"
        },
        "id": "YwMQTOih19Vm",
        "outputId": "4024145f-d11e-409e-d23e-370b94853c52"
      },
      "execution_count": null,
      "outputs": [
        {
          "output_type": "execute_result",
          "data": {
            "text/plain": [
              "(5572, 800)"
            ]
          },
          "metadata": {},
          "execution_count": 95
        }
      ]
    },
    {
      "cell_type": "code",
      "source": [
        "from sklearn.ensemble import RandomForestClassifier\n",
        "from sklearn.model_selection import StratifiedKFold, GridSearchCV, KFold, cross_val_score\n",
        "rf = RandomForestClassifier(random_state = 2022)\n",
        "kfold = StratifiedKFold(n_splits = 5, shuffle = True, random_state = 2022)\n",
        "params = {'max_features':[10, 50, 100, 200]}\n",
        "gcv = GridSearchCV(rf, param_grid = params, cv = kfold, verbose = 2, scoring = 'roc_auc')\n",
        "gcv.fit(X,y)\n",
        "print(gcv.best_params_)\n",
        "print(gcv.best_score_)"
      ],
      "metadata": {
        "colab": {
          "base_uri": "https://localhost:8080/"
        },
        "id": "jms0ltDN1Zto",
        "outputId": "e5deed24-9f54-4128-c1d2-e985378efb97"
      },
      "execution_count": null,
      "outputs": [
        {
          "output_type": "stream",
          "name": "stdout",
          "text": [
            "Fitting 5 folds for each of 4 candidates, totalling 20 fits\n",
            "[CV] END ....................................max_features=10; total time=   1.9s\n",
            "[CV] END ....................................max_features=10; total time=   2.0s\n",
            "[CV] END ....................................max_features=10; total time=   1.9s\n",
            "[CV] END ....................................max_features=10; total time=   1.9s\n",
            "[CV] END ....................................max_features=10; total time=   1.9s\n",
            "[CV] END ....................................max_features=50; total time=   5.0s\n",
            "[CV] END ....................................max_features=50; total time=   4.9s\n",
            "[CV] END ....................................max_features=50; total time=   5.0s\n",
            "[CV] END ....................................max_features=50; total time=   4.8s\n",
            "[CV] END ....................................max_features=50; total time=   5.1s\n",
            "[CV] END ...................................max_features=100; total time=   8.5s\n",
            "[CV] END ...................................max_features=100; total time=   8.3s\n",
            "[CV] END ...................................max_features=100; total time=   8.7s\n",
            "[CV] END ...................................max_features=100; total time=   8.0s\n",
            "[CV] END ...................................max_features=100; total time=   8.5s\n",
            "[CV] END ...................................max_features=200; total time=  18.9s\n",
            "[CV] END ...................................max_features=200; total time=  15.3s\n",
            "[CV] END ...................................max_features=200; total time=  15.6s\n",
            "[CV] END ...................................max_features=200; total time=  14.7s\n",
            "[CV] END ...................................max_features=200; total time=  15.5s\n",
            "{'max_features': 10}\n",
            "0.985880580959998\n"
          ]
        }
      ]
    },
    {
      "cell_type": "code",
      "source": [
        "from sklearn.feature_extraction.text import TfidfVectorizer\n",
        "tf_idf = TfidfVectorizer(max_features = 800)\n",
        "X = tf_idf.fit_transform(corpus).toarray()\n",
        "\n",
        "rf = RandomForestClassifier(random_state = 2022)\n",
        "kfold = StratifiedKFold(n_splits = 5, shuffle = True, random_state = 2022)\n",
        "params = {'max_features':[10, 50, 100, 200]}\n",
        "gcv = GridSearchCV(rf, param_grid = params, cv = kfold, verbose = 2, scoring = 'roc_auc')\n",
        "gcv.fit(X,y)\n",
        "print(gcv.best_params_)\n",
        "print(gcv.best_score_)"
      ],
      "metadata": {
        "colab": {
          "base_uri": "https://localhost:8080/"
        },
        "id": "jZL5hbBt1XIw",
        "outputId": "b2fc9857-63b4-47b5-9e1f-9c10a2fae4bb"
      },
      "execution_count": null,
      "outputs": [
        {
          "output_type": "stream",
          "name": "stdout",
          "text": [
            "Fitting 5 folds for each of 4 candidates, totalling 20 fits\n",
            "[CV] END ....................................max_features=10; total time=   2.1s\n",
            "[CV] END ....................................max_features=10; total time=   2.1s\n",
            "[CV] END ....................................max_features=10; total time=   2.1s\n",
            "[CV] END ....................................max_features=10; total time=   2.1s\n",
            "[CV] END ....................................max_features=10; total time=   2.1s\n",
            "[CV] END ....................................max_features=50; total time=   6.0s\n",
            "[CV] END ....................................max_features=50; total time=   5.6s\n",
            "[CV] END ....................................max_features=50; total time=   5.6s\n",
            "[CV] END ....................................max_features=50; total time=   5.3s\n",
            "[CV] END ....................................max_features=50; total time=   5.6s\n",
            "[CV] END ...................................max_features=100; total time=   9.1s\n",
            "[CV] END ...................................max_features=100; total time=  12.8s\n",
            "[CV] END ...................................max_features=100; total time=   9.9s\n",
            "[CV] END ...................................max_features=100; total time=  10.5s\n",
            "[CV] END ...................................max_features=100; total time=  11.5s\n",
            "[CV] END ...................................max_features=200; total time=  18.6s\n",
            "[CV] END ...................................max_features=200; total time=  19.2s\n",
            "[CV] END ...................................max_features=200; total time=  16.9s\n",
            "[CV] END ...................................max_features=200; total time=  15.8s\n",
            "[CV] END ...................................max_features=200; total time=  17.1s\n",
            "{'max_features': 10}\n",
            "0.9868142620347509\n"
          ]
        }
      ]
    },
    {
      "cell_type": "markdown",
      "source": [
        "### Results\n",
        "with CountVectorizer                \n",
        "\n",
        "*   {'max_features': 10} with roc_auc 0.985880580959998\n",
        "\n",
        "\n",
        "with tf_idf\n",
        "\n",
        "* {'max_features': 10} with roc_auc 0.9868142620347509\n",
        "\n",
        "\n"
      ],
      "metadata": {
        "id": "R5E6HdxQ36y6"
      }
    },
    {
      "cell_type": "markdown",
      "source": [
        "# NEWS SARCASM"
      ],
      "metadata": {
        "id": "fxRjIa0K5n13"
      }
    },
    {
      "cell_type": "code",
      "source": [
        "ns_path = \"/content/drive/MyDrive/Datasets/News Sarcasm/Sarcasm_Headlines_Dataset_v2.json\"\n",
        "df = pd.read_json(ns_path, lines = True)\n",
        "df = df[['is_sarcastic', 'headline']]"
      ],
      "metadata": {
        "id": "OP7WO0n_4g_K"
      },
      "execution_count": null,
      "outputs": []
    },
    {
      "cell_type": "code",
      "source": [
        "df.head()"
      ],
      "metadata": {
        "colab": {
          "base_uri": "https://localhost:8080/",
          "height": 206
        },
        "id": "T8i4y_346Kud",
        "outputId": "84e4c7ad-e542-4a4d-b9d2-86c486476028"
      },
      "execution_count": null,
      "outputs": [
        {
          "output_type": "execute_result",
          "data": {
            "text/plain": [
              "   is_sarcastic                                           headline\n",
              "0             1  thirtysomething scientists unveil doomsday clo...\n",
              "1             0  dem rep. totally nails why congress is falling...\n",
              "2             0  eat your veggies: 9 deliciously different recipes\n",
              "3             1  inclement weather prevents liar from getting t...\n",
              "4             1  mother comes pretty close to using word 'strea..."
            ],
            "text/html": [
              "\n",
              "  <div id=\"df-348a62d4-7592-47c3-9087-60bb2395675d\">\n",
              "    <div class=\"colab-df-container\">\n",
              "      <div>\n",
              "<style scoped>\n",
              "    .dataframe tbody tr th:only-of-type {\n",
              "        vertical-align: middle;\n",
              "    }\n",
              "\n",
              "    .dataframe tbody tr th {\n",
              "        vertical-align: top;\n",
              "    }\n",
              "\n",
              "    .dataframe thead th {\n",
              "        text-align: right;\n",
              "    }\n",
              "</style>\n",
              "<table border=\"1\" class=\"dataframe\">\n",
              "  <thead>\n",
              "    <tr style=\"text-align: right;\">\n",
              "      <th></th>\n",
              "      <th>is_sarcastic</th>\n",
              "      <th>headline</th>\n",
              "    </tr>\n",
              "  </thead>\n",
              "  <tbody>\n",
              "    <tr>\n",
              "      <th>0</th>\n",
              "      <td>1</td>\n",
              "      <td>thirtysomething scientists unveil doomsday clo...</td>\n",
              "    </tr>\n",
              "    <tr>\n",
              "      <th>1</th>\n",
              "      <td>0</td>\n",
              "      <td>dem rep. totally nails why congress is falling...</td>\n",
              "    </tr>\n",
              "    <tr>\n",
              "      <th>2</th>\n",
              "      <td>0</td>\n",
              "      <td>eat your veggies: 9 deliciously different recipes</td>\n",
              "    </tr>\n",
              "    <tr>\n",
              "      <th>3</th>\n",
              "      <td>1</td>\n",
              "      <td>inclement weather prevents liar from getting t...</td>\n",
              "    </tr>\n",
              "    <tr>\n",
              "      <th>4</th>\n",
              "      <td>1</td>\n",
              "      <td>mother comes pretty close to using word 'strea...</td>\n",
              "    </tr>\n",
              "  </tbody>\n",
              "</table>\n",
              "</div>\n",
              "      <button class=\"colab-df-convert\" onclick=\"convertToInteractive('df-348a62d4-7592-47c3-9087-60bb2395675d')\"\n",
              "              title=\"Convert this dataframe to an interactive table.\"\n",
              "              style=\"display:none;\">\n",
              "        \n",
              "  <svg xmlns=\"http://www.w3.org/2000/svg\" height=\"24px\"viewBox=\"0 0 24 24\"\n",
              "       width=\"24px\">\n",
              "    <path d=\"M0 0h24v24H0V0z\" fill=\"none\"/>\n",
              "    <path d=\"M18.56 5.44l.94 2.06.94-2.06 2.06-.94-2.06-.94-.94-2.06-.94 2.06-2.06.94zm-11 1L8.5 8.5l.94-2.06 2.06-.94-2.06-.94L8.5 2.5l-.94 2.06-2.06.94zm10 10l.94 2.06.94-2.06 2.06-.94-2.06-.94-.94-2.06-.94 2.06-2.06.94z\"/><path d=\"M17.41 7.96l-1.37-1.37c-.4-.4-.92-.59-1.43-.59-.52 0-1.04.2-1.43.59L10.3 9.45l-7.72 7.72c-.78.78-.78 2.05 0 2.83L4 21.41c.39.39.9.59 1.41.59.51 0 1.02-.2 1.41-.59l7.78-7.78 2.81-2.81c.8-.78.8-2.07 0-2.86zM5.41 20L4 18.59l7.72-7.72 1.47 1.35L5.41 20z\"/>\n",
              "  </svg>\n",
              "      </button>\n",
              "      \n",
              "  <style>\n",
              "    .colab-df-container {\n",
              "      display:flex;\n",
              "      flex-wrap:wrap;\n",
              "      gap: 12px;\n",
              "    }\n",
              "\n",
              "    .colab-df-convert {\n",
              "      background-color: #E8F0FE;\n",
              "      border: none;\n",
              "      border-radius: 50%;\n",
              "      cursor: pointer;\n",
              "      display: none;\n",
              "      fill: #1967D2;\n",
              "      height: 32px;\n",
              "      padding: 0 0 0 0;\n",
              "      width: 32px;\n",
              "    }\n",
              "\n",
              "    .colab-df-convert:hover {\n",
              "      background-color: #E2EBFA;\n",
              "      box-shadow: 0px 1px 2px rgba(60, 64, 67, 0.3), 0px 1px 3px 1px rgba(60, 64, 67, 0.15);\n",
              "      fill: #174EA6;\n",
              "    }\n",
              "\n",
              "    [theme=dark] .colab-df-convert {\n",
              "      background-color: #3B4455;\n",
              "      fill: #D2E3FC;\n",
              "    }\n",
              "\n",
              "    [theme=dark] .colab-df-convert:hover {\n",
              "      background-color: #434B5C;\n",
              "      box-shadow: 0px 1px 3px 1px rgba(0, 0, 0, 0.15);\n",
              "      filter: drop-shadow(0px 1px 2px rgba(0, 0, 0, 0.3));\n",
              "      fill: #FFFFFF;\n",
              "    }\n",
              "  </style>\n",
              "\n",
              "      <script>\n",
              "        const buttonEl =\n",
              "          document.querySelector('#df-348a62d4-7592-47c3-9087-60bb2395675d button.colab-df-convert');\n",
              "        buttonEl.style.display =\n",
              "          google.colab.kernel.accessAllowed ? 'block' : 'none';\n",
              "\n",
              "        async function convertToInteractive(key) {\n",
              "          const element = document.querySelector('#df-348a62d4-7592-47c3-9087-60bb2395675d');\n",
              "          const dataTable =\n",
              "            await google.colab.kernel.invokeFunction('convertToInteractive',\n",
              "                                                     [key], {});\n",
              "          if (!dataTable) return;\n",
              "\n",
              "          const docLinkHtml = 'Like what you see? Visit the ' +\n",
              "            '<a target=\"_blank\" href=https://colab.research.google.com/notebooks/data_table.ipynb>data table notebook</a>'\n",
              "            + ' to learn more about interactive tables.';\n",
              "          element.innerHTML = '';\n",
              "          dataTable['output_type'] = 'display_data';\n",
              "          await google.colab.output.renderOutput(dataTable, element);\n",
              "          const docLink = document.createElement('div');\n",
              "          docLink.innerHTML = docLinkHtml;\n",
              "          element.appendChild(docLink);\n",
              "        }\n",
              "      </script>\n",
              "    </div>\n",
              "  </div>\n",
              "  "
            ]
          },
          "metadata": {},
          "execution_count": 4
        }
      ]
    },
    {
      "cell_type": "code",
      "source": [
        "y = df['is_sarcastic']"
      ],
      "metadata": {
        "id": "BHA6XD7T6SeN"
      },
      "execution_count": null,
      "outputs": []
    },
    {
      "cell_type": "code",
      "source": [
        "stops = stopwords.words('english')\n",
        "ps = PorterStemmer()\n",
        "corpus = []\n",
        "for i in np.arange(0, df.shape[0]):\n",
        "  review = df['headline'][i]\n",
        "  review = re.sub('^[a-zA-Z]', ' ', review)\n",
        "  review = review.lower()\n",
        "  review = review.split()\n",
        "  review = [ps.stem(word) for word in review if not word in set(stops)]\n",
        "  review = ' '.join(review)\n",
        "  corpus.append(review)\n",
        "\n",
        "\n",
        "from sklearn.feature_extraction.text import CountVectorizer\n",
        "vectorizer = CountVectorizer(max_features = 800)\n",
        "X = vectorizer.fit_transform(corpus).toarray()  \n",
        "\n",
        "from sklearn.ensemble import RandomForestClassifier\n",
        "from sklearn.model_selection import StratifiedKFold, GridSearchCV, KFold, cross_val_score\n",
        "rf = RandomForestClassifier(random_state = 2022)\n",
        "kfold = StratifiedKFold(n_splits = 5, shuffle = True, random_state = 2022)\n",
        "params = {'max_features':[10, 50, 100, 200]}\n",
        "gcv = GridSearchCV(rf, param_grid = params, cv = kfold, verbose = 2, scoring = 'roc_auc')\n",
        "gcv.fit(X,y)\n",
        "print(gcv.best_params_)\n",
        "print(gcv.best_score_)"
      ],
      "metadata": {
        "colab": {
          "base_uri": "https://localhost:8080/"
        },
        "id": "KBoUWLDQ6WsN",
        "outputId": "318f006e-249f-4ddd-e51b-09b49c7dd7d1"
      },
      "execution_count": null,
      "outputs": [
        {
          "output_type": "stream",
          "name": "stdout",
          "text": [
            "Fitting 5 folds for each of 4 candidates, totalling 20 fits\n",
            "[CV] END ....................................max_features=10; total time=  34.2s\n",
            "[CV] END ....................................max_features=10; total time=  33.3s\n",
            "[CV] END ....................................max_features=10; total time=  35.1s\n",
            "[CV] END ....................................max_features=10; total time=  34.9s\n",
            "[CV] END ....................................max_features=10; total time=  35.2s\n",
            "[CV] END ....................................max_features=50; total time= 2.0min\n",
            "[CV] END ....................................max_features=50; total time= 2.7min\n",
            "[CV] END ....................................max_features=50; total time= 1.9min\n",
            "[CV] END ....................................max_features=50; total time= 1.9min\n",
            "[CV] END ....................................max_features=50; total time= 2.0min\n",
            "[CV] END ...................................max_features=100; total time= 4.8min\n",
            "[CV] END ...................................max_features=100; total time= 3.9min\n",
            "[CV] END ...................................max_features=100; total time= 3.7min\n",
            "[CV] END ...................................max_features=100; total time= 3.8min\n",
            "[CV] END ...................................max_features=100; total time= 3.8min\n",
            "[CV] END ...................................max_features=200; total time= 7.2min\n",
            "[CV] END ...................................max_features=200; total time= 7.4min\n",
            "[CV] END ...................................max_features=200; total time= 7.1min\n"
          ]
        }
      ]
    }
  ]
}